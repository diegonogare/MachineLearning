{
  "nbformat": 4,
  "nbformat_minor": 0,
  "metadata": {
    "colab": {
      "provenance": [],
      "authorship_tag": "ABX9TyPhTtSlQTtzCm/xw0VrnuhX"
    },
    "kernelspec": {
      "name": "python3",
      "display_name": "Python 3"
    },
    "language_info": {
      "name": "python"
    }
  },
  "cells": [
    {
      "cell_type": "markdown",
      "source": [
        "#Modelo de Classificação - Multi-Layer Perceptron - Dataset MNist\n",
        "\n",
        "O algoritmo de redes neurais Multi-Layer Perceptron (MLP) é um tipo de rede neural artificial que é composta por várias camadas de neurônios interconectados. Cada neurônio recebe sinais de entrada de outros neurônios nas camadas anteriores e produz um sinal de saída que é enviado para outros neurônios nas camadas posteriores. A rede neural é treinada usando um conjunto de dados de treinamento, onde os pesos das conexões entre os neurônios são ajustados de modo a minimizar um erro entre as saídas desejadas e as saídas reais da rede.\n",
        "\n",
        "O algoritmo MLP é amplamente utilizado em muitas aplicações, como processamento de linguagem natural, reconhecimento de imagem e sistemas de recomendação. Ele é capaz de aprender representações complexas dos dados e é um dos algoritmos de redes neurais mais poderosos e versáteis."
      ],
      "metadata": {
        "id": "_qCQJlPyKX7n"
      }
    },
    {
      "cell_type": "code",
      "execution_count": null,
      "metadata": {
        "id": "Vdyk_VWNDocx"
      },
      "outputs": [],
      "source": [
        "from sklearn.datasets import fetch_openml\n",
        "\n",
        "import pandas as pd\n",
        "import numpy as np\n",
        "\n",
        "import matplotlib\n",
        "import matplotlib.pyplot as plt\n",
        "\n",
        "from sklearn.model_selection import train_test_split\n",
        "from sklearn.neural_network import MLPClassifier\n",
        "\n",
        "from sklearn.metrics import confusion_matrix,ConfusionMatrixDisplay\n",
        "\n",
        "import time"
      ]
    },
    {
      "cell_type": "code",
      "source": [
        "mnist = fetch_openml('mnist_784')"
      ],
      "metadata": {
        "id": "eNg97O7EDxa8"
      },
      "execution_count": null,
      "outputs": []
    },
    {
      "cell_type": "code",
      "source": [
        "mnist"
      ],
      "metadata": {
        "id": "Sg6VjogCDxdz"
      },
      "execution_count": null,
      "outputs": []
    },
    {
      "cell_type": "code",
      "source": [
        "X = mnist[\"data\"]\n",
        "y = mnist[\"target\"]\n",
        "\n",
        "print(X.shape)\n",
        "print(y.shape)"
      ],
      "metadata": {
        "id": "CvfIy_VHDxgm"
      },
      "execution_count": null,
      "outputs": []
    },
    {
      "cell_type": "code",
      "source": [
        "X_train, X_test, y_train, y_test = train_test_split(X, y, test_size=0.2, random_state=42)"
      ],
      "metadata": {
        "id": "GbHx9bNNDxiu"
      },
      "execution_count": null,
      "outputs": []
    },
    {
      "cell_type": "markdown",
      "source": [
        "Para treinar a rede neural, é necessário passar alguns hiperparâmetros, como por exemplo a quantidade de camadas escondidas e a quantidade de neurônios. Neste exemplo são implementadas três camadas ocultas contendo respectivamente 400, 200 e 50 neurônios. Também foi definido o máximo de 50.000 épocas de treinamento para o modelo."
      ],
      "metadata": {
        "id": "pWEcs7He26-O"
      }
    },
    {
      "cell_type": "code",
      "source": [
        "inicio = time.time()\n",
        "modelo_nn = MLPClassifier(solver='sgd', max_iter=50000, learning_rate_init = 0.01, hidden_layer_sizes=(400, 200, 50), random_state=42)\n",
        "modelo_nn.fit(X_train,y_train)\n",
        "termino = time.time()\n",
        "print(\"--- %s segundos para treinar o modelo ---\" % (termino - inicio))"
      ],
      "metadata": {
        "id": "9SRMqQ2cDxkr"
      },
      "execution_count": null,
      "outputs": []
    },
    {
      "cell_type": "code",
      "source": [
        "inicio = time.time()\n",
        "predicao = modelo_nn.predict(X_test)\n",
        "termino = time.time()\n",
        "print(predicao)\n",
        "print(\"--- %s segundos para fazer o scoring do modelo ---\" % (termino - inicio))"
      ],
      "metadata": {
        "id": "v4GrGGUzEoqp"
      },
      "execution_count": null,
      "outputs": []
    },
    {
      "cell_type": "code",
      "source": [
        "matriz_confusao = confusion_matrix(y_test, predicao)\n",
        "print(matriz_confusao)\n",
        "\n",
        "matriz_confusao_visual = ConfusionMatrixDisplay(confusion_matrix=matriz_confusao,display_labels = np.array([1,2]))\n",
        "matriz_confusao_visual.plot();"
      ],
      "metadata": {
        "id": "g4YQ-r33Gj6s"
      },
      "execution_count": null,
      "outputs": []
    }
  ]
}