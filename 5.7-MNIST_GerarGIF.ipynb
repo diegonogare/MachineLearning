{
  "nbformat": 4,
  "nbformat_minor": 0,
  "metadata": {
    "colab": {
      "provenance": [],
      "mount_file_id": "https://github.com/diegonogare/MachineLearning/blob/main/5.7-MNIST_GerarGIF.ipynb",
      "authorship_tag": "ABX9TyP9tMuy3S2loYvBNoD1pqjY"
    },
    "kernelspec": {
      "name": "python3",
      "display_name": "Python 3"
    },
    "language_info": {
      "name": "python"
    }
  },
  "cells": [
    {
      "cell_type": "markdown",
      "source": [
        "# Gerar um GIF animado\n",
        "\n",
        "A partir dos dígitos gerados com a rede GAN, um GIF animado foi feito para mostrar a evolução no decorrer das épocas de treino e a melhora na geração artificial dos dígitos da base MNIST"
      ],
      "metadata": {
        "id": "Guc78W0KMxVl"
      }
    },
    {
      "cell_type": "code",
      "execution_count": null,
      "metadata": {
        "id": "IzrS_rvxfG0U"
      },
      "outputs": [],
      "source": [
        "import glob\n",
        "from PIL import Image, ImageDraw, ImageFont"
      ]
    },
    {
      "cell_type": "code",
      "source": [
        "!wget \"https://github.com/diegonogare/MachineLearning/blob/main/arial.ttf?raw=true\""
      ],
      "metadata": {
        "id": "zpUyl3Nt8c4A",
        "outputId": "aea8d2a2-f441-46ec-dc57-c5870fe11925",
        "colab": {
          "base_uri": "https://localhost:8080/"
        }
      },
      "execution_count": null,
      "outputs": [
        {
          "output_type": "stream",
          "name": "stdout",
          "text": [
            "--2022-12-05 11:53:17--  https://github.com/diegonogare/MachineLearning/blob/main/arial.ttf?raw=true\n",
            "Resolving github.com (github.com)... 20.27.177.113\n",
            "Connecting to github.com (github.com)|20.27.177.113|:443... connected.\n",
            "HTTP request sent, awaiting response... 302 Found\n",
            "Location: https://github.com/diegonogare/MachineLearning/raw/main/arial.ttf [following]\n",
            "--2022-12-05 11:53:17--  https://github.com/diegonogare/MachineLearning/raw/main/arial.ttf\n",
            "Reusing existing connection to github.com:443.\n",
            "HTTP request sent, awaiting response... 302 Found\n",
            "Location: https://raw.githubusercontent.com/diegonogare/MachineLearning/main/arial.ttf [following]\n",
            "--2022-12-05 11:53:17--  https://raw.githubusercontent.com/diegonogare/MachineLearning/main/arial.ttf\n",
            "Resolving raw.githubusercontent.com (raw.githubusercontent.com)... 185.199.108.133, 185.199.109.133, 185.199.110.133, ...\n",
            "Connecting to raw.githubusercontent.com (raw.githubusercontent.com)|185.199.108.133|:443... connected.\n",
            "HTTP request sent, awaiting response... 200 OK\n",
            "Length: 367112 (359K) [application/octet-stream]\n",
            "Saving to: ‘arial.ttf?raw=true’\n",
            "\n",
            "arial.ttf?raw=true  100%[===================>] 358.51K  --.-KB/s    in 0.04s   \n",
            "\n",
            "2022-12-05 11:53:18 (8.26 MB/s) - ‘arial.ttf?raw=true’ saved [367112/367112]\n",
            "\n"
          ]
        }
      ]
    },
    {
      "cell_type": "code",
      "source": [
        "!mv \"/content/arial.ttf?raw=true\" \"/content/arial.ttf\""
      ],
      "metadata": {
        "id": "w8lzHmwH9ZZT"
      },
      "execution_count": null,
      "outputs": []
    },
    {
      "cell_type": "code",
      "source": [
        "epoca = 0\n",
        "imagens_titulo = []\n",
        "\n",
        "frames = [Image.open(image) for image in glob.glob(\"/content/drive/MyDrive/Digitos_GAN/digito_gerado_*.png\")]\n",
        "fonte_titulo = ImageFont.truetype(\"/content/arial.ttf\", 50)\n",
        "fonte_autor = ImageFont.truetype(\"/content/arial.ttf\", 30)\n",
        "\n",
        "total_epocas = len(frames)\n",
        "\n",
        "for imagem in frames:\n",
        "  epoca += 1\n",
        "  my_image = imagem\n",
        "  title_text = str(\"Época \" + str(epoca) + \"/\" + str(total_epocas))\n",
        "  image_editable = ImageDraw.Draw(my_image)  \n",
        "  image_editable.rectangle(xy=(0,0,340,80), fill=(200,200,200))\n",
        "  image_editable.rectangle(xy=(490,670,720,720), fill=(200,200,200))\n",
        "  image_editable.text(xy=(15,15), text=title_text, fill=(0,121,150), font=fonte_titulo)  \n",
        "  image_editable.text(xy=(500,680), text=\"@DiegoNogare\", fill=(0,121,150), font=fonte_autor)\n",
        "  imagens_titulo.append(my_image)\n",
        "\n",
        "frame_one = imagens_titulo[0]\n",
        "frame_one.save(\"digitos.gif\", format=\"GIF\", append_images=frames,\n",
        "            save_all=True, duration=300, loop=0)\n",
        "\n"
      ],
      "metadata": {
        "id": "cncc6UNxhRmt"
      },
      "execution_count": null,
      "outputs": []
    }
  ]
}