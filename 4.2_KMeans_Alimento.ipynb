{
  "nbformat": 4,
  "nbformat_minor": 0,
  "metadata": {
    "colab": {
      "provenance": [],
      "authorship_tag": "ABX9TyMmgDeNs9h86KSvhBJTWnJr"
    },
    "kernelspec": {
      "name": "python3",
      "display_name": "Python 3"
    },
    "language_info": {
      "name": "python"
    }
  },
  "cells": [
    {
      "cell_type": "code",
      "execution_count": 1,
      "metadata": {
        "id": "mQ8sOqH3cN_Y"
      },
      "outputs": [],
      "source": [
        "from sklearn.cluster import KMeans"
      ]
    }
  ]
}