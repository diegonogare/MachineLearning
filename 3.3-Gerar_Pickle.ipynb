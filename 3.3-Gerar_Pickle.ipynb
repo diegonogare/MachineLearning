{
  "nbformat": 4,
  "nbformat_minor": 0,
  "metadata": {
    "colab": {
      "provenance": [],
      "authorship_tag": "ABX9TyO+V1ZCJQMh4vyccaAJXoqv"
    },
    "kernelspec": {
      "name": "python3",
      "display_name": "Python 3"
    },
    "language_info": {
      "name": "python"
    }
  },
  "cells": [
    {
      "cell_type": "markdown",
      "source": [
        "# Serializar o modelo com Pickle\n",
        "\n",
        "A serialização é o processo de convertir um objeto em um formato que pode ser armazenado em disco ou transmitido pela rede. Isso é útil quando você deseja salvar o estado de um objeto em um arquivo e restaurá-lo posteriormente, ou compartilhar um objeto com outro programa ou computador.\n",
        "\n",
        "O módulo pickle do Python fornece uma maneira fácil de serializar e desserializar objetos. Para serializar um objeto usando pickle, basta chamar o método dump do módulo pickle, passando o objeto e o arquivo onde ele deve ser salvo. Para desserializar um objeto, basta chamar o método load do módulo pickle, passando o arquivo onde o objeto foi salvo.\n",
        "\n",
        "O pickle pode ser usado para serializar qualquer objeto do Python, incluindo modelos treinados de machine learning. Isso é útil quando você deseja salvar o estado de um modelo treinado em um arquivo e restaurá-lo posteriormente, ou compartilhar um modelo treinado com outro programa ou computador."
      ],
      "metadata": {
        "id": "LDc7XCGiMJvZ"
      }
    },
    {
      "cell_type": "code",
      "execution_count": null,
      "metadata": {
        "id": "2tAOiNgh5nbT"
      },
      "outputs": [],
      "source": [
        "from sklearn import datasets\n",
        "from sklearn.neighbors import KNeighborsClassifier\n",
        "from sklearn.model_selection import train_test_split\n",
        "\n",
        "import joblib\n",
        "\n",
        "import time"
      ]
    },
    {
      "cell_type": "code",
      "source": [
        "iris = datasets.load_iris()\n",
        "X = iris.data\n",
        "y = iris.target"
      ],
      "metadata": {
        "id": "20p4crJV5n4C"
      },
      "execution_count": null,
      "outputs": []
    },
    {
      "cell_type": "code",
      "source": [
        "X_train, X_test, y_train, y_test = train_test_split(X, y, test_size=0.2, random_state=42)"
      ],
      "metadata": {
        "id": "IdiHYVlT5n6_"
      },
      "execution_count": null,
      "outputs": []
    },
    {
      "cell_type": "code",
      "source": [
        "inicio = time.time()\n",
        "modelo_knn = KNeighborsClassifier(n_neighbors=3)\n",
        "modelo_knn.fit(X_train,y_train)\n",
        "termino = time.time()\n",
        "print(\"--- %s segundos para treinar o modelo ---\" % (termino - inicio))"
      ],
      "metadata": {
        "colab": {
          "base_uri": "https://localhost:8080/"
        },
        "id": "norntUBP5n9m",
        "outputId": "a23cf5f9-0d11-4e7e-9295-c78eda795401"
      },
      "execution_count": null,
      "outputs": [
        {
          "output_type": "stream",
          "name": "stdout",
          "text": [
            "--- 0.0039784908294677734 segundos para treinar o modelo ---\n"
          ]
        }
      ]
    },
    {
      "cell_type": "code",
      "source": [
        "inicio = time.time()\n",
        "predicao = modelo_knn.predict(X_test)\n",
        "termino = time.time()\n",
        "print(predicao)\n",
        "print(\"--- %s segundos para fazer o scoring do modelo ---\" % (termino - inicio))"
      ],
      "metadata": {
        "colab": {
          "base_uri": "https://localhost:8080/"
        },
        "id": "zYqNVYfl5oAI",
        "outputId": "510976cf-9e3d-4470-d246-56590e04bd9e"
      },
      "execution_count": null,
      "outputs": [
        {
          "output_type": "stream",
          "name": "stdout",
          "text": [
            "[1 0 2 1 1 0 1 2 1 1 2 0 0 0 0 1 2 1 1 2 0 2 0 2 2 2 2 2 0 0]\n",
            "--- 0.005354642868041992 segundos para fazer o scoring do modelo ---\n"
          ]
        }
      ]
    },
    {
      "cell_type": "code",
      "source": [
        "joblib.dump(modelo_knn, \"modelo_knn_iris.pkl\")"
      ],
      "metadata": {
        "colab": {
          "base_uri": "https://localhost:8080/"
        },
        "id": "13LEQLFX5oCU",
        "outputId": "00056e09-6721-45f5-a8ea-dc6d4692cc68"
      },
      "execution_count": null,
      "outputs": [
        {
          "output_type": "execute_result",
          "data": {
            "text/plain": [
              "['modelo_knn_iris.pkl']"
            ]
          },
          "metadata": {},
          "execution_count": 9
        }
      ]
    },
    {
      "cell_type": "markdown",
      "source": [
        "### No outro arquivo, para ler o Pickle"
      ],
      "metadata": {
        "id": "qRkpqEqo6wZs"
      }
    },
    {
      "cell_type": "code",
      "source": [
        "modelo_knn_recuperado = joblib.load(\"modelo_knn_iris.pkl\")"
      ],
      "metadata": {
        "id": "8P3xKWP06zci"
      },
      "execution_count": null,
      "outputs": []
    },
    {
      "cell_type": "code",
      "source": [
        "inicio = time.time()\n",
        "predicao = modelo_knn_recuperado.predict(X_test)\n",
        "termino = time.time()\n",
        "print(predicao)\n",
        "print(\"--- %s segundos para fazer o scoring do modelo ---\" % (termino - inicio))"
      ],
      "metadata": {
        "colab": {
          "base_uri": "https://localhost:8080/"
        },
        "id": "_yH5pVdk68Nt",
        "outputId": "d8df2ace-5761-4ac0-fd1e-df2f1486ff2d"
      },
      "execution_count": null,
      "outputs": [
        {
          "output_type": "stream",
          "name": "stdout",
          "text": [
            "[1 0 2 1 1 0 1 2 1 1 2 0 0 0 0 1 2 1 1 2 0 2 0 2 2 2 2 2 0 0]\n",
            "--- 0.005202293395996094 segundos para fazer o scoring do modelo ---\n"
          ]
        }
      ]
    }
  ]
}