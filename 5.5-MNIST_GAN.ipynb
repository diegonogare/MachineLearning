{
  "nbformat": 4,
  "nbformat_minor": 0,
  "metadata": {
    "colab": {
      "provenance": [],
      "mount_file_id": "https://github.com/diegonogare/MachineLearning/blob/main/5.5-MNIST_GAN.ipynb",
      "authorship_tag": "ABX9TyNu9EaC71t1tNSRW/jZNfuN"
    },
    "kernelspec": {
      "name": "python3",
      "display_name": "Python 3"
    },
    "language_info": {
      "name": "python"
    }
  },
  "cells": [
    {
      "cell_type": "markdown",
      "source": [
        "#Treinar a rede GAN para gerar novos digitos\n",
        "\n",
        "\n",
        "Uma Rede Generativa Adversária (GAN) é um tipo de modelo de aprendizado de máquina que é capaz de gerar novos dados que se parecem com os dados de treinamento. Isso é feito treinando dois modelos de rede neural separados, um chamado gerador e outro chamado discriminador, para trabalharem juntos.\n",
        "\n",
        "O gerador tenta criar novos dados que se pareçam o mais possível com os dados de treinamento, enquanto o discriminador tenta diferenciar os dados gerados pelo gerador dos dados de treinamento reais. O gerador é treinado para tentar enganar o discriminador, enquanto o discriminador é treinado para ficar cada vez melhor em distinguir os dados gerados dos dados reais.\n",
        "\n",
        "Desta forma, o gerador aprende a criar novos dados que são tão bons quanto possível, enquanto o discriminador aprende a identificar os dados gerados. É uma abordagem interessante para gerar novos dados que podem ser úteis em várias aplicações, como gerar imagens realistas a partir de amostras de treinamento ou criar novas músicas com base em exemplos de músicas existentes."
      ],
      "metadata": {
        "id": "25dDKEMx0KL8"
      }
    },
    {
      "cell_type": "code",
      "source": [
        "#!pip uninstall tensorflow\n",
        "#!pip install tensorflow\n",
        "\n",
        "#!pip uninstall keras\n",
        "#!pip install keras"
      ],
      "metadata": {
        "id": "QR27aFyLkagy"
      },
      "execution_count": 1,
      "outputs": []
    },
    {
      "cell_type": "code",
      "execution_count": 2,
      "metadata": {
        "id": "Am5PIHUC0Cp9"
      },
      "outputs": [],
      "source": [
        "import os\n",
        "import numpy as np\n",
        "import matplotlib.pyplot as plt\n",
        "from tqdm import tqdm\n",
        "\n",
        "#from tensorflow.keras.layers import Activation, Dense\n",
        "from tensorflow.keras.layers import Reshape, Dense, Dropout, Flatten\n",
        "from tensorflow.keras.layers import Convolution2D, UpSampling2D\n",
        "from tensorflow.keras.optimizers.legacy import Adam\n",
        "\n",
        "from keras.layers import Input\n",
        "from keras.models import Model, Sequential\n",
        "#from keras.layers.core import Reshape, Dense, Dropout, Flatten\n",
        "from keras.layers import LeakyReLU\n",
        "#from keras.layers.convolutional import Convolution2D, UpSampling2D\n",
        "from keras.layers import BatchNormalization\n",
        "from keras.datasets import mnist\n",
        "#from keras.optimizers import Adam\n",
        "from keras import backend as K\n",
        "from keras import initializers\n",
        "\n",
        "os.environ[\"KERAS_BACKEND\"] = \"tensorflow\""
      ]
    },
    {
      "cell_type": "markdown",
      "source": [
        "O conjunto de dados de treinamento foi normalizado para valores entre **-1 e 1**. Esse ajuste é necessário para utilizar a função de ativação **Tangente Hiperbólica** (*tanh*) da ultima camada da rede geradora."
      ],
      "metadata": {
        "id": "HGHqO2AgbN0z"
      }
    },
    {
      "cell_type": "code",
      "source": [
        "np.random.seed(1000)\n",
        "\n",
        "(X_train, y_train), (X_test, y_test) = mnist.load_data()\n",
        "X_train = (X_train.astype(np.float32) - 127.5)/127.5\n",
        "X_train = X_train.reshape(60000, 784)\n",
        "\n",
        "adam = Adam(learning_rate=0.0002, beta_1=0.5)"
      ],
      "metadata": {
        "id": "0nbV7JSc0kgT",
        "outputId": "652354be-bb0d-4f12-e57b-9959cc5444d9",
        "colab": {
          "base_uri": "https://localhost:8080/"
        }
      },
      "execution_count": 3,
      "outputs": [
        {
          "output_type": "stream",
          "name": "stdout",
          "text": [
            "Downloading data from https://storage.googleapis.com/tensorflow/tf-keras-datasets/mnist.npz\n",
            "11490434/11490434 [==============================] - 0s 0us/step\n"
          ]
        }
      ]
    },
    {
      "cell_type": "code",
      "source": [
        "randomDim = 100\n",
        "adam = Adam(learning_rate=0.0002, beta_1=0.5)"
      ],
      "metadata": {
        "id": "cBKc4ern1Gac"
      },
      "execution_count": 4,
      "outputs": []
    },
    {
      "cell_type": "code",
      "source": [
        "generator = Sequential()\n",
        "generator.add(Dense(256, input_dim=randomDim, kernel_initializer=initializers.RandomNormal(stddev=0.02)))\n",
        "generator.add(LeakyReLU(0.2))\n",
        "generator.add(Dense(512))\n",
        "generator.add(LeakyReLU(0.2))\n",
        "generator.add(Dense(1024))\n",
        "generator.add(LeakyReLU(0.2))\n",
        "generator.add(Dense(784, activation='tanh'))\n",
        "generator.compile(loss='binary_crossentropy', optimizer=adam)"
      ],
      "metadata": {
        "id": "YASk6fSS1W_g"
      },
      "execution_count": 5,
      "outputs": []
    },
    {
      "cell_type": "code",
      "source": [
        "discriminator = Sequential()\n",
        "discriminator.add(Dense(1024, input_dim=784, kernel_initializer=initializers.RandomNormal(stddev=0.02)))\n",
        "discriminator.add(LeakyReLU(0.2))\n",
        "discriminator.add(Dropout(0.3))\n",
        "discriminator.add(Dense(512))\n",
        "discriminator.add(LeakyReLU(0.2))\n",
        "discriminator.add(Dropout(0.3))\n",
        "discriminator.add(Dense(256))\n",
        "discriminator.add(LeakyReLU(0.2))\n",
        "discriminator.add(Dropout(0.3))\n",
        "discriminator.add(Dense(1, activation='sigmoid'))\n",
        "discriminator.compile(loss='binary_crossentropy', optimizer=adam)"
      ],
      "metadata": {
        "id": "jzbQuiYPZxkE"
      },
      "execution_count": 6,
      "outputs": []
    },
    {
      "cell_type": "code",
      "source": [
        "discriminator.trainable = False\n",
        "ganInput = Input(shape=(randomDim,))\n",
        "x = generator(ganInput)\n",
        "ganOutput = discriminator(x)\n",
        "gan = Model(inputs=ganInput, outputs=ganOutput)\n",
        "gan.compile(loss='binary_crossentropy', optimizer=adam)\n",
        "\n",
        "dLosses = []\n",
        "gLosses = []"
      ],
      "metadata": {
        "id": "HlrnzuaKZxa0"
      },
      "execution_count": 7,
      "outputs": []
    },
    {
      "cell_type": "code",
      "source": [
        "def plotLoss():\n",
        "    plt.figure(figsize=(10, 8))\n",
        "    plt.plot(dLosses, label='Discriminitive loss')\n",
        "    plt.plot(gLosses, label='Generative loss')\n",
        "    plt.xlabel('Epoch')\n",
        "    plt.ylabel('Loss')\n",
        "    plt.legend()\n",
        "    plt.savefig(\"/content/drive/MyDrive/GAN_Mack24/Funcao_Perda.png\")\n",
        ""
      ],
      "metadata": {
        "id": "Cf8prOt51XF-"
      },
      "execution_count": 8,
      "outputs": []
    },
    {
      "cell_type": "code",
      "source": [
        "def plotGeneratedImages(epoch, examples=100, dim=(10, 10), figsize=(10, 10)):\n",
        "    noise = np.random.normal(0, 1, size=[examples, randomDim])\n",
        "    generatedImages = generator.predict(noise)\n",
        "    generatedImages = generatedImages.reshape(examples, 28, 28)\n",
        "\n",
        "    plt.figure(figsize=figsize)\n",
        "    for i in range(generatedImages.shape[0]):\n",
        "        plt.subplot(dim[0], dim[1], i+1)\n",
        "        plt.imshow(generatedImages[i], interpolation='nearest', cmap='gray_r')\n",
        "        plt.axis('off')\n",
        "    plt.tight_layout()\n",
        "    plt.savefig('/content/drive/MyDrive/GAN_Mack24/digito_gerado_%d.png' % epoch)"
      ],
      "metadata": {
        "id": "z9NrU-7lXh8O"
      },
      "execution_count": 9,
      "outputs": []
    },
    {
      "cell_type": "code",
      "source": [
        "def saveModels():\n",
        "    generator.save('/content/drive/MyDrive/GAN_Mack24/gerador.h5')\n",
        "    discriminator.save('/content/drive/MyDrive/GAN_Mack24/discriminador.h5')"
      ],
      "metadata": {
        "id": "fA_0uywNPc35"
      },
      "execution_count": 10,
      "outputs": []
    },
    {
      "cell_type": "markdown",
      "source": [
        "O treino do modelo é feito em um *loop* aninhado. O primeiro vai iterar com o total de épocas definidos por parâmetro do usuário, e em cada época é feito um novo *loop* que é calculado a partir da quantidade da amostra dividido pelo tamanho do *batch*. Se o valor do *batch* for baixo vai gerar uma iteração interna com mais repetições internas, por outro lado se o *batch* for alto, vai gerar menos iteração no *loop* interno.\n",
        "O tamanho do *batch* também impacta no tamanho do ruído que será inserido na imagem original para que a rede possa ser treinada. Se existir muito ruído, a rede irá demorar mais para convergir e se o ruído for baixo, a rede não terá generalização suficiente para ser efetiva."
      ],
      "metadata": {
        "id": "pba-ddzscDXw"
      }
    },
    {
      "cell_type": "code",
      "source": [
        "def train(epochs=1, batchSize=128):\n",
        "    batchCount = int(X_train.shape[0] / batchSize)\n",
        "    print('Épocas:', epochs)\n",
        "    print('Batch size:', batchSize)\n",
        "    print('Batch por épocas:', batchCount)\n",
        "\n",
        "    for e in range(1, epochs+1):\n",
        "        print('-'*15, 'Época %d' % e, '-'*15)\n",
        "        for _ in  tqdm(range(batchCount)):\n",
        "            noise = np.random.normal(0, 1, size=[batchSize, randomDim])\n",
        "            imageBatch = X_train[np.random.randint(0, X_train.shape[0], size=batchSize)]\n",
        "\n",
        "            generatedImages = generator.predict(noise, verbose=0)\n",
        "            X = np.concatenate([imageBatch, generatedImages])\n",
        "\n",
        "            yDis = np.zeros(2*batchSize)\n",
        "            yDis[:batchSize] = 0.9\n",
        "\n",
        "            discriminator.trainable = True\n",
        "            dloss = discriminator.train_on_batch(X, yDis)\n",
        "\n",
        "            noise = np.random.normal(0, 1, size=[batchSize, randomDim])\n",
        "            yGen = np.ones(batchSize)\n",
        "            discriminator.trainable = False\n",
        "            gloss = gan.train_on_batch(noise, yGen)\n",
        "\n",
        "        dLosses.append(dloss)\n",
        "        gLosses.append(gloss)\n",
        "\n",
        "        plotGeneratedImages(e)"
      ],
      "metadata": {
        "id": "XG2MEfi1WQV-"
      },
      "execution_count": 11,
      "outputs": []
    },
    {
      "cell_type": "code",
      "source": [
        "train(100, 128)"
      ],
      "metadata": {
        "id": "3lw0fqSv1rRp",
        "outputId": "6efbf62a-aec1-46cd-a970-eaa7449a9f89",
        "colab": {
          "base_uri": "https://localhost:8080/"
        }
      },
      "execution_count": null,
      "outputs": [
        {
          "output_type": "stream",
          "name": "stdout",
          "text": [
            "Épocas: 100\n",
            "Batch size: 128\n",
            "Batch por épocas: 468\n",
            "--------------- Época 1 ---------------\n"
          ]
        },
        {
          "output_type": "stream",
          "name": "stderr",
          "text": [
            "100%|██████████| 468/468 [01:19<00:00,  5.88it/s]\n"
          ]
        },
        {
          "output_type": "stream",
          "name": "stdout",
          "text": [
            "4/4 [==============================] - 0s 4ms/step\n",
            "--------------- Época 2 ---------------\n"
          ]
        },
        {
          "output_type": "stream",
          "name": "stderr",
          "text": [
            "100%|██████████| 468/468 [01:08<00:00,  6.85it/s]"
          ]
        },
        {
          "output_type": "stream",
          "name": "stdout",
          "text": [
            "4/4 [==============================] - 0s 3ms/step\n"
          ]
        },
        {
          "output_type": "stream",
          "name": "stderr",
          "text": [
            "\n"
          ]
        },
        {
          "output_type": "stream",
          "name": "stdout",
          "text": [
            "--------------- Época 3 ---------------\n"
          ]
        },
        {
          "output_type": "stream",
          "name": "stderr",
          "text": [
            "100%|██████████| 468/468 [01:06<00:00,  7.01it/s]"
          ]
        },
        {
          "output_type": "stream",
          "name": "stdout",
          "text": [
            "4/4 [==============================] - 0s 4ms/step\n"
          ]
        },
        {
          "output_type": "stream",
          "name": "stderr",
          "text": [
            "\n"
          ]
        },
        {
          "output_type": "stream",
          "name": "stdout",
          "text": [
            "--------------- Época 4 ---------------\n"
          ]
        },
        {
          "output_type": "stream",
          "name": "stderr",
          "text": [
            "100%|██████████| 468/468 [01:07<00:00,  6.96it/s]"
          ]
        },
        {
          "output_type": "stream",
          "name": "stdout",
          "text": [
            "4/4 [==============================] - 0s 4ms/step\n"
          ]
        },
        {
          "output_type": "stream",
          "name": "stderr",
          "text": [
            "\n"
          ]
        },
        {
          "output_type": "stream",
          "name": "stdout",
          "text": [
            "--------------- Época 5 ---------------\n"
          ]
        },
        {
          "output_type": "stream",
          "name": "stderr",
          "text": [
            "100%|██████████| 468/468 [01:06<00:00,  6.99it/s]"
          ]
        },
        {
          "output_type": "stream",
          "name": "stdout",
          "text": [
            "\r1/4 [======>.......................] - ETA: 0s"
          ]
        },
        {
          "output_type": "stream",
          "name": "stderr",
          "text": [
            "\n"
          ]
        },
        {
          "output_type": "stream",
          "name": "stdout",
          "text": [
            "\b\b\b\b\b\b\b\b\b\b\b\b\b\b\b\b\b\b\b\b\b\b\b\b\b\b\b\b\b\b\b\b\b\b\b\b\b\b\b\b\b\b\b\b\b\b\r4/4 [==============================] - 0s 4ms/step\n",
            "--------------- Época 6 ---------------\n"
          ]
        },
        {
          "output_type": "stream",
          "name": "stderr",
          "text": [
            "100%|██████████| 468/468 [01:08<00:00,  6.86it/s]"
          ]
        },
        {
          "output_type": "stream",
          "name": "stdout",
          "text": [
            "4/4 [==============================] - 0s 3ms/step\n"
          ]
        },
        {
          "output_type": "stream",
          "name": "stderr",
          "text": [
            "\n"
          ]
        },
        {
          "output_type": "stream",
          "name": "stdout",
          "text": [
            "--------------- Época 7 ---------------\n"
          ]
        },
        {
          "output_type": "stream",
          "name": "stderr",
          "text": [
            "100%|██████████| 468/468 [01:06<00:00,  7.02it/s]"
          ]
        },
        {
          "output_type": "stream",
          "name": "stdout",
          "text": [
            "\r1/4 [======>.......................] - ETA: 0s"
          ]
        },
        {
          "output_type": "stream",
          "name": "stderr",
          "text": [
            "\n"
          ]
        },
        {
          "output_type": "stream",
          "name": "stdout",
          "text": [
            "\b\b\b\b\b\b\b\b\b\b\b\b\b\b\b\b\b\b\b\b\b\b\b\b\b\b\b\b\b\b\b\b\b\b\b\b\b\b\b\b\b\b\b\b\b\b\r4/4 [==============================] - 0s 4ms/step\n",
            "--------------- Época 8 ---------------\n"
          ]
        },
        {
          "output_type": "stream",
          "name": "stderr",
          "text": [
            "100%|██████████| 468/468 [01:07<00:00,  6.90it/s]"
          ]
        },
        {
          "output_type": "stream",
          "name": "stdout",
          "text": [
            "4/4 [==============================] - 0s 3ms/step\n"
          ]
        },
        {
          "output_type": "stream",
          "name": "stderr",
          "text": [
            "\n"
          ]
        },
        {
          "output_type": "stream",
          "name": "stdout",
          "text": [
            "--------------- Época 9 ---------------\n"
          ]
        },
        {
          "output_type": "stream",
          "name": "stderr",
          "text": [
            "100%|██████████| 468/468 [01:06<00:00,  7.02it/s]\n"
          ]
        },
        {
          "output_type": "stream",
          "name": "stdout",
          "text": [
            "4/4 [==============================] - 0s 3ms/step\n",
            "--------------- Época 10 ---------------\n"
          ]
        },
        {
          "output_type": "stream",
          "name": "stderr",
          "text": [
            "100%|██████████| 468/468 [01:08<00:00,  6.85it/s]"
          ]
        },
        {
          "output_type": "stream",
          "name": "stdout",
          "text": [
            "\r1/4 [======>.......................] - ETA: 0s"
          ]
        },
        {
          "output_type": "stream",
          "name": "stderr",
          "text": [
            "\n"
          ]
        },
        {
          "output_type": "stream",
          "name": "stdout",
          "text": [
            "\b\b\b\b\b\b\b\b\b\b\b\b\b\b\b\b\b\b\b\b\b\b\b\b\b\b\b\b\b\b\b\b\b\b\b\b\b\b\b\b\b\b\b\b\b\b\r4/4 [==============================] - 0s 4ms/step\n",
            "--------------- Época 11 ---------------\n"
          ]
        },
        {
          "output_type": "stream",
          "name": "stderr",
          "text": [
            "100%|██████████| 468/468 [01:07<00:00,  6.98it/s]"
          ]
        },
        {
          "output_type": "stream",
          "name": "stdout",
          "text": [
            "\r1/4 [======>.......................] - ETA: 0s"
          ]
        },
        {
          "output_type": "stream",
          "name": "stderr",
          "text": [
            "\n"
          ]
        },
        {
          "output_type": "stream",
          "name": "stdout",
          "text": [
            "\b\b\b\b\b\b\b\b\b\b\b\b\b\b\b\b\b\b\b\b\b\b\b\b\b\b\b\b\b\b\b\b\b\b\b\b\b\b\b\b\b\b\b\b\b\b\r4/4 [==============================] - 0s 4ms/step\n"
          ]
        }
      ]
    },
    {
      "cell_type": "code",
      "source": [
        "plotLoss()"
      ],
      "metadata": {
        "id": "iWEiFHEtZHvp"
      },
      "execution_count": null,
      "outputs": []
    },
    {
      "cell_type": "code",
      "source": [
        "saveModels()"
      ],
      "metadata": {
        "id": "CZj4HlaWAU-s"
      },
      "execution_count": null,
      "outputs": []
    },
    {
      "cell_type": "code",
      "source": [
        "def gerar_digito(n_ex=1, dim=(1, 10), figsize=(12, 2)):\n",
        "    noise = np.random.normal(0, 1, size=(n_ex, randomDim))\n",
        "    imagem_gerada = generator.predict(noise)\n",
        "    imagem_gerada = imagem_gerada.reshape(28, 28)\n",
        "\n",
        "    plt.imshow(imagem_gerada, interpolation='nearest', cmap='gray_r')\n",
        "    plt.figure(figsize=figsize)\n",
        "    plt.tight_layout()\n",
        "    plt.show()"
      ],
      "metadata": {
        "id": "1no7DalaWabQ"
      },
      "execution_count": null,
      "outputs": []
    },
    {
      "cell_type": "code",
      "source": [
        "gerar_digito()"
      ],
      "metadata": {
        "id": "qGTCVhprWctz"
      },
      "execution_count": null,
      "outputs": []
    },
    {
      "cell_type": "markdown",
      "source": [
        "##Referências\n",
        "\n",
        "Código adaptado de https://github.com/Zackory/Keras-MNIST-GAN/blob/master/mnist_gan.py\n",
        "\n",
        "Goodfellow, Ian, et al. \"Generative adversarial nets.\" Advances in neural information processing systems. 2014.\n",
        "\n",
        "Radford, Alec, et al. \"Unsupervised representation learning with deep convolutional generative adversarial networks.\" arXiv preprint arXiv:1511.06434 (2015).\n"
      ],
      "metadata": {
        "id": "3PBcZN1ga7zQ"
      }
    }
  ]
}