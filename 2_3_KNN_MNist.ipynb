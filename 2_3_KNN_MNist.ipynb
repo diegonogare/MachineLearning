{
  "nbformat": 4,
  "nbformat_minor": 0,
  "metadata": {
    "colab": {
      "provenance": [],
      "authorship_tag": "ABX9TyNmZ6/VO6VA9kZ3O55Lr3CF"
    },
    "kernelspec": {
      "name": "python3",
      "display_name": "Python 3"
    },
    "language_info": {
      "name": "python"
    }
  },
  "cells": [
    {
      "cell_type": "code",
      "execution_count": 59,
      "metadata": {
        "id": "T2vXE7MeCH3g"
      },
      "outputs": [],
      "source": [
        "from sklearn.datasets import fetch_openml\n",
        "\n",
        "import pandas as pd\n",
        "import numpy as np\n",
        "\n",
        "import matplotlib\n",
        "import matplotlib.pyplot as plt\n",
        "\n",
        "from sklearn.model_selection import train_test_split\n",
        "from sklearn.neighbors import KNeighborsClassifier\n",
        "\n",
        "from sklearn.metrics import confusion_matrix,ConfusionMatrixDisplay"
      ]
    },
    {
      "cell_type": "code",
      "source": [
        "mnist = fetch_openml('mnist_784')"
      ],
      "metadata": {
        "id": "VNHPGUFpCapW"
      },
      "execution_count": 4,
      "outputs": []
    },
    {
      "cell_type": "code",
      "source": [
        "mnist"
      ],
      "metadata": {
        "id": "ZDFG47N7DNkK"
      },
      "execution_count": null,
      "outputs": []
    },
    {
      "cell_type": "code",
      "source": [
        "X = mnist[\"data\"]\n",
        "y = mnist[\"target\"]\n",
        "\n",
        "print(X.shape)\n",
        "print(y.shape)"
      ],
      "metadata": {
        "colab": {
          "base_uri": "https://localhost:8080/"
        },
        "id": "ROPTKbRCETar",
        "outputId": "c6372431-3bb9-4c21-f798-df81a5447ec3"
      },
      "execution_count": 21,
      "outputs": [
        {
          "output_type": "stream",
          "name": "stdout",
          "text": [
            "(70000, 784)\n",
            "(70000,)\n"
          ]
        }
      ]
    },
    {
      "cell_type": "code",
      "source": [
        "indice = 1984\n",
        "\n",
        "digito = X.loc[indice]\n",
        "print(\"Distribuição dos pixels originalmente: \" + str(digito.shape))\n",
        "\n",
        "digito = digito.to_numpy(digito)\n",
        "print(\"Distribuição dos pixels no array do numpy: \" + str(digito.shape))\n",
        "\n",
        "digito = digito.reshape(28,28)\n",
        "print(\"Distribuição dos pixels redistribuído para 28X28: \" + str(digito.shape))\n",
        "\n",
        "plt.imshow(digito, cmap=matplotlib.cm.binary)\n",
        "plt.show()\n",
        "\n",
        "print(\"No dataset, representa o numero: \" + y.loc[indice])"
      ],
      "metadata": {
        "colab": {
          "base_uri": "https://localhost:8080/",
          "height": 334
        },
        "id": "UHNXIgiCEgMI",
        "outputId": "4666da5b-c468-4185-86ea-915c911873ae"
      },
      "execution_count": 57,
      "outputs": [
        {
          "output_type": "stream",
          "name": "stdout",
          "text": [
            "Distribuição dos pixels originalmente: (784,)\n",
            "Distribuição dos pixels no array do numpy: (784,)\n",
            "Distribuição dos pixels redistribuído para 28X28: (28, 28)\n"
          ]
        },
        {
          "output_type": "display_data",
          "data": {
            "text/plain": [
              "<Figure size 432x288 with 1 Axes>"
            ],
            "image/png": "[encoded data removed]"
          },
          "metadata": {
            "needs_background": "light"
          }
        },
        {
          "output_type": "stream",
          "name": "stdout",
          "text": [
            "No dataset, representa o numero: 9\n"
          ]
        }
      ]
    },
    {
      "cell_type": "code",
      "source": [
        "X_train, X_test, y_train, y_test = train_test_split(X, y, test_size=0.2, random_state=42)"
      ],
      "metadata": {
        "id": "IuQAd5q5Kd3J"
      },
      "execution_count": 61,
      "outputs": []
    },
    {
      "cell_type": "code",
      "source": [
        "modelo_knn = KNeighborsClassifier(n_neighbors=5)\n",
        "modelo_knn.fit(X_train,y_train)"
      ],
      "metadata": {
        "colab": {
          "base_uri": "https://localhost:8080/"
        },
        "id": "BGnsgr8mK3r2",
        "outputId": "27339175-9bc4-4d77-892f-e606c43609da"
      },
      "execution_count": 62,
      "outputs": [
        {
          "output_type": "execute_result",
          "data": {
            "text/plain": [
              "KNeighborsClassifier()"
            ]
          },
          "metadata": {},
          "execution_count": 62
        }
      ]
    },
    {
      "cell_type": "code",
      "source": [
        "predicao = modelo_knn.predict(X_test)\n",
        "print(predicao)"
      ],
      "metadata": {
        "colab": {
          "base_uri": "https://localhost:8080/"
        },
        "id": "Tq-yiBvJK7kY",
        "outputId": "ac07e787-94b2-4df5-c1bf-29e9f7e4a3d6"
      },
      "execution_count": 63,
      "outputs": [
        {
          "output_type": "stream",
          "name": "stdout",
          "text": [
            "['8' '4' '8' ... '2' '7' '1']\n"
          ]
        }
      ]
    },
    {
      "cell_type": "code",
      "source": [
        "matriz_confusao = confusion_matrix(y_test, predicao)\n",
        "print(matriz_confusao)\n",
        "\n",
        "matriz_confusao_visual = ConfusionMatrixDisplay(confusion_matrix=matriz_confusao,display_labels = np.array([1,2]))\n",
        "matriz_confusao_visual.plot();"
      ],
      "metadata": {
        "colab": {
          "base_uri": "https://localhost:8080/",
          "height": 453
        },
        "id": "jEWiGDaFK_Ai",
        "outputId": "658e69e9-e654-45ad-ec89-c02d2c4b2958"
      },
      "execution_count": 64,
      "outputs": [
        {
          "output_type": "stream",
          "name": "stdout",
          "text": [
            "[[1336    0    3    0    0    0    2    1    1    0]\n",
            " [   0 1592    2    0    1    1    0    3    0    1]\n",
            " [   7   17 1323    1    4    1    5   17    3    2]\n",
            " [   0    2   12 1384    1    8    2    7    7   10]\n",
            " [   3    8    1    0 1251    0    2    3    1   26]\n",
            " [   2    5    0   16    2 1232   13    0    1    2]\n",
            " [   5    1    0    0    5    6 1379    0    0    0]\n",
            " [   1   21    4    0    4    0    0 1458    1   14]\n",
            " [   4   13    6   22    2   19    4   10 1267   10]\n",
            " [   6    5    2   11   19    0    0   17    1 1359]]\n"
          ]
        },
        {
          "output_type": "display_data",
          "data": {
            "text/plain": [
              "<Figure size 432x288 with 2 Axes>"
            ],
            "image/png": "[encoded data removed]"
          },
          "metadata": {
            "needs_background": "light"
          }
        }
      ]
    }
  ]
}