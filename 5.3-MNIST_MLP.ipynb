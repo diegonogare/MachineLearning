{
  "nbformat": 4,
  "nbformat_minor": 0,
  "metadata": {
    "colab": {
      "provenance": [],
      "authorship_tag": "ABX9TyONsIcAsX1tBJr+0qE2uFbM"
    },
    "kernelspec": {
      "name": "python3",
      "display_name": "Python 3"
    },
    "language_info": {
      "name": "python"
    }
  },
  "cells": [
    {
      "cell_type": "markdown",
      "source": [
        "#MNist com Multi-Layer Perceptron\n",
        "\n",
        "Neste experimento foram exploradas configurações de hiper-parâmetros do algoritmo Multi-Layer Perceptron, variando a função de ativação (*activation*): entre Tangente Hiperbólica e Relu, o *solver* que é o otimizador do algoritmo entre o *sgd* (Gradiente Descendente Estocástico) e o *adam* (Gradiente Descendente Estocástico otimizado), por fim quantidade de neurônios nas camadas escondidas testando uma unica camada com 100 neurônios, depois são duas camadas com 10 neurônios cada, em seguida duas camadas com 15 e 15, e para finalizar duas camadas com 20 neurônios em cada.\n",
        "\n",
        "Para garantir uma reproducibilidade entre este experimento e os demais, o conjunto de dados foi separado em 10 pastas com a técnica de Cross Validation utilizando o estado randômico 42.\n",
        "\n",
        "A combinação dos hiper-parâmetros foi feita utilizando Grid Search, que cruza todas as opções dos dicionários e responde qual é a melhor configuração encontrada. Estas parametrizações são utilizadas para criar um modelo final, que é serializado em um objeto Pickle."
      ],
      "metadata": {
        "id": "kbMBkPLBo3yn"
      }
    },
    {
      "cell_type": "code",
      "execution_count": null,
      "metadata": {
        "id": "7LyrgC7woxqw"
      },
      "outputs": [],
      "source": [
        "from sklearn.datasets import fetch_openml\n",
        "\n",
        "import joblib\n",
        "from sklearn.metrics import confusion_matrix,ConfusionMatrixDisplay\n",
        "from sklearn.model_selection import GridSearchCV\n",
        "from sklearn.model_selection import StratifiedKFold\n",
        "\n",
        "from sklearn.neural_network import MLPClassifier\n",
        "\n",
        "import time"
      ]
    },
    {
      "cell_type": "code",
      "source": [
        "mnist = fetch_openml('mnist_784')"
      ],
      "metadata": {
        "id": "KgOUxj8IpRxw"
      },
      "execution_count": null,
      "outputs": []
    },
    {
      "cell_type": "code",
      "source": [
        "X = mnist[\"data\"]\n",
        "y = mnist[\"target\"]\n",
        "\n",
        "print(X.shape)\n",
        "print(y.shape)"
      ],
      "metadata": {
        "id": "nHbrQU62pR0i"
      },
      "execution_count": null,
      "outputs": []
    },
    {
      "cell_type": "code",
      "source": [
        "param_grid = [{'activation': ['tanh', 'relu'],\n",
        "               'solver':['sgd', 'adam'],\n",
        "               'hidden_layer_sizes': ['(100)','(10,10)','(15,15)','(20,20)'] }]\n",
        "\n",
        "kfolds = StratifiedKFold(n_splits=10, random_state=42, shuffle=True)"
      ],
      "metadata": {
        "id": "Bq95OqJupR3a"
      },
      "execution_count": null,
      "outputs": []
    },
    {
      "cell_type": "code",
      "source": [
        "mlp = MLPClassifier()\n",
        "\n",
        "inicio = time.time()\n",
        "grid_search_mlp = GridSearchCV(mlp, param_grid, cv=kfolds, verbose=3)\n",
        "resultado_modelo = grid_search_mlp.fit(X,y)\n",
        "termino = time.time()\n",
        "print(\"--- %s segundos para treinar o modelo ---\" % (termino - inicio))"
      ],
      "metadata": {
        "id": "w8mIAhbKpR5C"
      },
      "execution_count": null,
      "outputs": []
    },
    {
      "cell_type": "code",
      "source": [
        "print(\"Melhores Parâmetros\")\n",
        "print(grid_search_mlp.best_params_)\n",
        "print(\"**************\")\n",
        "print(\"Melhores Estimadores\")\n",
        "print(grid_search_mlp.best_estimator_)\n",
        "print(\"**************\")\n",
        "print(\"Melhores Pontuações\")\n",
        "print(grid_search_mlp.best_score_)\n",
        "print(\"**************\")\n",
        "print(grid_search_mlp.best_index_)\n",
        "print(\"**************\")"
      ],
      "metadata": {
        "id": "xLrmWC6fpR7o"
      },
      "execution_count": null,
      "outputs": []
    },
    {
      "cell_type": "code",
      "source": [
        "joblib.dump(grid_search_mlp, \"modelo_mlp_mnist.pkl\")"
      ],
      "metadata": {
        "id": "ki1_vkFOqtE8"
      },
      "execution_count": null,
      "outputs": []
    }
  ]
}