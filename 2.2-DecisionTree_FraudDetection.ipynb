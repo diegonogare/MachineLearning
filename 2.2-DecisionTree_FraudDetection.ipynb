{
  "nbformat": 4,
  "nbformat_minor": 0,
  "metadata": {
    "colab": {
      "provenance": [],
      "authorship_tag": "ABX9TyO7X8vzI8EaaTed6GFSujUa"
    },
    "kernelspec": {
      "name": "python3",
      "display_name": "Python 3"
    },
    "language_info": {
      "name": "python"
    }
  },
  "cells": [
    {
      "cell_type": "markdown",
      "source": [
        "#Modelo de Classificação - Decision Tree - Dataset Fraud Detection\n",
        "\n",
        "O algoritmo Árvore de Decisão é um algoritmo de aprendizado de máquina supervisionado que pode ser usado para classificação ou regressão. Ele funciona construindo uma árvore de decisão, onde cada nó da árvore representa uma decisão a ser tomada com base em um conjunto de características dos dados, e cada ramo da árvore representa uma possível decisão. O algoritmo então usa a árvore de decisão para fazer previsões sobre novos dados, percorrendo a árvore e tomando decisões em cada nó até chegar a uma folha, que representa a previsão final.\n",
        "\n",
        "O algoritmo Árvore de Decisão é amplamente utilizado em muitas aplicações, incluindo diagnóstico médico, fraudes em cartões de crédito, marketing e outras. Ele é fácil de usar e interpretar, o que o torna uma escolha popular para muitas tarefas de aprendizado de máquina.\n",
        "\n",
        "Este dataset é encontrado originalmente na competição do Kaggle\n",
        "https://www.kaggle.com/datasets/whenamancodes/fraud-detection"
      ],
      "metadata": {
        "id": "3kXxFQGAa1M6"
      }
    },
    {
      "cell_type": "code",
      "execution_count": null,
      "metadata": {
        "id": "bK_6ot1Cav3w"
      },
      "outputs": [],
      "source": [
        "import pandas as pd\n",
        "import numpy as np\n",
        "import matplotlib.pyplot as plt\n",
        "\n",
        "from sklearn.model_selection import train_test_split\n",
        "\n",
        "from sklearn import tree\n",
        "\n",
        "from sklearn.metrics import confusion_matrix,ConfusionMatrixDisplay\n",
        "from sklearn.model_selection import cross_val_score\n",
        "\n",
        "import time"
      ]
    },
    {
      "cell_type": "code",
      "source": [
        "df = pd.read_csv(\"https://media.githubusercontent.com/media/diegonogare/MachineLearning/main/creditcard.csv\")"
      ],
      "metadata": {
        "id": "sL3-ssQta-Br"
      },
      "execution_count": null,
      "outputs": []
    },
    {
      "cell_type": "code",
      "source": [
        "df.info()\n",
        "df.describe()\n",
        "df.head()"
      ],
      "metadata": {
        "id": "KHHScd12a-bP"
      },
      "execution_count": null,
      "outputs": []
    },
    {
      "cell_type": "code",
      "source": [
        "df2 = df[['V3','V4','V7','V10','V11','V12','V14','V16','V17','V18','Class']]\n",
        "\n",
        "corr = df2.corr()\n",
        "corr.style.background_gradient()"
      ],
      "metadata": {
        "id": "e086CiHna-eH"
      },
      "execution_count": null,
      "outputs": []
    },
    {
      "cell_type": "code",
      "source": [
        "X = df2.drop(['Class'], axis = 1)\n",
        "Y = df2[['Class']]\n",
        "\n",
        "X_train, X_test, y_train, y_test = train_test_split(X, Y, test_size=0.2, random_state=42)"
      ],
      "metadata": {
        "id": "6QWbwq41a-gk"
      },
      "execution_count": null,
      "outputs": []
    },
    {
      "cell_type": "code",
      "source": [
        "inicio = time.time()\n",
        "modelo_dt = tree.DecisionTreeClassifier(criterion = 'entropy')\n",
        "modelo_dt.fit(X_train,y_train)\n",
        "termino = time.time()\n",
        "print(\"--- %s segundos para treinar o modelo ---\" % (termino - inicio))"
      ],
      "metadata": {
        "id": "bR_io9s3bL7D"
      },
      "execution_count": null,
      "outputs": []
    },
    {
      "cell_type": "code",
      "source": [
        "inicio = time.time()\n",
        "predicao = modelo_dt.predict(X_test)\n",
        "termino = time.time()\n",
        "print(predicao)\n",
        "print(\"--- %s segundos para fazer o scoring do modelo ---\" % (termino - inicio))"
      ],
      "metadata": {
        "id": "G2Ois6jNa-j3"
      },
      "execution_count": null,
      "outputs": []
    },
    {
      "cell_type": "code",
      "source": [
        "matriz_confusao = confusion_matrix(y_test, predicao)\n",
        "print(matriz_confusao)\n",
        "\n",
        "matriz_confusao_visual = ConfusionMatrixDisplay(confusion_matrix=matriz_confusao,display_labels = np.array([1,2]))\n",
        "matriz_confusao_visual.plot();"
      ],
      "metadata": {
        "id": "7vVlc4K2bF-p"
      },
      "execution_count": null,
      "outputs": []
    },
    {
      "cell_type": "code",
      "source": [
        "plt.figure(figsize=(50,20))\n",
        "tree.plot_tree(modelo_dt, class_names=str(df2['Class'].unique()) , filled=True);\n",
        "plt.savefig('modelo_dt.png', dpi=300)"
      ],
      "metadata": {
        "id": "6ZtdEQEerggd"
      },
      "execution_count": null,
      "outputs": []
    },
    {
      "cell_type": "code",
      "source": [],
      "metadata": {
        "id": "p27lSEKyt7lU"
      },
      "execution_count": null,
      "outputs": []
    }
  ]
}