{
  "nbformat": 4,
  "nbformat_minor": 0,
  "metadata": {
    "colab": {
      "provenance": [],
      "authorship_tag": "ABX9TyOQKoOHyXpSdOidyN6TwkHZ"
    },
    "kernelspec": {
      "name": "python3",
      "display_name": "Python 3"
    },
    "language_info": {
      "name": "python"
    }
  },
  "cells": [
    {
      "cell_type": "markdown",
      "source": [
        "# Detecção de Anomalias - DBSCAN\n",
        "\n",
        "O algoritmo DBSCAN é um algoritmo de agrupamento de dados baseado na densidade. Ele é amplamente utilizado para detecção de anomalias, já que é capaz de encontrar pontos que se destacam em relação aos demais em um conjunto de dados.\n",
        "\n",
        "Ele funciona de forma iterativa, examinando cada ponto de dados no conjunto e determinando se é um ponto de alta densidade ou não. Ele faz isso a partir de dois parâmetros: um raio de vizinhança e um limite de pontos. O raio de vizinhança é o tamanho do \"cone\" ao redor de cada ponto, enquanto o limite de pontos é o número mínimo de pontos que devem estar presentes no cone para que o ponto seja considerado de alta densidade. Uma outra forma de se pensar nestes parâmetros é com o raio sendo a distância máxima dentro da qual dois pontos devem se encontrar para serem considerados \"próximos\", enquanto o limite de pontos é o número mínimo de pontos que devem estar dentro do raio para que um cluster seja formado.\n",
        "\n",
        "Para um ponto ser considerado de alta densidade, ele é adicionado a um cluster (ou grupo) juntamente com todos os outros pontos dentro do seu raio de vizinhança. O algoritmo então continua iterando até que todos os pontos tenham sido examinados e agrupados. Os pontos que não são considerados de alta densidade e que não estão em um cluster são considerados anomalias e são marcados como tais.\n",
        "\n",
        "Como ele é um algoritmo baseado em densidade, isso significa que ele procura agrupar pontos de dados que estão próximos uns dos outros em \"clusters\" densamente povoados. É comum ser utilizado para detectar anomalias em conjuntos de dados ao identificar pontos que não pertencem a nenhum cluster, ou que pertencem a clusters muito menores ou menos densos que os demais.\n",
        "\n",
        "Para detectar anomalias, o DBSCAN primeiro é executado no conjunto de dados usando os parâmetros definidos. Isso resulta em diferentes clusters sendo formados a partir dos pontos de dados. Em seguida, os pontos que não pertencem a nenhum cluster ou que pertencem a clusters muito pequenos ou pouco densos são identificados como possíveis anomalias. É importante destacar que o DBSCAN é sensível aos valores dos parâmetros e, portanto, pode ser necessário experimentar com diferentes valores para obter bons resultados.\n",
        "\n",
        "Ele foi originalmente proposto por Martin Ester, Hans-Peter Kriegel, Jörg Sander e Xiaowei Xu em seu trabalho intitulado \"A Density-Based Algorithm for Discovering Clusters in Large Spatial Databases with Noise\" (Um algoritmo baseado em densidade para descobrir aglomerados em grandes bancos de dados espaciais com ruído), publicado em 1996. Este trabalho é considerado a principal referência bibliográfica para o algoritmo DBSCAN."
      ],
      "metadata": {
        "id": "GWnqozbDSliY"
      }
    },
    {
      "cell_type": "code",
      "execution_count": null,
      "metadata": {
        "id": "6gPc4qtLScdR"
      },
      "outputs": [],
      "source": []
    },
    {
      "cell_type": "markdown",
      "source": [
        "## Referência Bibliográfica\n",
        "\n",
        "Ester, M., Kriegel, H. P., Sander, J., & Xu, X. (1996, August). A density-based algorithm for discovering clusters in large spatial databases with noise. In kdd (Vol. 96, No. 34, pp. 226-231)."
      ],
      "metadata": {
        "id": "u8L38d5gSqtG"
      }
    }
  ]
}