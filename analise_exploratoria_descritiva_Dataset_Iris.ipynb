{
  "nbformat": 4,
  "nbformat_minor": 0,
  "metadata": {
    "colab": {
      "provenance": [],
      "authorship_tag": "ABX9TyPv6bIvSup8E4bvuXaTfwIN"
    },
    "kernelspec": {
      "name": "python3",
      "display_name": "Python 3"
    },
    "language_info": {
      "name": "python"
    }
  },
  "cells": [
    {
      "cell_type": "markdown",
      "source": [
        "# Análise Exploratória Descritiva"
      ],
      "metadata": {
        "id": "BPO9lXnewZ5n"
      }
    },
    {
      "cell_type": "markdown",
      "source": [
        "Exemplo de análise exploratória descritiva, buscando entender o comportamento da base de dados *Iris* a partir do pacote Sckit-Learn"
      ],
      "metadata": {
        "id": "Prc8jtCJwdkX"
      }
    },
    {
      "cell_type": "code",
      "execution_count": 1,
      "metadata": {
        "id": "xVNt5FsCwJfh"
      },
      "outputs": [],
      "source": [
        "import pandas as pd\n",
        "import numpy as np\n",
        "import matplotlib.pyplot as plt\n",
        "\n",
        "from sklearn import datasets\n",
        "iris = datasets.load_iris()"
      ]
    },
    {
      "cell_type": "markdown",
      "source": [
        "A base de dados Iris, dentro do sckit-learn é separada entre as variáveis preditoras (explicativas) e a variável alvo. Para acessar os dados das variáveis explicativas, é possível chamar o código \n",
        "\n",
        "$iris.data$\n",
        "\n",
        "e será apresentado um *array* com as quatro variáveis explicativas."
      ],
      "metadata": {
        "id": "SvnH_QTAym3D"
      }
    },
    {
      "cell_type": "markdown",
      "source": [],
      "metadata": {
        "id": "YhoJaBJz1awj"
      }
    },
    {
      "cell_type": "code",
      "source": [
        "iris.data"
      ],
      "metadata": {
        "colab": {
          "base_uri": "https://localhost:8080/"
        },
        "id": "RlHrXf8Zy-Rw",
        "outputId": "23f298a3-fa8b-4472-f3b9-6629a4c28364"
      },
      "execution_count": 2,
      "outputs": [
        {
          "output_type": "execute_result",
          "data": {
            "text/plain": [
              "array([[5.1, 3.5, 1.4, 0.2],\n",
              "       [4.9, 3. , 1.4, 0.2],\n",
              "       [4.7, 3.2, 1.3, 0.2],\n",
              "       [4.6, 3.1, 1.5, 0.2],\n",
              "       [5. , 3.6, 1.4, 0.2],\n",
              "       [5.4, 3.9, 1.7, 0.4],\n",
              "       [4.6, 3.4, 1.4, 0.3],\n",
              "       [5. , 3.4, 1.5, 0.2],\n",
              "       [4.4, 2.9, 1.4, 0.2],\n",
              "       [4.9, 3.1, 1.5, 0.1],\n",
              "       [5.4, 3.7, 1.5, 0.2],\n",
              "       [4.8, 3.4, 1.6, 0.2],\n",
              "       [4.8, 3. , 1.4, 0.1],\n",
              "       [4.3, 3. , 1.1, 0.1],\n",
              "       [5.8, 4. , 1.2, 0.2],\n",
              "       [5.7, 4.4, 1.5, 0.4],\n",
              "       [5.4, 3.9, 1.3, 0.4],\n",
              "       [5.1, 3.5, 1.4, 0.3],\n",
              "       [5.7, 3.8, 1.7, 0.3],\n",
              "       [5.1, 3.8, 1.5, 0.3],\n",
              "       [5.4, 3.4, 1.7, 0.2],\n",
              "       [5.1, 3.7, 1.5, 0.4],\n",
              "       [4.6, 3.6, 1. , 0.2],\n",
              "       [5.1, 3.3, 1.7, 0.5],\n",
              "       [4.8, 3.4, 1.9, 0.2],\n",
              "       [5. , 3. , 1.6, 0.2],\n",
              "       [5. , 3.4, 1.6, 0.4],\n",
              "       [5.2, 3.5, 1.5, 0.2],\n",
              "       [5.2, 3.4, 1.4, 0.2],\n",
              "       [4.7, 3.2, 1.6, 0.2],\n",
              "       [4.8, 3.1, 1.6, 0.2],\n",
              "       [5.4, 3.4, 1.5, 0.4],\n",
              "       [5.2, 4.1, 1.5, 0.1],\n",
              "       [5.5, 4.2, 1.4, 0.2],\n",
              "       [4.9, 3.1, 1.5, 0.2],\n",
              "       [5. , 3.2, 1.2, 0.2],\n",
              "       [5.5, 3.5, 1.3, 0.2],\n",
              "       [4.9, 3.6, 1.4, 0.1],\n",
              "       [4.4, 3. , 1.3, 0.2],\n",
              "       [5.1, 3.4, 1.5, 0.2],\n",
              "       [5. , 3.5, 1.3, 0.3],\n",
              "       [4.5, 2.3, 1.3, 0.3],\n",
              "       [4.4, 3.2, 1.3, 0.2],\n",
              "       [5. , 3.5, 1.6, 0.6],\n",
              "       [5.1, 3.8, 1.9, 0.4],\n",
              "       [4.8, 3. , 1.4, 0.3],\n",
              "       [5.1, 3.8, 1.6, 0.2],\n",
              "       [4.6, 3.2, 1.4, 0.2],\n",
              "       [5.3, 3.7, 1.5, 0.2],\n",
              "       [5. , 3.3, 1.4, 0.2],\n",
              "       [7. , 3.2, 4.7, 1.4],\n",
              "       [6.4, 3.2, 4.5, 1.5],\n",
              "       [6.9, 3.1, 4.9, 1.5],\n",
              "       [5.5, 2.3, 4. , 1.3],\n",
              "       [6.5, 2.8, 4.6, 1.5],\n",
              "       [5.7, 2.8, 4.5, 1.3],\n",
              "       [6.3, 3.3, 4.7, 1.6],\n",
              "       [4.9, 2.4, 3.3, 1. ],\n",
              "       [6.6, 2.9, 4.6, 1.3],\n",
              "       [5.2, 2.7, 3.9, 1.4],\n",
              "       [5. , 2. , 3.5, 1. ],\n",
              "       [5.9, 3. , 4.2, 1.5],\n",
              "       [6. , 2.2, 4. , 1. ],\n",
              "       [6.1, 2.9, 4.7, 1.4],\n",
              "       [5.6, 2.9, 3.6, 1.3],\n",
              "       [6.7, 3.1, 4.4, 1.4],\n",
              "       [5.6, 3. , 4.5, 1.5],\n",
              "       [5.8, 2.7, 4.1, 1. ],\n",
              "       [6.2, 2.2, 4.5, 1.5],\n",
              "       [5.6, 2.5, 3.9, 1.1],\n",
              "       [5.9, 3.2, 4.8, 1.8],\n",
              "       [6.1, 2.8, 4. , 1.3],\n",
              "       [6.3, 2.5, 4.9, 1.5],\n",
              "       [6.1, 2.8, 4.7, 1.2],\n",
              "       [6.4, 2.9, 4.3, 1.3],\n",
              "       [6.6, 3. , 4.4, 1.4],\n",
              "       [6.8, 2.8, 4.8, 1.4],\n",
              "       [6.7, 3. , 5. , 1.7],\n",
              "       [6. , 2.9, 4.5, 1.5],\n",
              "       [5.7, 2.6, 3.5, 1. ],\n",
              "       [5.5, 2.4, 3.8, 1.1],\n",
              "       [5.5, 2.4, 3.7, 1. ],\n",
              "       [5.8, 2.7, 3.9, 1.2],\n",
              "       [6. , 2.7, 5.1, 1.6],\n",
              "       [5.4, 3. , 4.5, 1.5],\n",
              "       [6. , 3.4, 4.5, 1.6],\n",
              "       [6.7, 3.1, 4.7, 1.5],\n",
              "       [6.3, 2.3, 4.4, 1.3],\n",
              "       [5.6, 3. , 4.1, 1.3],\n",
              "       [5.5, 2.5, 4. , 1.3],\n",
              "       [5.5, 2.6, 4.4, 1.2],\n",
              "       [6.1, 3. , 4.6, 1.4],\n",
              "       [5.8, 2.6, 4. , 1.2],\n",
              "       [5. , 2.3, 3.3, 1. ],\n",
              "       [5.6, 2.7, 4.2, 1.3],\n",
              "       [5.7, 3. , 4.2, 1.2],\n",
              "       [5.7, 2.9, 4.2, 1.3],\n",
              "       [6.2, 2.9, 4.3, 1.3],\n",
              "       [5.1, 2.5, 3. , 1.1],\n",
              "       [5.7, 2.8, 4.1, 1.3],\n",
              "       [6.3, 3.3, 6. , 2.5],\n",
              "       [5.8, 2.7, 5.1, 1.9],\n",
              "       [7.1, 3. , 5.9, 2.1],\n",
              "       [6.3, 2.9, 5.6, 1.8],\n",
              "       [6.5, 3. , 5.8, 2.2],\n",
              "       [7.6, 3. , 6.6, 2.1],\n",
              "       [4.9, 2.5, 4.5, 1.7],\n",
              "       [7.3, 2.9, 6.3, 1.8],\n",
              "       [6.7, 2.5, 5.8, 1.8],\n",
              "       [7.2, 3.6, 6.1, 2.5],\n",
              "       [6.5, 3.2, 5.1, 2. ],\n",
              "       [6.4, 2.7, 5.3, 1.9],\n",
              "       [6.8, 3. , 5.5, 2.1],\n",
              "       [5.7, 2.5, 5. , 2. ],\n",
              "       [5.8, 2.8, 5.1, 2.4],\n",
              "       [6.4, 3.2, 5.3, 2.3],\n",
              "       [6.5, 3. , 5.5, 1.8],\n",
              "       [7.7, 3.8, 6.7, 2.2],\n",
              "       [7.7, 2.6, 6.9, 2.3],\n",
              "       [6. , 2.2, 5. , 1.5],\n",
              "       [6.9, 3.2, 5.7, 2.3],\n",
              "       [5.6, 2.8, 4.9, 2. ],\n",
              "       [7.7, 2.8, 6.7, 2. ],\n",
              "       [6.3, 2.7, 4.9, 1.8],\n",
              "       [6.7, 3.3, 5.7, 2.1],\n",
              "       [7.2, 3.2, 6. , 1.8],\n",
              "       [6.2, 2.8, 4.8, 1.8],\n",
              "       [6.1, 3. , 4.9, 1.8],\n",
              "       [6.4, 2.8, 5.6, 2.1],\n",
              "       [7.2, 3. , 5.8, 1.6],\n",
              "       [7.4, 2.8, 6.1, 1.9],\n",
              "       [7.9, 3.8, 6.4, 2. ],\n",
              "       [6.4, 2.8, 5.6, 2.2],\n",
              "       [6.3, 2.8, 5.1, 1.5],\n",
              "       [6.1, 2.6, 5.6, 1.4],\n",
              "       [7.7, 3. , 6.1, 2.3],\n",
              "       [6.3, 3.4, 5.6, 2.4],\n",
              "       [6.4, 3.1, 5.5, 1.8],\n",
              "       [6. , 3. , 4.8, 1.8],\n",
              "       [6.9, 3.1, 5.4, 2.1],\n",
              "       [6.7, 3.1, 5.6, 2.4],\n",
              "       [6.9, 3.1, 5.1, 2.3],\n",
              "       [5.8, 2.7, 5.1, 1.9],\n",
              "       [6.8, 3.2, 5.9, 2.3],\n",
              "       [6.7, 3.3, 5.7, 2.5],\n",
              "       [6.7, 3. , 5.2, 2.3],\n",
              "       [6.3, 2.5, 5. , 1.9],\n",
              "       [6.5, 3. , 5.2, 2. ],\n",
              "       [6.2, 3.4, 5.4, 2.3],\n",
              "       [5.9, 3. , 5.1, 1.8]])"
            ]
          },
          "metadata": {},
          "execution_count": 2
        }
      ]
    },
    {
      "cell_type": "markdown",
      "source": [
        "Estas variáveis são as *Sepal Length (cm)*, *Sepal Width (cm)*, *Petal Length (cm)* e *Petal Width (cm)*, e é possível retornar pelo código\n",
        "\n",
        "$iris.feature\\_names$"
      ],
      "metadata": {
        "id": "FMqH-AyFzLsU"
      }
    },
    {
      "cell_type": "code",
      "source": [
        "iris.feature_names"
      ],
      "metadata": {
        "colab": {
          "base_uri": "https://localhost:8080/"
        },
        "id": "tA3yICTRzNZN",
        "outputId": "c63655b8-863c-4b0e-852e-7b07dbb004e7"
      },
      "execution_count": 3,
      "outputs": [
        {
          "output_type": "execute_result",
          "data": {
            "text/plain": [
              "['sepal length (cm)',\n",
              " 'sepal width (cm)',\n",
              " 'petal length (cm)',\n",
              " 'petal width (cm)']"
            ]
          },
          "metadata": {},
          "execution_count": 3
        }
      ]
    },
    {
      "cell_type": "markdown",
      "source": [
        "Repare que a variável alvo não está neste mesmo *array*, ela fica em uma variável separadada. Para acessá-la, utilize o código\n",
        "\n",
        "$iris.target$"
      ],
      "metadata": {
        "id": "9zXEoZn11YwZ"
      }
    },
    {
      "cell_type": "code",
      "source": [
        "iris.target"
      ],
      "metadata": {
        "colab": {
          "base_uri": "https://localhost:8080/"
        },
        "id": "5KsVi5SQ0ZLh",
        "outputId": "23a1ea53-fd69-42e7-e0b7-4f0d1fb94da7"
      },
      "execution_count": 4,
      "outputs": [
        {
          "output_type": "execute_result",
          "data": {
            "text/plain": [
              "array([0, 0, 0, 0, 0, 0, 0, 0, 0, 0, 0, 0, 0, 0, 0, 0, 0, 0, 0, 0, 0, 0,\n",
              "       0, 0, 0, 0, 0, 0, 0, 0, 0, 0, 0, 0, 0, 0, 0, 0, 0, 0, 0, 0, 0, 0,\n",
              "       0, 0, 0, 0, 0, 0, 1, 1, 1, 1, 1, 1, 1, 1, 1, 1, 1, 1, 1, 1, 1, 1,\n",
              "       1, 1, 1, 1, 1, 1, 1, 1, 1, 1, 1, 1, 1, 1, 1, 1, 1, 1, 1, 1, 1, 1,\n",
              "       1, 1, 1, 1, 1, 1, 1, 1, 1, 1, 1, 1, 2, 2, 2, 2, 2, 2, 2, 2, 2, 2,\n",
              "       2, 2, 2, 2, 2, 2, 2, 2, 2, 2, 2, 2, 2, 2, 2, 2, 2, 2, 2, 2, 2, 2,\n",
              "       2, 2, 2, 2, 2, 2, 2, 2, 2, 2, 2, 2, 2, 2, 2, 2, 2, 2])"
            ]
          },
          "metadata": {},
          "execution_count": 4
        }
      ]
    },
    {
      "cell_type": "code",
      "source": [],
      "metadata": {
        "id": "1GZGtADY3eVv"
      },
      "execution_count": 4,
      "outputs": []
    },
    {
      "cell_type": "markdown",
      "source": [
        "Para facilitar a manipulação deste *dataset* de forma unificada, é possível chamar uma função de combinação de colunas (valores em *arrays*) e armazená-los em um outro objeto. Este objeto é um Data Frame, e uma das opções de criação pode ser com o código:\n",
        "\n",
        "$df = pd.DataFrame(data= np.c\\_[iris['data'], iris['target']], columns= list(iris['feature\\_names']) + ['target'])$"
      ],
      "metadata": {
        "id": "lZ4V7cAr0bK0"
      }
    },
    {
      "cell_type": "code",
      "source": [
        "df = pd.DataFrame(data= np.c_[iris['data'], iris['target']], columns= list(iris['feature_names']) + ['target'])"
      ],
      "metadata": {
        "id": "JO7eHAi7yS1B"
      },
      "execution_count": 5,
      "outputs": []
    },
    {
      "cell_type": "markdown",
      "source": [
        "Agora que o Data Frame foi criado, é possível observar algumas informações estatísticas sobre o *dataset*. Para entender as características deste objeto, o código\n",
        "\n",
        "$df.info()$\n",
        "\n",
        "apresenta seu conteúdo. É possível acompanhar que ele faz parte da classe *pandas.core.frame.DataFrame*, que possui 150 entradas (linhas), que tem um total de cinco colunas (variáveis) e também quais são os *DType* (*datatype* - tipo de dado) naquela coluna.\n"
      ],
      "metadata": {
        "id": "QbFQMnrg3w07"
      }
    },
    {
      "cell_type": "code",
      "source": [
        "df.info()"
      ],
      "metadata": {
        "colab": {
          "base_uri": "https://localhost:8080/"
        },
        "id": "bOmL7sTLw_IZ",
        "outputId": "6a39cf99-574a-44e3-f90a-20979fc74c6d"
      },
      "execution_count": 6,
      "outputs": [
        {
          "output_type": "stream",
          "name": "stdout",
          "text": [
            "<class 'pandas.core.frame.DataFrame'>\n",
            "RangeIndex: 150 entries, 0 to 149\n",
            "Data columns (total 5 columns):\n",
            " #   Column             Non-Null Count  Dtype  \n",
            "---  ------             --------------  -----  \n",
            " 0   sepal length (cm)  150 non-null    float64\n",
            " 1   sepal width (cm)   150 non-null    float64\n",
            " 2   petal length (cm)  150 non-null    float64\n",
            " 3   petal width (cm)   150 non-null    float64\n",
            " 4   target             150 non-null    float64\n",
            "dtypes: float64(5)\n",
            "memory usage: 6.0 KB\n"
          ]
        }
      ]
    },
    {
      "cell_type": "markdown",
      "source": [
        "Uma outra forma de acompanhar uma análise estatística basica deste *dataset*, analisado por variável, contendo *count* (quantidade de dados), *mean* (valor médio), *std* (desvio padrão), *min* (menor valor), *25%* (primeiro quartil), *50%* (segundo quartil, também conhecido como Mediana), *75%* (terceiro quartil), *max* (maior valor). Estas informações podem ser obtidas com o código \n",
        "\n",
        "$df.describe()$"
      ],
      "metadata": {
        "id": "w3v3pmQg4YjF"
      }
    },
    {
      "cell_type": "code",
      "source": [
        "df.describe()"
      ],
      "metadata": {
        "colab": {
          "base_uri": "https://localhost:8080/",
          "height": 300
        },
        "id": "zlfqwsEr4YS-",
        "outputId": "af0f0177-f5b9-4f2d-8e69-2aa0589a56fd"
      },
      "execution_count": 7,
      "outputs": [
        {
          "output_type": "execute_result",
          "data": {
            "text/plain": [
              "       sepal length (cm)  sepal width (cm)  petal length (cm)  \\\n",
              "count         150.000000        150.000000         150.000000   \n",
              "mean            5.843333          3.057333           3.758000   \n",
              "std             0.828066          0.435866           1.765298   \n",
              "min             4.300000          2.000000           1.000000   \n",
              "25%             5.100000          2.800000           1.600000   \n",
              "50%             5.800000          3.000000           4.350000   \n",
              "75%             6.400000          3.300000           5.100000   \n",
              "max             7.900000          4.400000           6.900000   \n",
              "\n",
              "       petal width (cm)      target  \n",
              "count        150.000000  150.000000  \n",
              "mean           1.199333    1.000000  \n",
              "std            0.762238    0.819232  \n",
              "min            0.100000    0.000000  \n",
              "25%            0.300000    0.000000  \n",
              "50%            1.300000    1.000000  \n",
              "75%            1.800000    2.000000  \n",
              "max            2.500000    2.000000  "
            ],
            "text/html": [
              "\n",
              "  <div id=\"df-4eea6056-6f11-41a7-a550-c381ab04b6e0\">\n",
              "    <div class=\"colab-df-container\">\n",
              "      <div>\n",
              "<style scoped>\n",
              "    .dataframe tbody tr th:only-of-type {\n",
              "        vertical-align: middle;\n",
              "    }\n",
              "\n",
              "    .dataframe tbody tr th {\n",
              "        vertical-align: top;\n",
              "    }\n",
              "\n",
              "    .dataframe thead th {\n",
              "        text-align: right;\n",
              "    }\n",
              "</style>\n",
              "<table border=\"1\" class=\"dataframe\">\n",
              "  <thead>\n",
              "    <tr style=\"text-align: right;\">\n",
              "      <th></th>\n",
              "      <th>sepal length (cm)</th>\n",
              "      <th>sepal width (cm)</th>\n",
              "      <th>petal length (cm)</th>\n",
              "      <th>petal width (cm)</th>\n",
              "      <th>target</th>\n",
              "    </tr>\n",
              "  </thead>\n",
              "  <tbody>\n",
              "    <tr>\n",
              "      <th>count</th>\n",
              "      <td>150.000000</td>\n",
              "      <td>150.000000</td>\n",
              "      <td>150.000000</td>\n",
              "      <td>150.000000</td>\n",
              "      <td>150.000000</td>\n",
              "    </tr>\n",
              "    <tr>\n",
              "      <th>mean</th>\n",
              "      <td>5.843333</td>\n",
              "      <td>3.057333</td>\n",
              "      <td>3.758000</td>\n",
              "      <td>1.199333</td>\n",
              "      <td>1.000000</td>\n",
              "    </tr>\n",
              "    <tr>\n",
              "      <th>std</th>\n",
              "      <td>0.828066</td>\n",
              "      <td>0.435866</td>\n",
              "      <td>1.765298</td>\n",
              "      <td>0.762238</td>\n",
              "      <td>0.819232</td>\n",
              "    </tr>\n",
              "    <tr>\n",
              "      <th>min</th>\n",
              "      <td>4.300000</td>\n",
              "      <td>2.000000</td>\n",
              "      <td>1.000000</td>\n",
              "      <td>0.100000</td>\n",
              "      <td>0.000000</td>\n",
              "    </tr>\n",
              "    <tr>\n",
              "      <th>25%</th>\n",
              "      <td>5.100000</td>\n",
              "      <td>2.800000</td>\n",
              "      <td>1.600000</td>\n",
              "      <td>0.300000</td>\n",
              "      <td>0.000000</td>\n",
              "    </tr>\n",
              "    <tr>\n",
              "      <th>50%</th>\n",
              "      <td>5.800000</td>\n",
              "      <td>3.000000</td>\n",
              "      <td>4.350000</td>\n",
              "      <td>1.300000</td>\n",
              "      <td>1.000000</td>\n",
              "    </tr>\n",
              "    <tr>\n",
              "      <th>75%</th>\n",
              "      <td>6.400000</td>\n",
              "      <td>3.300000</td>\n",
              "      <td>5.100000</td>\n",
              "      <td>1.800000</td>\n",
              "      <td>2.000000</td>\n",
              "    </tr>\n",
              "    <tr>\n",
              "      <th>max</th>\n",
              "      <td>7.900000</td>\n",
              "      <td>4.400000</td>\n",
              "      <td>6.900000</td>\n",
              "      <td>2.500000</td>\n",
              "      <td>2.000000</td>\n",
              "    </tr>\n",
              "  </tbody>\n",
              "</table>\n",
              "</div>\n",
              "      <button class=\"colab-df-convert\" onclick=\"convertToInteractive('df-4eea6056-6f11-41a7-a550-c381ab04b6e0')\"\n",
              "              title=\"Convert this dataframe to an interactive table.\"\n",
              "              style=\"display:none;\">\n",
              "        \n",
              "  <svg xmlns=\"http://www.w3.org/2000/svg\" height=\"24px\"viewBox=\"0 0 24 24\"\n",
              "       width=\"24px\">\n",
              "    <path d=\"M0 0h24v24H0V0z\" fill=\"none\"/>\n",
              "    <path d=\"M18.56 5.44l.94 2.06.94-2.06 2.06-.94-2.06-.94-.94-2.06-.94 2.06-2.06.94zm-11 1L8.5 8.5l.94-2.06 2.06-.94-2.06-.94L8.5 2.5l-.94 2.06-2.06.94zm10 10l.94 2.06.94-2.06 2.06-.94-2.06-.94-.94-2.06-.94 2.06-2.06.94z\"/><path d=\"M17.41 7.96l-1.37-1.37c-.4-.4-.92-.59-1.43-.59-.52 0-1.04.2-1.43.59L10.3 9.45l-7.72 7.72c-.78.78-.78 2.05 0 2.83L4 21.41c.39.39.9.59 1.41.59.51 0 1.02-.2 1.41-.59l7.78-7.78 2.81-2.81c.8-.78.8-2.07 0-2.86zM5.41 20L4 18.59l7.72-7.72 1.47 1.35L5.41 20z\"/>\n",
              "  </svg>\n",
              "      </button>\n",
              "      \n",
              "  <style>\n",
              "    .colab-df-container {\n",
              "      display:flex;\n",
              "      flex-wrap:wrap;\n",
              "      gap: 12px;\n",
              "    }\n",
              "\n",
              "    .colab-df-convert {\n",
              "      background-color: #E8F0FE;\n",
              "      border: none;\n",
              "      border-radius: 50%;\n",
              "      cursor: pointer;\n",
              "      display: none;\n",
              "      fill: #1967D2;\n",
              "      height: 32px;\n",
              "      padding: 0 0 0 0;\n",
              "      width: 32px;\n",
              "    }\n",
              "\n",
              "    .colab-df-convert:hover {\n",
              "      background-color: #E2EBFA;\n",
              "      box-shadow: 0px 1px 2px rgba(60, 64, 67, 0.3), 0px 1px 3px 1px rgba(60, 64, 67, 0.15);\n",
              "      fill: #174EA6;\n",
              "    }\n",
              "\n",
              "    [theme=dark] .colab-df-convert {\n",
              "      background-color: #3B4455;\n",
              "      fill: #D2E3FC;\n",
              "    }\n",
              "\n",
              "    [theme=dark] .colab-df-convert:hover {\n",
              "      background-color: #434B5C;\n",
              "      box-shadow: 0px 1px 3px 1px rgba(0, 0, 0, 0.15);\n",
              "      filter: drop-shadow(0px 1px 2px rgba(0, 0, 0, 0.3));\n",
              "      fill: #FFFFFF;\n",
              "    }\n",
              "  </style>\n",
              "\n",
              "      <script>\n",
              "        const buttonEl =\n",
              "          document.querySelector('#df-4eea6056-6f11-41a7-a550-c381ab04b6e0 button.colab-df-convert');\n",
              "        buttonEl.style.display =\n",
              "          google.colab.kernel.accessAllowed ? 'block' : 'none';\n",
              "\n",
              "        async function convertToInteractive(key) {\n",
              "          const element = document.querySelector('#df-4eea6056-6f11-41a7-a550-c381ab04b6e0');\n",
              "          const dataTable =\n",
              "            await google.colab.kernel.invokeFunction('convertToInteractive',\n",
              "                                                     [key], {});\n",
              "          if (!dataTable) return;\n",
              "\n",
              "          const docLinkHtml = 'Like what you see? Visit the ' +\n",
              "            '<a target=\"_blank\" href=https://colab.research.google.com/notebooks/data_table.ipynb>data table notebook</a>'\n",
              "            + ' to learn more about interactive tables.';\n",
              "          element.innerHTML = '';\n",
              "          dataTable['output_type'] = 'display_data';\n",
              "          await google.colab.output.renderOutput(dataTable, element);\n",
              "          const docLink = document.createElement('div');\n",
              "          docLink.innerHTML = docLinkHtml;\n",
              "          element.appendChild(docLink);\n",
              "        }\n",
              "      </script>\n",
              "    </div>\n",
              "  </div>\n",
              "  "
            ]
          },
          "metadata": {},
          "execution_count": 7
        }
      ]
    },
    {
      "cell_type": "markdown",
      "source": [
        "É comum também observar a correlação entre as variáveis do *dataset*. Esta correlação apresenta o quão similar uma variável é da outra, com os numeros mais próximos de 1 (seja positivo ou negativo) sendo representados por alta correlação e os numeros mais próximos de zero (aqui também, tanto positivo quanto negativo) apresentam menos correlação entre si.\n",
        "A questão do sinal positivo ou negativo, indica uma correlação direta ou indireta. Isso significa que, se o numero estiver próximo a 1 positivo, ao passo que o valor de uma variável aumenta a variável comparativa aumenta. Já na questão do sinal negativo, a variável base aumenta seu valor e a variável comparativa diminui. \n",
        "\n",
        "Repare que o valor da diagonal princial é sempre 1. Isso se dá pelo fato de ser uma comparação da variável com ela mesmo, e por se tratar de um valor exatamente igual sempre, a correlação entre elas é de 100%. "
      ],
      "metadata": {
        "id": "hI5eRFhZz-bi"
      }
    },
    {
      "cell_type": "code",
      "source": [
        "corr = df.corr()\n",
        "corr.style.background_gradient()"
      ],
      "metadata": {
        "colab": {
          "base_uri": "https://localhost:8080/",
          "height": 206
        },
        "id": "NQ1Jo-p7zggt",
        "outputId": "02c3a17f-9f7d-4d9c-f0a6-5d2656c99b1a"
      },
      "execution_count": 8,
      "outputs": [
        {
          "output_type": "execute_result",
          "data": {
            "text/plain": [
              "<pandas.io.formats.style.Styler at 0x7f234d5df710>"
            ],
            "text/html": [
              "<style type=\"text/css\">\n",
              "#T_bcb54_row0_col0, #T_bcb54_row1_col1, #T_bcb54_row2_col2, #T_bcb54_row3_col3, #T_bcb54_row4_col4 {\n",
              "  background-color: #023858;\n",
              "  color: #f1f1f1;\n",
              "}\n",
              "#T_bcb54_row0_col1 {\n",
              "  background-color: #d8d7e9;\n",
              "  color: #000000;\n",
              "}\n",
              "#T_bcb54_row0_col2 {\n",
              "  background-color: #034f7d;\n",
              "  color: #f1f1f1;\n",
              "}\n",
              "#T_bcb54_row0_col3 {\n",
              "  background-color: #045b8f;\n",
              "  color: #f1f1f1;\n",
              "}\n",
              "#T_bcb54_row0_col4 {\n",
              "  background-color: #045f95;\n",
              "  color: #f1f1f1;\n",
              "}\n",
              "#T_bcb54_row1_col0, #T_bcb54_row1_col2, #T_bcb54_row1_col3, #T_bcb54_row1_col4, #T_bcb54_row2_col1, #T_bcb54_row4_col1 {\n",
              "  background-color: #fff7fb;\n",
              "  color: #000000;\n",
              "}\n",
              "#T_bcb54_row2_col0 {\n",
              "  background-color: #045788;\n",
              "  color: #f1f1f1;\n",
              "}\n",
              "#T_bcb54_row2_col3, #T_bcb54_row3_col2 {\n",
              "  background-color: #023e62;\n",
              "  color: #f1f1f1;\n",
              "}\n",
              "#T_bcb54_row2_col4, #T_bcb54_row4_col2 {\n",
              "  background-color: #034267;\n",
              "  color: #f1f1f1;\n",
              "}\n",
              "#T_bcb54_row3_col0 {\n",
              "  background-color: #046097;\n",
              "  color: #f1f1f1;\n",
              "}\n",
              "#T_bcb54_row3_col1 {\n",
              "  background-color: #f8f1f8;\n",
              "  color: #000000;\n",
              "}\n",
              "#T_bcb54_row3_col4 {\n",
              "  background-color: #023f64;\n",
              "  color: #f1f1f1;\n",
              "}\n",
              "#T_bcb54_row4_col0 {\n",
              "  background-color: #0566a0;\n",
              "  color: #f1f1f1;\n",
              "}\n",
              "#T_bcb54_row4_col3 {\n",
              "  background-color: #034165;\n",
              "  color: #f1f1f1;\n",
              "}\n",
              "</style>\n",
              "<table id=\"T_bcb54_\" class=\"dataframe\">\n",
              "  <thead>\n",
              "    <tr>\n",
              "      <th class=\"blank level0\" >&nbsp;</th>\n",
              "      <th class=\"col_heading level0 col0\" >sepal length (cm)</th>\n",
              "      <th class=\"col_heading level0 col1\" >sepal width (cm)</th>\n",
              "      <th class=\"col_heading level0 col2\" >petal length (cm)</th>\n",
              "      <th class=\"col_heading level0 col3\" >petal width (cm)</th>\n",
              "      <th class=\"col_heading level0 col4\" >target</th>\n",
              "    </tr>\n",
              "  </thead>\n",
              "  <tbody>\n",
              "    <tr>\n",
              "      <th id=\"T_bcb54_level0_row0\" class=\"row_heading level0 row0\" >sepal length (cm)</th>\n",
              "      <td id=\"T_bcb54_row0_col0\" class=\"data row0 col0\" >1.000000</td>\n",
              "      <td id=\"T_bcb54_row0_col1\" class=\"data row0 col1\" >-0.117570</td>\n",
              "      <td id=\"T_bcb54_row0_col2\" class=\"data row0 col2\" >0.871754</td>\n",
              "      <td id=\"T_bcb54_row0_col3\" class=\"data row0 col3\" >0.817941</td>\n",
              "      <td id=\"T_bcb54_row0_col4\" class=\"data row0 col4\" >0.782561</td>\n",
              "    </tr>\n",
              "    <tr>\n",
              "      <th id=\"T_bcb54_level0_row1\" class=\"row_heading level0 row1\" >sepal width (cm)</th>\n",
              "      <td id=\"T_bcb54_row1_col0\" class=\"data row1 col0\" >-0.117570</td>\n",
              "      <td id=\"T_bcb54_row1_col1\" class=\"data row1 col1\" >1.000000</td>\n",
              "      <td id=\"T_bcb54_row1_col2\" class=\"data row1 col2\" >-0.428440</td>\n",
              "      <td id=\"T_bcb54_row1_col3\" class=\"data row1 col3\" >-0.366126</td>\n",
              "      <td id=\"T_bcb54_row1_col4\" class=\"data row1 col4\" >-0.426658</td>\n",
              "    </tr>\n",
              "    <tr>\n",
              "      <th id=\"T_bcb54_level0_row2\" class=\"row_heading level0 row2\" >petal length (cm)</th>\n",
              "      <td id=\"T_bcb54_row2_col0\" class=\"data row2 col0\" >0.871754</td>\n",
              "      <td id=\"T_bcb54_row2_col1\" class=\"data row2 col1\" >-0.428440</td>\n",
              "      <td id=\"T_bcb54_row2_col2\" class=\"data row2 col2\" >1.000000</td>\n",
              "      <td id=\"T_bcb54_row2_col3\" class=\"data row2 col3\" >0.962865</td>\n",
              "      <td id=\"T_bcb54_row2_col4\" class=\"data row2 col4\" >0.949035</td>\n",
              "    </tr>\n",
              "    <tr>\n",
              "      <th id=\"T_bcb54_level0_row3\" class=\"row_heading level0 row3\" >petal width (cm)</th>\n",
              "      <td id=\"T_bcb54_row3_col0\" class=\"data row3 col0\" >0.817941</td>\n",
              "      <td id=\"T_bcb54_row3_col1\" class=\"data row3 col1\" >-0.366126</td>\n",
              "      <td id=\"T_bcb54_row3_col2\" class=\"data row3 col2\" >0.962865</td>\n",
              "      <td id=\"T_bcb54_row3_col3\" class=\"data row3 col3\" >1.000000</td>\n",
              "      <td id=\"T_bcb54_row3_col4\" class=\"data row3 col4\" >0.956547</td>\n",
              "    </tr>\n",
              "    <tr>\n",
              "      <th id=\"T_bcb54_level0_row4\" class=\"row_heading level0 row4\" >target</th>\n",
              "      <td id=\"T_bcb54_row4_col0\" class=\"data row4 col0\" >0.782561</td>\n",
              "      <td id=\"T_bcb54_row4_col1\" class=\"data row4 col1\" >-0.426658</td>\n",
              "      <td id=\"T_bcb54_row4_col2\" class=\"data row4 col2\" >0.949035</td>\n",
              "      <td id=\"T_bcb54_row4_col3\" class=\"data row4 col3\" >0.956547</td>\n",
              "      <td id=\"T_bcb54_row4_col4\" class=\"data row4 col4\" >1.000000</td>\n",
              "    </tr>\n",
              "  </tbody>\n",
              "</table>\n"
            ]
          },
          "metadata": {},
          "execution_count": 8
        }
      ]
    },
    {
      "cell_type": "markdown",
      "source": [
        "Para explorar os dados de forma visual, é necessário utilizar pacote específicos que permita a geração de gráficos. Existem dois pacotes amplamente utilizados no Python que são o $Matplotlib$ e o $Seaborn$. Nestes exemplos, será utilizado o pacote Matplotlib.\n",
        "\n",
        "Observando apenas duas variáveis, as que possuem maior correlação entre si **petal length (cm)** e **petal width (cm)**, pode-se começar a entender a distribuição dos dados com um *Scatter Plot*. Acompanhe como fica, no código abaixo:\n",
        "\n",
        "$plt.scatter(df['petal length (cm)'],df['petal width (cm)'])$"
      ],
      "metadata": {
        "id": "iBsKElG2yGQR"
      }
    },
    {
      "cell_type": "code",
      "source": [
        "plt.figure(figsize=(15,8))\n",
        "\n",
        "plt.scatter(df['petal length (cm)'],df['petal width (cm)'])\n",
        "plt.title('Correlação entre Petal Length e Petal Width')\n",
        "plt.xlabel('petal length (cm)')\n",
        "plt.ylabel('petal width (cm)');\n"
      ],
      "metadata": {
        "colab": {
          "base_uri": "https://localhost:8080/",
          "height": 513
        },
        "id": "RCatOjl3yGgy",
        "outputId": "ab4326fa-859a-4a89-93d3-3fc784424c70"
      },
      "execution_count": 9,
      "outputs": [
        {
          "output_type": "display_data",
          "data": {
            "text/plain": [
              "<Figure size 1080x576 with 1 Axes>"
            ],
            "image/png": "[encoded data removed]"
          },
          "metadata": {
            "needs_background": "light"
          }
        }
      ]
    },
    {
      "cell_type": "markdown",
      "source": [
        "Para facilitar a visualização é possível adicionar cores a partir das espécies (variável Target no *Dataset*). Para isso, é necessário fazer um laço de repetição em cada espécie, imprimindo apenas os dados daquela espécie. Veja abaixo como fica:"
      ],
      "metadata": {
        "id": "zpc6uyd278Sx"
      }
    },
    {
      "cell_type": "code",
      "source": [
        "plt.figure(figsize=(15,8))\n",
        "\n",
        "cores = {0:'tab:cyan',1:'tab:purple',2:'tab:green'}\n",
        "\n",
        "for especie in df['target'].unique():\n",
        "    tmp = df[df['target'] == especie]\n",
        "    plt.scatter(tmp['petal length (cm)'],tmp['petal width (cm)'], color=cores[especie] )\n",
        "\n",
        "\n",
        "plt.title('Correlação entre Petal Length e Petal Width')\n",
        "plt.xlabel('petal length (cm)')\n",
        "plt.ylabel('petal width (cm)');"
      ],
      "metadata": {
        "colab": {
          "base_uri": "https://localhost:8080/",
          "height": 513
        },
        "id": "AOYTiFDt1vQZ",
        "outputId": "28d2dc3b-9629-4f66-9680-e7b34e6e0069"
      },
      "execution_count": 10,
      "outputs": [
        {
          "output_type": "display_data",
          "data": {
            "text/plain": [
              "<Figure size 1080x576 with 1 Axes>"
            ],
            "image/png": "[encoded data removed]"
          },
          "metadata": {
            "needs_background": "light"
          }
        }
      ]
    },
    {
      "cell_type": "markdown",
      "source": [
        "Uma outra forma de observar a distribuição dos dados é utilizar o **Boxplot**. Esta visualização permite observar, em gráfico, dados estatísticos que foram apresentados no $df.describe()$. As linhas do gráfico representam limite inferior, primeiro quartil, mediana, terceiro quartil e limite superior. Qualquer valor acima do limite superior ou abaixo de limite inferior é considerado *outlier* e é apresentado como um círculo."
      ],
      "metadata": {
        "id": "oKqqN2_w8p7g"
      }
    },
    {
      "cell_type": "code",
      "source": [
        "plt.figure(figsize=(15,8))\n",
        "\n",
        "plt.boxplot(df['sepal width (cm)'])\n",
        "\n",
        "plt.annotate(\"Limite superior\", xy=(1.05,4), color=\"orange\",\n",
        "             fontsize=15,xytext=(1.2,4), arrowprops=dict(facecolor=\"orange\") )\n",
        "\n",
        "plt.annotate(\"3º Quartil\", xy=(1.08,3.3), color=\"purple\",\n",
        "             fontsize=15,xytext=(1.23,3.3), arrowprops=dict(facecolor=\"purple\") )\n",
        "\n",
        "plt.annotate(\"Mediana\", xy=(1.08,3), color=\"green\",\n",
        "             fontsize=15,xytext=(1.23,3), arrowprops=dict(facecolor=\"green\") )\n",
        "\n",
        "plt.annotate(\"1º Quartil\", xy=(1.08,2.8), color=\"blue\",\n",
        "             fontsize=15,xytext=(1.23,2.8), arrowprops=dict(facecolor=\"blue\") )\n",
        "\n",
        "plt.annotate(\"Limite inferior\", xy=(1.05,2.18), color=\"cyan\",\n",
        "             fontsize=15,xytext=(1.2,2.18), arrowprops=dict(facecolor=\"cyan\") )\n",
        "\n",
        "plt.annotate(\"Outlier\", xy=(1.01,4.4), color=\"magenta\",\n",
        "             fontsize=15,xytext=(1.16,4.4), arrowprops=dict(facecolor=\"magenta\") )\n",
        "\n",
        "plt.annotate(\"Outlier\", xy=(1.01,4.1), color=\"magenta\",\n",
        "             fontsize=15,xytext=(1.16,4.4), arrowprops=dict(facecolor=\"magenta\") )\n",
        "\n",
        "plt.annotate(\"Outlier\", xy=(1.01,4.2), color=\"magenta\",\n",
        "             fontsize=15,xytext=(1.16,4.4), arrowprops=dict(facecolor=\"magenta\") )\n",
        "\n",
        "\n",
        "plt.annotate(\"Outlier\", xy=(1.01,2), color=\"magenta\",\n",
        "             fontsize=15,xytext=(1.16,2), arrowprops=dict(facecolor=\"magenta\") )\n",
        "\n",
        "\n",
        "plt.title(\"Boxplot de Sepal Width\")\n",
        ";\n"
      ],
      "metadata": {
        "colab": {
          "base_uri": "https://localhost:8080/",
          "height": 517
        },
        "id": "9tcR6lmP9e7I",
        "outputId": "a5f38156-270f-4bf4-d971-a8511d7c3587"
      },
      "execution_count": 11,
      "outputs": [
        {
          "output_type": "execute_result",
          "data": {
            "text/plain": [
              "''"
            ],
            "application/vnd.google.colaboratory.intrinsic+json": {
              "type": "string"
            }
          },
          "metadata": {},
          "execution_count": 11
        },
        {
          "output_type": "display_data",
          "data": {
            "text/plain": [
              "<Figure size 1080x576 with 1 Axes>"
            ],
            "image/png": "[encoded data removed]"
          },
          "metadata": {
            "needs_background": "light"
          }
        }
      ]
    },
    {
      "cell_type": "markdown",
      "source": [
        "A impressão do gráfico Boxplot pode ser feita, inclusive, com recortes de variáveis para permitir uma comparação e entendimento de como está a distribuição de uma variável, comparada com outros elementos. Acompanhe abaixo como ficou o Boxplot da variável *Sepal Lenght (cm)* separada pela variável *Target*."
      ],
      "metadata": {
        "id": "lHL0XzGxAwIu"
      }
    },
    {
      "cell_type": "code",
      "source": [
        "plt.figure(figsize=(15,8))\n",
        "\n",
        "setosa = [] #0\n",
        "versicolor = [] #1\n",
        "virginica = [] #2\n",
        "\n",
        "flores = df['target'].unique()\n",
        "\n",
        "for j, i in enumerate(df.iloc[:, 4]):\n",
        "  if i == flores[0]:\n",
        "    setosa.append(df.iloc[j, 2])\n",
        "  if i == flores[1]:\n",
        "    versicolor.append(df.iloc[j, 2])\n",
        "  if i == flores[2]:\n",
        "    virginica.append(df.iloc[j, 2])\n",
        "dados_sepal_length = [setosa, versicolor, virginica]\n",
        "\n",
        "\n",
        "plt.boxplot(dados_sepal_length)\n",
        "\n",
        "plt.title(\"Distribuição de Petal Lenght pelas espécies\")\n",
        "plt.xlabel(\"Tipos de Flores\")\n",
        "plt.ylabel(\"petal lenght (cm)\")\n",
        "\n",
        "plt.show()"
      ],
      "metadata": {
        "colab": {
          "base_uri": "https://localhost:8080/",
          "height": 513
        },
        "id": "M86bvsiA2AsY",
        "outputId": "7fef495b-097f-4be2-8a80-f7df598af6be"
      },
      "execution_count": 12,
      "outputs": [
        {
          "output_type": "display_data",
          "data": {
            "text/plain": [
              "<Figure size 1080x576 with 1 Axes>"
            ],
            "image/png": "[encoded data removed]"
          },
          "metadata": {
            "needs_background": "light"
          }
        }
      ]
    }
  ]
}