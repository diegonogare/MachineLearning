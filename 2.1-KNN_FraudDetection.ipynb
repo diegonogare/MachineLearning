{
  "nbformat": 4,
  "nbformat_minor": 0,
  "metadata": {
    "colab": {
      "provenance": [],
      "authorship_tag": "ABX9TyORRTU8hZIWkhplgB3DmK8O"
    },
    "kernelspec": {
      "name": "python3",
      "display_name": "Python 3"
    },
    "language_info": {
      "name": "python"
    }
  },
  "cells": [
    {
      "cell_type": "markdown",
      "source": [
        "#Modelo de Classificação - KNN - Dataset Fraud Detection\n",
        "\n",
        "\n",
        "O algoritmo KNN (K-Nearest Neighbors, ou K vizinhos mais próximos em português) é um algoritmo de aprendizado de máquina supervisionado que pode ser usado para classificação ou regressão. Ele funciona calculando a distância entre um ponto desconhecido e os pontos já classificados no conjunto de dados, e então atribui ao ponto desconhecido a classe que é mais comum entre os K vizinhos mais próximos.\n",
        "\n",
        "Para usar o KNN, primeiro é preciso escolher o valor de K, que é o número de vizinhos mais próximos a serem considerados. Em geral, um valor baixo para K resulta em um modelo mais sensível a ruídos nos dados, enquanto um valor alto pode suavizar as diferenças entre classes, levando a um modelo menos preciso. É preciso experimentar diferentes valores para K e escolher o que funciona melhor para o conjunto de dados específico.\n",
        "\n",
        "Este dataset é encontrado originalmente na competição do Kaggle\n",
        "https://www.kaggle.com/datasets/whenamancodes/fraud-detection\n"
      ],
      "metadata": {
        "id": "I6qWq-cKV5ZS"
      }
    },
    {
      "cell_type": "code",
      "execution_count": null,
      "metadata": {
        "id": "qJkIvgV9VyzD"
      },
      "outputs": [],
      "source": [
        "import pandas as pd\n",
        "import numpy as np\n",
        "import matplotlib.pyplot as plt\n",
        "\n",
        "from sklearn.model_selection import train_test_split\n",
        "\n",
        "from sklearn.neighbors import KNeighborsClassifier\n",
        "\n",
        "from sklearn.metrics import confusion_matrix,ConfusionMatrixDisplay\n",
        "from sklearn.model_selection import cross_val_score\n",
        "\n",
        "import time"
      ]
    },
    {
      "cell_type": "code",
      "source": [
        "df = pd.read_csv(\"https://media.githubusercontent.com/media/diegonogare/MachineLearning/main/creditcard.csv\")"
      ],
      "metadata": {
        "id": "3OyQEznMWIjW"
      },
      "execution_count": null,
      "outputs": []
    },
    {
      "cell_type": "code",
      "source": [
        "df.info()\n",
        "df.describe()\n",
        "df.head()"
      ],
      "metadata": {
        "id": "47hjyKXMWIl9"
      },
      "execution_count": null,
      "outputs": []
    },
    {
      "cell_type": "code",
      "source": [
        "df2 = df[['V3','V4','V7','V10','V11','V12','V14','V16','V17','V18','Class']]\n",
        "\n",
        "corr = df2.corr()\n",
        "corr.style.background_gradient()"
      ],
      "metadata": {
        "id": "qgX2x3AgWOSJ"
      },
      "execution_count": null,
      "outputs": []
    },
    {
      "cell_type": "code",
      "source": [
        "X = df2.drop(['Class'], axis = 1)\n",
        "Y = df2[['Class']]\n",
        "\n",
        "X_train, X_test, y_train, y_test = train_test_split(X, Y, test_size=0.2, random_state=42)"
      ],
      "metadata": {
        "id": "V6RXWDo8WTjD"
      },
      "execution_count": null,
      "outputs": []
    },
    {
      "cell_type": "code",
      "source": [
        "inicio = time.time()\n",
        "modelo_knn = KNeighborsClassifier(n_neighbors=3)\n",
        "modelo_knn.fit(X_train,y_train)\n",
        "termino = time.time()\n",
        "print(\"--- %s segundos para treinar o modelo ---\" % (termino - inicio))"
      ],
      "metadata": {
        "id": "vNtGWWgyX2Ce"
      },
      "execution_count": null,
      "outputs": []
    },
    {
      "cell_type": "code",
      "source": [
        "inicio = time.time()\n",
        "predicao = modelo_knn.predict(X_test)\n",
        "termino = time.time()\n",
        "print(predicao)\n",
        "print(\"--- %s segundos para fazer o scoring do modelo ---\" % (termino - inicio))"
      ],
      "metadata": {
        "id": "xVnLz00tYErQ"
      },
      "execution_count": null,
      "outputs": []
    },
    {
      "cell_type": "code",
      "source": [
        "matriz_confusao = confusion_matrix(y_test, predicao)\n",
        "print(matriz_confusao)\n",
        "\n",
        "matriz_confusao_visual = ConfusionMatrixDisplay(confusion_matrix=matriz_confusao,display_labels = np.array([1,2]))\n",
        "matriz_confusao_visual.plot();\n"
      ],
      "metadata": {
        "id": "qeB9_w_LYo5a"
      },
      "execution_count": null,
      "outputs": []
    }
  ]
}