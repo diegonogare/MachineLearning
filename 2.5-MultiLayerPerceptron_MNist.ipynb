{
  "nbformat": 4,
  "nbformat_minor": 0,
  "metadata": {
    "colab": {
      "provenance": [],
      "authorship_tag": "ABX9TyOO/NX8PJmPr0gk9k7Vt7ew"
    },
    "kernelspec": {
      "name": "python3",
      "display_name": "Python 3"
    },
    "language_info": {
      "name": "python"
    }
  },
  "cells": [
    {
      "cell_type": "markdown",
      "source": [
        "#Modelo de Classificação - Multi-Layer Perceptron - Dataset MNist"
      ],
      "metadata": {
        "id": "_qCQJlPyKX7n"
      }
    },
    {
      "cell_type": "code",
      "execution_count": null,
      "metadata": {
        "id": "Vdyk_VWNDocx"
      },
      "outputs": [],
      "source": [
        "from sklearn.datasets import fetch_openml\n",
        "\n",
        "import pandas as pd\n",
        "import numpy as np\n",
        "\n",
        "import matplotlib\n",
        "import matplotlib.pyplot as plt\n",
        "\n",
        "from sklearn.model_selection import train_test_split\n",
        "from sklearn.neural_network import MLPClassifier\n",
        "\n",
        "from sklearn.metrics import confusion_matrix,ConfusionMatrixDisplay\n",
        "\n",
        "import time"
      ]
    },
    {
      "cell_type": "markdown",
      "source": [
        "A base do MNist pode ser encontrada diretamente no repositório aberto de datasets. O código abaixo faz o download do conjunto de dados de 70.000 imagens de dígitos escritos à mão, de tamanho 28x28 pixels. A base já vem transformada em uma matriz numérica que representa a intensidade de cor daquele pixel."
      ],
      "metadata": {
        "id": "0-9XjIT91gOM"
      }
    },
    {
      "cell_type": "code",
      "source": [
        "mnist = fetch_openml('mnist_784')"
      ],
      "metadata": {
        "id": "eNg97O7EDxa8"
      },
      "execution_count": null,
      "outputs": []
    },
    {
      "cell_type": "code",
      "source": [
        "mnist"
      ],
      "metadata": {
        "id": "Sg6VjogCDxdz"
      },
      "execution_count": null,
      "outputs": []
    },
    {
      "cell_type": "markdown",
      "source": [
        "Os dados já chegaram separados entre valores descritivos e alvo, sendo o atributo $Data$ representando a intensidade dos pixels e o atributo $target$ representando o valor real daquele digito. Acompanhe o código abaixo esta distribuição dos dados no Dataset."
      ],
      "metadata": {
        "id": "Cr6-9wMK2W49"
      }
    },
    {
      "cell_type": "code",
      "source": [
        "X = mnist[\"data\"]\n",
        "y = mnist[\"target\"]\n",
        "\n",
        "print(X.shape)\n",
        "print(y.shape)"
      ],
      "metadata": {
        "id": "CvfIy_VHDxgm"
      },
      "execution_count": null,
      "outputs": []
    },
    {
      "cell_type": "code",
      "source": [
        "X_train, X_test, y_train, y_test = train_test_split(X, y, test_size=0.2, random_state=42)"
      ],
      "metadata": {
        "id": "GbHx9bNNDxiu"
      },
      "execution_count": null,
      "outputs": []
    },
    {
      "cell_type": "markdown",
      "source": [
        "Para treinar a rede neural, é necessário passar alguns hiperparâmetros, como por exemplo a quantidade de camadas escondidas e a quantidade de neurônios. Neste exemplo são implementadas três camadas ocultas contendo respectivamente 400, 200 e 50 neurônios. Também foi definido o máximo de 50.000 épocas de treinamento para o modelo."
      ],
      "metadata": {
        "id": "pWEcs7He26-O"
      }
    },
    {
      "cell_type": "code",
      "source": [
        "inicio = time.time()\n",
        "modelo_nn = MLPClassifier(solver='sgd', max_iter=50000, learning_rate_init = 0.01, hidden_layer_sizes=(400, 200, 50), random_state=42)\n",
        "modelo_nn.fit(X_train,y_train)\n",
        "termino = time.time()\n",
        "print(\"--- %s segundos para treinar o modelo ---\" % (termino - inicio))"
      ],
      "metadata": {
        "id": "9SRMqQ2cDxkr"
      },
      "execution_count": null,
      "outputs": []
    },
    {
      "cell_type": "code",
      "source": [
        "inicio = time.time()\n",
        "predicao = modelo_nn.predict(X_test)\n",
        "termino = time.time()\n",
        "print(predicao)\n",
        "print(\"--- %s segundos para fazer o scoring do modelo ---\" % (termino - inicio))"
      ],
      "metadata": {
        "id": "v4GrGGUzEoqp"
      },
      "execution_count": null,
      "outputs": []
    },
    {
      "cell_type": "code",
      "source": [
        "matriz_confusao = confusion_matrix(y_test, predicao)\n",
        "print(matriz_confusao)\n",
        "\n",
        "matriz_confusao_visual = ConfusionMatrixDisplay(confusion_matrix=matriz_confusao,display_labels = np.array([1,2]))\n",
        "matriz_confusao_visual.plot();"
      ],
      "metadata": {
        "id": "g4YQ-r33Gj6s"
      },
      "execution_count": null,
      "outputs": []
    }
  ]
}