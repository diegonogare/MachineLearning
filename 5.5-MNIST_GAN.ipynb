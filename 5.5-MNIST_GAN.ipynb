{
  "nbformat": 4,
  "nbformat_minor": 0,
  "metadata": {
    "colab": {
      "provenance": [],
      "authorship_tag": "ABX9TyOlYQkulEbT+bPc9vtkKLa1"
    },
    "kernelspec": {
      "name": "python3",
      "display_name": "Python 3"
    },
    "language_info": {
      "name": "python"
    }
  },
  "cells": [
    {
      "cell_type": "markdown",
      "source": [
        "#Treinar a rede GAN para gerar novos digitos"
      ],
      "metadata": {
        "id": "25dDKEMx0KL8"
      }
    },
    {
      "cell_type": "code",
      "execution_count": 1,
      "metadata": {
        "id": "Am5PIHUC0Cp9"
      },
      "outputs": [],
      "source": [
        "import os\n",
        "import numpy as np\n",
        "import matplotlib.pyplot as plt\n",
        "\n",
        "import matplotlib\n",
        "import tensorflow as tf\n",
        "from tensorflow import keras\n",
        "\n",
        "from keras.layers import Input\n",
        "from keras.models import Model, Sequential\n",
        "from keras.layers.core import Dense, Dropout\n",
        "from keras.layers import LeakyReLU\n",
        "from keras.datasets import mnist\n",
        "from keras.optimizers import Adam\n",
        "from keras import initializers\n",
        "\n",
        "import warnings; warnings.simplefilter('ignore')\n",
        "\n",
        "from io import BytesIO\n",
        "import requests\n",
        "import joblib"
      ]
    },
    {
      "cell_type": "code",
      "source": [
        "os.environ[\"KERAS_BACKEND\"] = \"tensorflow\"\n",
        "\n",
        "np.random.seed(42)\n",
        "random_dim = 100"
      ],
      "metadata": {
        "id": "LpciGJ_D0dnq"
      },
      "execution_count": 2,
      "outputs": []
    },
    {
      "cell_type": "code",
      "source": [
        "(X_train, y_train), (X_test, y_test) = mnist.load_data()\n",
        "X_train = (X_train.astype(np.float32) - 127.5)/127.5  \n",
        "X_train = X_train.reshape(60000, 784)"
      ],
      "metadata": {
        "id": "0nbV7JSc0kgT",
        "colab": {
          "base_uri": "https://localhost:8080/"
        },
        "outputId": "5659998e-7da4-4c03-80df-b7774c0651cd"
      },
      "execution_count": 3,
      "outputs": [
        {
          "output_type": "stream",
          "name": "stdout",
          "text": [
            "Downloading data from https://storage.googleapis.com/tensorflow/tf-keras-datasets/mnist.npz\n",
            "11490434/11490434 [==============================] - 0s 0us/step\n"
          ]
        }
      ]
    },
    {
      "cell_type": "code",
      "source": [
        "otimizador = Adam(lr=0.0002, beta_1=0.5)"
      ],
      "metadata": {
        "id": "cBKc4ern1Gac"
      },
      "execution_count": null,
      "outputs": []
    },
    {
      "cell_type": "code",
      "source": [
        "gerador = Sequential()\n",
        "gerador.add(Dense(256, input_dim=random_dim, kernel_initializer=initializers.RandomNormal(stddev=0.02)))\n",
        "gerador.add(LeakyReLU(0.2))\n",
        "\n",
        "gerador.add(Dense(512))\n",
        "gerador.add(LeakyReLU(0.2))\n",
        "\n",
        "gerador.add(Dense(1024))\n",
        "gerador.add(LeakyReLU(0.2))\n",
        "\n",
        "gerador.add(Dense(784, activation='tanh'))\n",
        "gerador.compile(loss='binary_crossentropy', optimizer=otimizador)"
      ],
      "metadata": {
        "id": "YASk6fSS1W_g"
      },
      "execution_count": null,
      "outputs": []
    },
    {
      "cell_type": "code",
      "source": [
        "discriminador = Sequential()\n",
        "discriminador.add(Dense(1024, input_dim=784, kernel_initializer=initializers.RandomNormal(stddev=0.02)))\n",
        "discriminador.add(LeakyReLU(0.2))\n",
        "discriminador.add(Dropout(0.3))\n",
        "\n",
        "discriminador.add(Dense(512))\n",
        "discriminador.add(LeakyReLU(0.2))\n",
        "discriminador.add(Dropout(0.3))\n",
        "\n",
        "discriminador.add(Dense(256))\n",
        "discriminador.add(LeakyReLU(0.2))\n",
        "discriminador.add(Dropout(0.3))\n",
        "\n",
        "discriminador.add(Dense(1, activation='sigmoid'))\n",
        "discriminador.compile(loss='binary_crossentropy', optimizer=otimizador)"
      ],
      "metadata": {
        "id": "Cf8prOt51XF-"
      },
      "execution_count": null,
      "outputs": []
    },
    {
      "cell_type": "code",
      "source": [
        "def gerar_gan(discriminador, randomDim, gerador, otimizador):\n",
        "  discriminador.trainable = False\n",
        "  gan_input = Input(shape=(random_dim,))\n",
        "  x = gerador(gan_input)\n",
        "\n",
        "  gan_output = discriminador(x)\n",
        "  gan = Model(inputs=gan_input, outputs=gan_output)\n",
        "  gan.compile(loss='binary_crossentropy', optimizer=otimizador)\n",
        "\n",
        "  return gan"
      ],
      "metadata": {
        "id": "3lw0fqSv1rRp"
      },
      "execution_count": null,
      "outputs": []
    },
    {
      "cell_type": "code",
      "source": [
        "def salvar_digito_gerado(epoca, exemplos=25, dim=(5, 5), figsize=(10, 10)):\n",
        "    noise = np.random.normal(0, 1, size=[exemplos, random_dim])\n",
        "    imagem_gerada = gerador.predict(noise)\n",
        "    imagem_gerada = imagem_gerada.reshape(exemplos, 28, 28)\n",
        "\n",
        "    plt.figure(figsize=figsize)\n",
        "    for i in range(imagem_gerada.shape[0]):\n",
        "        plt.subplot(dim[0], dim[1], i+1)\n",
        "        plt.imshow(imagem_gerada[i], interpolation='nearest', cmap='gray_r')\n",
        "        plt.axis('off')\n",
        "    plt.tight_layout()\n",
        "    plt.savefig('gan_digito_gerado_epoca_%d.png' % epoca)"
      ],
      "metadata": {
        "id": "LX9DS__G1rUZ"
      },
      "execution_count": null,
      "outputs": []
    },
    {
      "cell_type": "code",
      "source": [
        "epochs = 800\n",
        "batchSize = 128\n",
        "\n",
        "gLosses = []\n",
        "dLosses = []\n",
        "\n",
        "batch_count = X_train.shape[0] / batchSize\n",
        "\n",
        "generator = gerador\n",
        "gan = gerar_gan(discriminador, random_dim, gerador, otimizador)\n",
        "\n",
        "batchCount = X_train.shape[0] / batchSize\n",
        "print('Épocas:', epochs)\n",
        "print('Batch size:', batchSize)\n",
        "print('Batches por época:', batchCount)\n",
        "\n",
        "for e in range(1, epochs+1):\n",
        "    print('-'*15, 'Época %d' % e, '-'*15)\n",
        "\n",
        "    noise = np.random.normal(0, 1, size=[batchSize, random_dim])\n",
        "    imageBatch = X_train[np.random.randint(0, X_train.shape[0], size=batchSize)]\n",
        "\n",
        "    imagemGerada = gerador.predict(noise)\n",
        "    X = np.concatenate([imageBatch, imagemGerada])\n",
        "\n",
        "    yDis = np.zeros(2*batchSize)\n",
        "    yDis[:batchSize] = 0.9\n",
        "\n",
        "    discriminador.trainable = True\n",
        "    dloss = discriminador.train_on_batch(X, yDis)\n",
        "\n",
        "    yGen = np.ones(batchSize)\n",
        "    discriminador.trainable = False\n",
        "    gloss = gan.train_on_batch(noise, yGen)\n",
        "\n",
        "    gLosses.append(gloss)\n",
        "    dLosses.append(dloss)\n",
        "\n",
        "    salvar_digito_gerado(e)"
      ],
      "metadata": {
        "id": "q3OHMhVV1rXB"
      },
      "execution_count": null,
      "outputs": []
    },
    {
      "cell_type": "code",
      "source": [
        "gerador.save('GAN_gerador_MNIST.h5')\n",
        "discriminador.save('GAN_discriminador_MNIST.h5')"
      ],
      "metadata": {
        "id": "CZj4HlaWAU-s"
      },
      "execution_count": null,
      "outputs": []
    },
    {
      "cell_type": "markdown",
      "source": [
        "##Recuperar um dígito do Dataset Original"
      ],
      "metadata": {
        "id": "wHDKBTbgURqV"
      }
    },
    {
      "cell_type": "code",
      "source": [
        "#indice = 1980 #4\n",
        "#indice = 666 #7\n",
        "#indice = 1234 #8\n",
        "#indice = 100 #6\n",
        "indice = 1983 #3\n",
        "\n",
        "digitoDataset = X_test[indice]\n",
        "print(\"Distribuição dos pixels originalmente: \" + str(digitoDataset.shape))\n",
        "\n",
        "digitoDataset = digitoDataset.reshape(28,28)\n",
        "print(\"Distribuição dos pixels redistribuído para 28X28: \" + str(digitoDataset.shape))\n",
        "\n",
        "print(\"No dataset, representa o numero: %d\" % y_test[indice])\n",
        "\n",
        "plt.figure(figsize=(0.28, 0.28))\n",
        "plt.imshow(digitoDataset, cmap=matplotlib.cm.binary)\n",
        "plt.axis('off')\n",
        "plt.subplot()    \n",
        "plt.tight_layout()\n",
        "plt.savefig(\"digito_gerado.png\", dpi=100)\n",
        "plt.show()\n",
        "\n",
        "digito = digitoDataset.reshape(1,784)"
      ],
      "metadata": {
        "id": "WdpqbxpZD_3e",
        "outputId": "c64d643d-6650-4554-cad1-8d41c957df47",
        "colab": {
          "base_uri": "https://localhost:8080/",
          "height": 98
        }
      },
      "execution_count": 116,
      "outputs": [
        {
          "output_type": "stream",
          "name": "stdout",
          "text": [
            "Distribuição dos pixels originalmente: (28, 28)\n",
            "Distribuição dos pixels redistribuído para 28X28: (28, 28)\n",
            "No dataset, representa o numero: 3\n"
          ]
        },
        {
          "output_type": "display_data",
          "data": {
            "text/plain": [
              "<Figure size 20.16x20.16 with 1 Axes>"
            ],
            "image/png": "[encoded data removed]"
          },
          "metadata": {
            "needs_background": "light"
          }
        }
      ]
    },
    {
      "cell_type": "markdown",
      "source": [
        "## Carregar o Gerador, criar um novo dígito e fazer a identificação"
      ],
      "metadata": {
        "id": "AOCOxMwnX7G-"
      }
    },
    {
      "cell_type": "code",
      "source": [
        "mLink = 'https://github.com/diegonogare/MachineLearning/blob/main/modelo_dt_mnist.pkl?raw=true'\n",
        "mfile = BytesIO(requests.get(mLink).content)\n",
        "modelo_dt = joblib.load(mfile)\n",
        "\n",
        "mLink = 'https://github.com/diegonogare/MachineLearning/blob/main/modelo_knn_mnist.pkl?raw=true'\n",
        "mfile = BytesIO(requests.get(mLink).content)\n",
        "modelo_knn = joblib.load(mfile)\n",
        "\n",
        "mLink = 'https://github.com/diegonogare/MachineLearning/blob/main/modelo_mlp_mnist.pkl?raw=true'\n",
        "mfile = BytesIO(requests.get(mLink).content)\n",
        "modelo_mlp = joblib.load(mfile)"
      ],
      "metadata": {
        "id": "z3AOn8fSq0Qc"
      },
      "execution_count": 9,
      "outputs": []
    },
    {
      "cell_type": "code",
      "source": [
        "z_dim = 100\n",
        "\n",
        "g = keras.models.load_model('/content/gerador.h5')\n",
        "g.summary()"
      ],
      "metadata": {
        "colab": {
          "base_uri": "https://localhost:8080/"
        },
        "id": "kd8GRbpvYAix",
        "outputId": "d83f27c1-3b1f-4f15-b18c-0d742aacb4a0"
      },
      "execution_count": 11,
      "outputs": [
        {
          "output_type": "stream",
          "name": "stderr",
          "text": [
            "WARNING:tensorflow:Error in loading the saved optimizer state. As a result, your model is starting with a freshly initialized optimizer.\n"
          ]
        },
        {
          "output_type": "stream",
          "name": "stdout",
          "text": [
            "Model: \"sequential\"\n",
            "_________________________________________________________________\n",
            " Layer (type)                Output Shape              Param #   \n",
            "=================================================================\n",
            " dense (Dense)               (None, 256)               25856     \n",
            "                                                                 \n",
            " dense_1 (Dense)             (None, 512)               131584    \n",
            "                                                                 \n",
            " dense_2 (Dense)             (None, 1024)              525312    \n",
            "                                                                 \n",
            " dense_3 (Dense)             (None, 784)               803600    \n",
            "                                                                 \n",
            "=================================================================\n",
            "Total params: 1,486,352\n",
            "Trainable params: 1,486,352\n",
            "Non-trainable params: 0\n",
            "_________________________________________________________________\n"
          ]
        }
      ]
    },
    {
      "cell_type": "code",
      "source": [
        "def gerar_digito(n_ex=10, dim=(1, 10), figsize=(2, 2)):\n",
        "    noise = np.random.normal(0, 1, size=(n_ex, z_dim))\n",
        "    generated_images = g.predict(noise)\n",
        "    generated_images = generated_images.reshape(28, 28)\n",
        "    \n",
        "    plt.figure(figsize=figsize)\n",
        "    plt.imshow(generated_images, interpolation='nearest', cmap=matplotlib.cm.binary)\n",
        "    plt.axis('off')\n",
        "    plt.subplot()    \n",
        "    plt.tight_layout()\n",
        "    plt.savefig(\"digito_gerado.png\")\n",
        "\n",
        "    plt.show()      \n"
      ],
      "metadata": {
        "id": "c2BQJqN1YAfx"
      },
      "execution_count": 4,
      "outputs": []
    },
    {
      "cell_type": "code",
      "source": [
        "gerar_digito(n_ex=1)"
      ],
      "metadata": {
        "colab": {
          "base_uri": "https://localhost:8080/",
          "height": 170
        },
        "id": "BWiL7tTyYKFd",
        "outputId": "31ac5435-550b-4a62-95c1-8a946d26bca6"
      },
      "execution_count": 46,
      "outputs": [
        {
          "output_type": "stream",
          "name": "stdout",
          "text": [
            "1/1 [==============================] - 0s 16ms/step\n"
          ]
        },
        {
          "output_type": "display_data",
          "data": {
            "text/plain": [
              "<Figure size 144x144 with 1 Axes>"
            ],
            "image/png": "[encoded data removed]"
          },
          "metadata": {
            "needs_background": "light"
          }
        }
      ]
    },
    {
      "cell_type": "markdown",
      "source": [
        "## Transformar a imagem em um array de pixels"
      ],
      "metadata": {
        "id": "BmOhlIHXW5nP"
      }
    },
    {
      "cell_type": "code",
      "source": [
        "image_list = '/content/digito_gerado.png'\n",
        "array_list = tf.keras.preprocessing.image.img_to_array(tf.keras.preprocessing.image.load_img(image_list, color_mode='grayscale', target_size=(28,28))).reshape(1,784).astype(np.int32)\n",
        "\n",
        "plt.imshow(array_list.reshape(28,28), cmap='gray')\n",
        "plt.axis('off')\n",
        "plt.show()"
      ],
      "metadata": {
        "colab": {
          "base_uri": "https://localhost:8080/",
          "height": 248
        },
        "id": "uyFCrx7ZW4fJ",
        "outputId": "485a3d42-9d33-4e6a-9caa-9446091457d5"
      },
      "execution_count": 47,
      "outputs": [
        {
          "output_type": "display_data",
          "data": {
            "text/plain": [
              "<Figure size 432x288 with 1 Axes>"
            ],
            "image/png": "[encoded data removed]"
          },
          "metadata": {
            "needs_background": "light"
          }
        }
      ]
    },
    {
      "cell_type": "code",
      "source": [
        "imprimir_digito = abs(255-array_list) #Numero gerado\n",
        "\n",
        "plt.imshow(imprimir_digito.reshape(28,28), cmap='gray')\n",
        "plt.axis('off')\n",
        "plt.show()\n",
        "\n",
        "predicao_dt = modelo_dt.predict(imprimir_digito)\n",
        "predicao_dt = predicao_dt.astype(np.int64)\n",
        "\n",
        "predicao_knn = modelo_knn.predict(imprimir_digito)\n",
        "predicao_knn = predicao_knn.astype(np.int64)\n",
        "\n",
        "predicao_mlp = modelo_mlp.predict(imprimir_digito)\n",
        "predicao_mlp = predicao_mlp.astype(np.int64)\n",
        "\n",
        "print(\"Com Decisin Tree o modelo identificou: \", predicao_dt);\n",
        "print(\"Com KNN o modelo identificou: \", predicao_knn);\n",
        "print(\"Com MultiLayer Perceptron o modelo identificou: \", predicao_mlp);"
      ],
      "metadata": {
        "id": "j9KXYBORpWpv",
        "outputId": "65fc3bbd-89bf-42f7-d111-abd4dcdcfac6",
        "colab": {
          "base_uri": "https://localhost:8080/",
          "height": 300
        }
      },
      "execution_count": 48,
      "outputs": [
        {
          "output_type": "display_data",
          "data": {
            "text/plain": [
              "<Figure size 432x288 with 1 Axes>"
            ],
            "image/png": "[encoded data removed]"
          },
          "metadata": {
            "needs_background": "light"
          }
        },
        {
          "output_type": "stream",
          "name": "stdout",
          "text": [
            "Com Decisin Tree o modelo identificou:  [9]\n",
            "Com KNN o modelo identificou:  [9]\n",
            "Com MultiLayer Perceptron o modelo identificou:  [9]\n"
          ]
        }
      ]
    }
  ]
}