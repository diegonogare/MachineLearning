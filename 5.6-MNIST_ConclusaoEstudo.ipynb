{
  "nbformat": 4,
  "nbformat_minor": 0,
  "metadata": {
    "colab": {
      "provenance": [],
      "authorship_tag": "ABX9TyOjnzv2p2kvnjeg3vouw4JV"
    },
    "kernelspec": {
      "name": "python3",
      "display_name": "Python 3"
    },
    "language_info": {
      "name": "python"
    }
  },
  "cells": [
    {
      "cell_type": "markdown",
      "source": [
        "#MNIST - Conclusão dos Estudos"
      ],
      "metadata": {
        "id": "qfCalkYkTKHc"
      }
    },
    {
      "cell_type": "code",
      "execution_count": 1,
      "metadata": {
        "id": "mKtJxZ2KTCWH"
      },
      "outputs": [],
      "source": [
        "import warnings; warnings.simplefilter('ignore')\n",
        "\n",
        "import numpy as np\n",
        "import matplotlib.pyplot as plt\n",
        "import matplotlib\n",
        "import tensorflow as tf\n",
        "import requests\n",
        "import joblib\n",
        "\n",
        "from keras.datasets import mnist\n",
        "from tensorflow import keras\n",
        "from io import BytesIO\n"
      ]
    },
    {
      "cell_type": "markdown",
      "source": [
        "## Carregar um dígito do Dataset original"
      ],
      "metadata": {
        "id": "sIV0f9TyTV3u"
      }
    },
    {
      "cell_type": "code",
      "source": [
        "(X_train, y_train), (X_test, y_test) = mnist.load_data()\n",
        "X_train = (X_train.astype(np.float32) - 127.5)/127.5  \n",
        "X_train = X_train.reshape(60000, 784)"
      ],
      "metadata": {
        "colab": {
          "base_uri": "https://localhost:8080/"
        },
        "id": "D-Z7CbbNTQ34",
        "outputId": "72c3e19f-e809-4f44-8eb5-8402cc085746"
      },
      "execution_count": 2,
      "outputs": [
        {
          "output_type": "stream",
          "name": "stdout",
          "text": [
            "Downloading data from https://storage.googleapis.com/tensorflow/tf-keras-datasets/mnist.npz\n",
            "11490434/11490434 [==============================] - 0s 0us/step\n"
          ]
        }
      ]
    },
    {
      "cell_type": "code",
      "source": [
        "#indice = 1980 #4\n",
        "#indice = 666 #7\n",
        "#indice = 1234 #8\n",
        "#indice = 100 #6\n",
        "indice = 1983 #3\n",
        "\n",
        "digitoDataset = X_test[indice]\n",
        "print(\"Distribuição dos pixels originalmente: \" + str(digitoDataset.shape))\n",
        "\n",
        "digitoDataset = digitoDataset.reshape(28,28)\n",
        "print(\"Distribuição dos pixels redistribuído para 28X28: \" + str(digitoDataset.shape))\n",
        "\n",
        "print(\"No dataset, representa o numero: %d\" % y_test[indice])\n",
        "\n",
        "plt.figure(figsize=(0.28, 0.28))\n",
        "plt.imshow(digitoDataset, cmap=matplotlib.cm.binary)\n",
        "plt.axis('off')\n",
        "plt.subplot()    \n",
        "plt.tight_layout()\n",
        "plt.savefig(\"digito_gerado.png\", dpi=100)\n",
        "plt.show()\n",
        "\n",
        "digito = digitoDataset.reshape(1,784)"
      ],
      "metadata": {
        "colab": {
          "base_uri": "https://localhost:8080/",
          "height": 98
        },
        "id": "bEnjb_AVTQ8m",
        "outputId": "1732f8f2-dbe8-4a97-e5f6-0b9eb2fb6363"
      },
      "execution_count": 3,
      "outputs": [
        {
          "output_type": "stream",
          "name": "stdout",
          "text": [
            "Distribuição dos pixels originalmente: (28, 28)\n",
            "Distribuição dos pixels redistribuído para 28X28: (28, 28)\n",
            "No dataset, representa o numero: 3\n"
          ]
        },
        {
          "output_type": "display_data",
          "data": {
            "text/plain": [
              "<Figure size 20.16x20.16 with 1 Axes>"
            ],
            "image/png": "[encoded data removed]"
          },
          "metadata": {
            "needs_background": "light"
          }
        }
      ]
    },
    {
      "cell_type": "markdown",
      "source": [
        "## Carregar o gerador e criar um novo dígito"
      ],
      "metadata": {
        "id": "TCZcBSkLTbR9"
      }
    },
    {
      "cell_type": "code",
      "source": [
        "z_dim = 100\n",
        "\n",
        "g = keras.models.load_model('/content/gerador.h5')\n",
        "g.summary()"
      ],
      "metadata": {
        "colab": {
          "base_uri": "https://localhost:8080/"
        },
        "id": "pKJZlrbETQ-8",
        "outputId": "c1ca98d4-6c9f-493a-aaaa-162f0e13008b"
      },
      "execution_count": 5,
      "outputs": [
        {
          "output_type": "stream",
          "name": "stderr",
          "text": [
            "WARNING:tensorflow:Error in loading the saved optimizer state. As a result, your model is starting with a freshly initialized optimizer.\n"
          ]
        },
        {
          "output_type": "stream",
          "name": "stdout",
          "text": [
            "Model: \"sequential\"\n",
            "_________________________________________________________________\n",
            " Layer (type)                Output Shape              Param #   \n",
            "=================================================================\n",
            " dense (Dense)               (None, 256)               25856     \n",
            "                                                                 \n",
            " dense_1 (Dense)             (None, 512)               131584    \n",
            "                                                                 \n",
            " dense_2 (Dense)             (None, 1024)              525312    \n",
            "                                                                 \n",
            " dense_3 (Dense)             (None, 784)               803600    \n",
            "                                                                 \n",
            "=================================================================\n",
            "Total params: 1,486,352\n",
            "Trainable params: 1,486,352\n",
            "Non-trainable params: 0\n",
            "_________________________________________________________________\n"
          ]
        }
      ]
    },
    {
      "cell_type": "code",
      "source": [
        "def gerar_digito(n_ex=10, dim=(1, 10), figsize=(2, 2)):\n",
        "    noise = np.random.normal(0, 1, size=(n_ex, z_dim))\n",
        "    generated_images = g.predict(noise)\n",
        "    generated_images = generated_images.reshape(28, 28)\n",
        "    \n",
        "    plt.figure(figsize=figsize)\n",
        "    plt.imshow(generated_images, interpolation='nearest', cmap=matplotlib.cm.binary)\n",
        "    plt.axis('off')\n",
        "    plt.subplot()    \n",
        "    plt.tight_layout()\n",
        "    plt.savefig(\"digito_gerado.png\")\n",
        "\n",
        "    plt.show()  "
      ],
      "metadata": {
        "id": "QGd3HVmLTRBV"
      },
      "execution_count": 6,
      "outputs": []
    },
    {
      "cell_type": "code",
      "source": [
        "gerar_digito(n_ex=1)"
      ],
      "metadata": {
        "colab": {
          "base_uri": "https://localhost:8080/",
          "height": 170
        },
        "id": "WYs0rG8nTRDH",
        "outputId": "9c278126-95bc-4722-b6af-e44febc586be"
      },
      "execution_count": 20,
      "outputs": [
        {
          "output_type": "stream",
          "name": "stdout",
          "text": [
            "1/1 [==============================] - 0s 43ms/step\n"
          ]
        },
        {
          "output_type": "display_data",
          "data": {
            "text/plain": [
              "<Figure size 144x144 with 1 Axes>"
            ],
            "image/png": "[encoded data removed]"
          },
          "metadata": {
            "needs_background": "light"
          }
        }
      ]
    },
    {
      "cell_type": "markdown",
      "source": [
        "## Transformar a imagem em um array de pixels"
      ],
      "metadata": {
        "id": "vGAa_MjXTqio"
      }
    },
    {
      "cell_type": "code",
      "source": [
        "image_list = '/content/digito_gerado.png'\n",
        "array_list = tf.keras.preprocessing.image.img_to_array(tf.keras.preprocessing.image.load_img(image_list, color_mode='grayscale', target_size=(28,28))).reshape(1,784).astype(np.int32)\n",
        "\n",
        "plt.imshow(array_list.reshape(28,28), cmap='gray')\n",
        "plt.axis('off')\n",
        "plt.show()"
      ],
      "metadata": {
        "colab": {
          "base_uri": "https://localhost:8080/",
          "height": 248
        },
        "id": "xfmk_lP4ToJJ",
        "outputId": "1bfbff52-2c41-4ead-f61a-76863adae012"
      },
      "execution_count": 21,
      "outputs": [
        {
          "output_type": "display_data",
          "data": {
            "text/plain": [
              "<Figure size 432x288 with 1 Axes>"
            ],
            "image/png": "[encoded data removed]"
          },
          "metadata": {
            "needs_background": "light"
          }
        }
      ]
    },
    {
      "cell_type": "markdown",
      "source": [
        "## Carregar os modelos treinados"
      ],
      "metadata": {
        "id": "3gcQkBH0T1RI"
      }
    },
    {
      "cell_type": "code",
      "source": [
        "mLink = 'https://github.com/diegonogare/MachineLearning/blob/main/modelo_dt_mnist.pkl?raw=true'\n",
        "mfile = BytesIO(requests.get(mLink).content)\n",
        "modelo_dt = joblib.load(mfile)\n",
        "\n",
        "mLink = 'https://github.com/diegonogare/MachineLearning/blob/main/modelo_knn_mnist.pkl?raw=true'\n",
        "mfile = BytesIO(requests.get(mLink).content)\n",
        "modelo_knn = joblib.load(mfile)\n",
        "\n",
        "mLink = 'https://github.com/diegonogare/MachineLearning/blob/main/modelo_mlp_mnist.pkl?raw=true'\n",
        "mfile = BytesIO(requests.get(mLink).content)\n",
        "modelo_mlp = joblib.load(mfile)"
      ],
      "metadata": {
        "id": "tAOOnN0YTRFl"
      },
      "execution_count": 13,
      "outputs": []
    },
    {
      "cell_type": "markdown",
      "source": [
        "## Predizer qual é o digito gerado"
      ],
      "metadata": {
        "id": "aPma7L9hT4Py"
      }
    },
    {
      "cell_type": "code",
      "source": [
        "imprimir_digito = abs(255-array_list) #Numero gerado\n",
        "\n",
        "plt.imshow(imprimir_digito.reshape(28,28), cmap='gray')\n",
        "plt.axis('off')\n",
        "plt.show()\n",
        "\n",
        "predicao_dt = modelo_dt.predict(imprimir_digito)\n",
        "predicao_dt = predicao_dt.astype(np.int64)\n",
        "\n",
        "predicao_knn = modelo_knn.predict(imprimir_digito)\n",
        "predicao_knn = predicao_knn.astype(np.int64)\n",
        "\n",
        "predicao_mlp = modelo_mlp.predict(imprimir_digito)\n",
        "predicao_mlp = predicao_mlp.astype(np.int64)\n",
        "\n",
        "print(\"Com Decisin Tree o modelo identificou: \", predicao_dt);\n",
        "print(\"Com KNN o modelo identificou: \", predicao_knn);\n",
        "print(\"Com MultiLayer Perceptron o modelo identificou: \", predicao_mlp);"
      ],
      "metadata": {
        "colab": {
          "base_uri": "https://localhost:8080/",
          "height": 300
        },
        "id": "XjhiA9lSTvfF",
        "outputId": "66d79d58-aad3-42c9-d023-010d528ecd15"
      },
      "execution_count": 22,
      "outputs": [
        {
          "output_type": "display_data",
          "data": {
            "text/plain": [
              "<Figure size 432x288 with 1 Axes>"
            ],
            "image/png": "[encoded data removed]"
          },
          "metadata": {
            "needs_background": "light"
          }
        },
        {
          "output_type": "stream",
          "name": "stdout",
          "text": [
            "Com Decisin Tree o modelo identificou:  [7]\n",
            "Com KNN o modelo identificou:  [7]\n",
            "Com MultiLayer Perceptron o modelo identificou:  [7]\n"
          ]
        }
      ]
    }
  ]
}