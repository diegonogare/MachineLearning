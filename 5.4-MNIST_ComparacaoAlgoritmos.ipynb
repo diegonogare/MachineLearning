{
  "nbformat": 4,
  "nbformat_minor": 0,
  "metadata": {
    "colab": {
      "provenance": [],
      "authorship_tag": "ABX9TyNMOzwAwWQYeMPZHZGd0nim"
    },
    "kernelspec": {
      "name": "python3",
      "display_name": "Python 3"
    },
    "language_info": {
      "name": "python"
    }
  },
  "cells": [
    {
      "cell_type": "markdown",
      "source": [
        "# Comparação entre os modelos utilizando a base de dados MNIST"
      ],
      "metadata": {
        "id": "-O6TQN7bb40Y"
      }
    },
    {
      "cell_type": "code",
      "execution_count": 1,
      "metadata": {
        "id": "PXhCPOD6ryw2"
      },
      "outputs": [],
      "source": [
        "from sklearn.datasets import fetch_openml\n",
        "\n",
        "import joblib\n",
        "from sklearn.model_selection import StratifiedKFold\n",
        "\n",
        "from sklearn.metrics import confusion_matrix,ConfusionMatrixDisplay\n",
        "from sklearn.metrics import classification_report\n",
        "import numpy as np\n",
        "\n",
        "from io import BytesIO\n",
        "import requests\n",
        "import time"
      ]
    },
    {
      "cell_type": "code",
      "source": [
        "mnist = fetch_openml('mnist_784')"
      ],
      "metadata": {
        "id": "v1hkrzdLr81_"
      },
      "execution_count": null,
      "outputs": []
    },
    {
      "cell_type": "code",
      "source": [
        "X = mnist[\"data\"]\n",
        "y = mnist[\"target\"]\n",
        "\n",
        "print(X.shape)\n",
        "print(y.shape)"
      ],
      "metadata": {
        "id": "1k9YuuFmr84n"
      },
      "execution_count": null,
      "outputs": []
    },
    {
      "cell_type": "code",
      "source": [
        "kfolds = StratifiedKFold(n_splits=10, random_state=42, shuffle=True)"
      ],
      "metadata": {
        "id": "-gCkAbBKJ2Ey"
      },
      "execution_count": null,
      "outputs": []
    },
    {
      "cell_type": "code",
      "source": [
        "X_treino, y_treino, X_teste, y_teste = [],[],[],[]\n",
        "\n",
        "for idx_treino, idx_teste in kfolds.split(X, y):\n",
        "  X_treino.append(idx_treino)\n",
        "  y_treino.append(idx_treino)\n",
        "  X_teste.append(idx_teste)\n",
        "  y_teste.append(idx_teste)\n"
      ],
      "metadata": {
        "id": "CV57NDJRLWBZ"
      },
      "execution_count": null,
      "outputs": []
    },
    {
      "cell_type": "markdown",
      "source": [
        "## Algoritmo KNN"
      ],
      "metadata": {
        "id": "T5p0Jx5Lb34j"
      }
    },
    {
      "cell_type": "code",
      "source": [
        "mLink = 'https://github.com/diegonogare/MachineLearning/blob/main/modelo_knn_mnist.pkl?raw=true'\n",
        "mfile = BytesIO(requests.get(mLink).content)\n",
        "modelo_knn = joblib.load(mfile)"
      ],
      "metadata": {
        "id": "9tBZIiR-Mp-q"
      },
      "execution_count": null,
      "outputs": []
    },
    {
      "cell_type": "code",
      "source": [
        "for pasta in range(0,len(X_teste)):\n",
        "  print(\"EXECUÇÃO DA PASTA \", pasta)\n",
        "  print(\"-\"*20)\n",
        "\n",
        "  X_testeMNIST = X_teste[pasta].tolist()\n",
        "  y_testeMNIST = y_teste[pasta].tolist()\n",
        "\n",
        "  inicio = time.time()\n",
        "  predicao = modelo_dt.predict(X.loc[X_testeMNIST])\n",
        "  termino = time.time()\n",
        "  print(\"[%s segundos para fazer o scoring do modelo]\" % (termino - inicio))\n",
        "\n",
        "  matriz_confusao = confusion_matrix(y.loc[y_testeMNIST], predicao)\n",
        "  print(matriz_confusao) \n",
        "  print(' ')  \n",
        "  print(classification_report(y.loc[y_testeMNIST], predicao))\n",
        "\n",
        "  #matriz_confusao_visual = ConfusionMatrixDisplay(confusion_matrix=matriz_confusao,display_labels = np.array([1,2]))\n",
        "  #matriz_confusao_visual.plot();\n",
        "  print(\"#\"*40)"
      ],
      "metadata": {
        "id": "b1tYCkdQWHfi"
      },
      "execution_count": null,
      "outputs": []
    },
    {
      "cell_type": "markdown",
      "source": [
        "## Algoritmo Decision Tree"
      ],
      "metadata": {
        "id": "cVLU35kZgLeh"
      }
    },
    {
      "cell_type": "code",
      "source": [
        "mLink = 'https://github.com/diegonogare/MachineLearning/blob/main/modelo_dt_mnist.pkl?raw=true'\n",
        "mfile = BytesIO(requests.get(mLink).content)\n",
        "modelo_dt = joblib.load(mfile)"
      ],
      "metadata": {
        "id": "jfU6Ta3oT89k"
      },
      "execution_count": null,
      "outputs": []
    },
    {
      "cell_type": "code",
      "source": [
        "\n",
        "\n",
        "for pasta in range(0,len(X_teste)):\n",
        "  print(\"EXECUÇÃO DA PASTA \", pasta)\n",
        "  print(\"-\"*20)\n",
        "\n",
        "  X_testeMNIST = X_teste[pasta].tolist()\n",
        "  y_testeMNIST = y_teste[pasta].tolist()\n",
        "\n",
        "  inicio = time.time()\n",
        "  predicao = modelo_dt.predict(X.loc[X_testeMNIST])\n",
        "  termino = time.time()\n",
        "  print(\"[%s segundos para fazer o scoring do modelo]\" % (termino - inicio))\n",
        "\n",
        "  matriz_confusao = confusion_matrix(y.loc[y_testeMNIST], predicao)\n",
        "  print(matriz_confusao) \n",
        "  print(' ')  \n",
        "  print(classification_report(y.loc[y_testeMNIST], predicao))\n",
        "\n",
        "  #matriz_confusao_visual = ConfusionMatrixDisplay(confusion_matrix=matriz_confusao,display_labels = np.array([1,2]))\n",
        "  #matriz_confusao_visual.plot();\n",
        "  print(\"#\"*40)"
      ],
      "metadata": {
        "id": "_R69_tNzT9ic"
      },
      "execution_count": null,
      "outputs": []
    },
    {
      "cell_type": "markdown",
      "source": [
        "## Algoritmo Multi-Layer Perceptron"
      ],
      "metadata": {
        "id": "urtchp28gPzN"
      }
    }
  ]
}