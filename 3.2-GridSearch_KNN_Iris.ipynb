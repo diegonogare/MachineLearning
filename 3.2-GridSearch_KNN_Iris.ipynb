{
  "nbformat": 4,
  "nbformat_minor": 0,
  "metadata": {
    "colab": {
      "provenance": [],
      "authorship_tag": "ABX9TyOXBODnLC3Dax68aQV/nN/i"
    },
    "kernelspec": {
      "name": "python3",
      "display_name": "Python 3"
    },
    "language_info": {
      "name": "python"
    }
  },
  "cells": [
    {
      "cell_type": "code",
      "execution_count": 7,
      "metadata": {
        "id": "LrYqdQQunE0i"
      },
      "outputs": [],
      "source": [
        "from sklearn import datasets\n",
        "from sklearn.model_selection import cross_val_score\n",
        "from sklearn.model_selection import StratifiedKFold\n",
        "from sklearn.model_selection import GridSearchCV\n",
        "\n",
        "from sklearn.neighbors import KNeighborsClassifier\n",
        "\n",
        "import time"
      ]
    },
    {
      "cell_type": "code",
      "source": [
        "iris = datasets.load_iris()\n",
        "X = iris.data\n",
        "y = iris.target"
      ],
      "metadata": {
        "id": "VqVCuX1x0sPA"
      },
      "execution_count": null,
      "outputs": []
    },
    {
      "cell_type": "markdown",
      "source": [
        "Para configurar os parâmetros que o KNN irá utilizar para fazer a busca, defini a quantidade de visinhos como **3**, **5** e **7**, os pesos como **Uniforme** e **Distância** (https://scikit-learn.org/stable/modules/generated/sklearn.neighbors.KNeighborsClassifier.html) e a métrica de distância como **Euclideana** e **Manhattan** (https://scikit-learn.org/stable/modules/generated/sklearn.metrics.pairwise.distance_metrics.html#sklearn.metrics.pairwise.distance_metrics)\n",
        "\n",
        "$3 visinhos * 2 pesos * 2 métricas$ totaliza uma busca por 12 combinações diferentes de parâmetros possíveis para essa configuração. Se aumentar a busca de vizinhos para 4 opções, o total salta de 12 para 16 combinações ($4 vizinhos * 2 pesos * 2 métricas = 16 combinações$).\n",
        "\n",
        "Tudo isso, multiplicado pela quantidade de pastas que foram definidas no *Cross Validation*. Neste caso são 10 pastas, então o total de combinações possíveis é multiplicado por 10, chegando a 120 iterações."
      ],
      "metadata": {
        "id": "gd-EJp3u3HOy"
      }
    },
    {
      "cell_type": "code",
      "source": [
        "param_grid = [{'n_neighbors':[3,5,7],\n",
        "               'weights':['uniform', 'distance'],\n",
        "               'metric':['euclidean','manhattan']}]"
      ],
      "metadata": {
        "id": "oCqI98BF0sRm"
      },
      "execution_count": null,
      "outputs": []
    },
    {
      "cell_type": "code",
      "source": [
        "knn = KNeighborsClassifier()\n",
        "\n",
        "inicio = time.time()\n",
        "\n",
        "grid_search_knn = GridSearchCV(knn, param_grid, cv=10, verbose=3 )\n",
        "resultado_modelo = grid_search_knn.fit(X,y)\n",
        "\n",
        "termino = time.time()\n",
        "print(\"--- %s segundos para treinar o modelo ---\" % (termino - inicio))"
      ],
      "metadata": {
        "colab": {
          "base_uri": "https://localhost:8080/"
        },
        "id": "81qkuFCX0sUE",
        "outputId": "7092c198-340c-4fcb-e97e-75a6e4f48dca"
      },
      "execution_count": 12,
      "outputs": [
        {
          "output_type": "stream",
          "name": "stdout",
          "text": [
            "Fitting 10 folds for each of 12 candidates, totalling 120 fits\n",
            "[CV 1/10] END metric=euclidean, n_neighbors=3, weights=uniform;, score=1.000 total time=   0.0s\n",
            "[CV 2/10] END metric=euclidean, n_neighbors=3, weights=uniform;, score=0.933 total time=   0.0s\n",
            "[CV 3/10] END metric=euclidean, n_neighbors=3, weights=uniform;, score=1.000 total time=   0.0s\n",
            "[CV 4/10] END metric=euclidean, n_neighbors=3, weights=uniform;, score=0.933 total time=   0.0s\n",
            "[CV 5/10] END metric=euclidean, n_neighbors=3, weights=uniform;, score=0.867 total time=   0.0s\n",
            "[CV 6/10] END metric=euclidean, n_neighbors=3, weights=uniform;, score=1.000 total time=   0.0s\n",
            "[CV 7/10] END metric=euclidean, n_neighbors=3, weights=uniform;, score=0.933 total time=   0.0s\n",
            "[CV 8/10] END metric=euclidean, n_neighbors=3, weights=uniform;, score=1.000 total time=   0.0s\n",
            "[CV 9/10] END metric=euclidean, n_neighbors=3, weights=uniform;, score=1.000 total time=   0.0s\n",
            "[CV 10/10] END metric=euclidean, n_neighbors=3, weights=uniform;, score=1.000 total time=   0.0s\n",
            "[CV 1/10] END metric=euclidean, n_neighbors=3, weights=distance;, score=1.000 total time=   0.0s\n",
            "[CV 2/10] END metric=euclidean, n_neighbors=3, weights=distance;, score=0.933 total time=   0.0s\n",
            "[CV 3/10] END metric=euclidean, n_neighbors=3, weights=distance;, score=1.000 total time=   0.0s\n",
            "[CV 4/10] END metric=euclidean, n_neighbors=3, weights=distance;, score=0.933 total time=   0.0s\n",
            "[CV 5/10] END metric=euclidean, n_neighbors=3, weights=distance;, score=0.867 total time=   0.0s\n",
            "[CV 6/10] END metric=euclidean, n_neighbors=3, weights=distance;, score=1.000 total time=   0.0s\n",
            "[CV 7/10] END metric=euclidean, n_neighbors=3, weights=distance;, score=0.933 total time=   0.0s\n",
            "[CV 8/10] END metric=euclidean, n_neighbors=3, weights=distance;, score=1.000 total time=   0.0s\n",
            "[CV 9/10] END metric=euclidean, n_neighbors=3, weights=distance;, score=1.000 total time=   0.0s\n",
            "[CV 10/10] END metric=euclidean, n_neighbors=3, weights=distance;, score=1.000 total time=   0.0s\n",
            "[CV 1/10] END metric=euclidean, n_neighbors=5, weights=uniform;, score=1.000 total time=   0.0s\n",
            "[CV 2/10] END metric=euclidean, n_neighbors=5, weights=uniform;, score=0.933 total time=   0.0s\n",
            "[CV 3/10] END metric=euclidean, n_neighbors=5, weights=uniform;, score=1.000 total time=   0.0s\n",
            "[CV 4/10] END metric=euclidean, n_neighbors=5, weights=uniform;, score=1.000 total time=   0.0s\n",
            "[CV 5/10] END metric=euclidean, n_neighbors=5, weights=uniform;, score=0.867 total time=   0.0s\n",
            "[CV 6/10] END metric=euclidean, n_neighbors=5, weights=uniform;, score=0.933 total time=   0.0s\n",
            "[CV 7/10] END metric=euclidean, n_neighbors=5, weights=uniform;, score=0.933 total time=   0.0s\n",
            "[CV 8/10] END metric=euclidean, n_neighbors=5, weights=uniform;, score=1.000 total time=   0.0s\n",
            "[CV 9/10] END metric=euclidean, n_neighbors=5, weights=uniform;, score=1.000 total time=   0.0s\n",
            "[CV 10/10] END metric=euclidean, n_neighbors=5, weights=uniform;, score=1.000 total time=   0.0s\n",
            "[CV 1/10] END metric=euclidean, n_neighbors=5, weights=distance;, score=1.000 total time=   0.0s\n",
            "[CV 2/10] END metric=euclidean, n_neighbors=5, weights=distance;, score=0.933 total time=   0.0s\n",
            "[CV 3/10] END metric=euclidean, n_neighbors=5, weights=distance;, score=1.000 total time=   0.0s\n",
            "[CV 4/10] END metric=euclidean, n_neighbors=5, weights=distance;, score=1.000 total time=   0.0s\n",
            "[CV 5/10] END metric=euclidean, n_neighbors=5, weights=distance;, score=0.867 total time=   0.0s\n",
            "[CV 6/10] END metric=euclidean, n_neighbors=5, weights=distance;, score=0.933 total time=   0.0s\n",
            "[CV 7/10] END metric=euclidean, n_neighbors=5, weights=distance;, score=0.933 total time=   0.0s\n",
            "[CV 8/10] END metric=euclidean, n_neighbors=5, weights=distance;, score=1.000 total time=   0.0s\n",
            "[CV 9/10] END metric=euclidean, n_neighbors=5, weights=distance;, score=1.000 total time=   0.0s\n",
            "[CV 10/10] END metric=euclidean, n_neighbors=5, weights=distance;, score=1.000 total time=   0.0s\n",
            "[CV 1/10] END metric=euclidean, n_neighbors=7, weights=uniform;, score=1.000 total time=   0.0s\n",
            "[CV 2/10] END metric=euclidean, n_neighbors=7, weights=uniform;, score=0.933 total time=   0.0s\n",
            "[CV 3/10] END metric=euclidean, n_neighbors=7, weights=uniform;, score=1.000 total time=   0.0s\n",
            "[CV 4/10] END metric=euclidean, n_neighbors=7, weights=uniform;, score=1.000 total time=   0.0s\n",
            "[CV 5/10] END metric=euclidean, n_neighbors=7, weights=uniform;, score=0.867 total time=   0.0s\n",
            "[CV 6/10] END metric=euclidean, n_neighbors=7, weights=uniform;, score=0.933 total time=   0.0s\n",
            "[CV 7/10] END metric=euclidean, n_neighbors=7, weights=uniform;, score=0.933 total time=   0.0s\n",
            "[CV 8/10] END metric=euclidean, n_neighbors=7, weights=uniform;, score=1.000 total time=   0.0s\n",
            "[CV 9/10] END metric=euclidean, n_neighbors=7, weights=uniform;, score=1.000 total time=   0.0s\n",
            "[CV 10/10] END metric=euclidean, n_neighbors=7, weights=uniform;, score=1.000 total time=   0.0s\n",
            "[CV 1/10] END metric=euclidean, n_neighbors=7, weights=distance;, score=1.000 total time=   0.0s\n",
            "[CV 2/10] END metric=euclidean, n_neighbors=7, weights=distance;, score=0.933 total time=   0.0s\n",
            "[CV 3/10] END metric=euclidean, n_neighbors=7, weights=distance;, score=1.000 total time=   0.0s\n",
            "[CV 4/10] END metric=euclidean, n_neighbors=7, weights=distance;, score=1.000 total time=   0.0s\n",
            "[CV 5/10] END metric=euclidean, n_neighbors=7, weights=distance;, score=0.867 total time=   0.0s\n",
            "[CV 6/10] END metric=euclidean, n_neighbors=7, weights=distance;, score=0.933 total time=   0.0s\n",
            "[CV 7/10] END metric=euclidean, n_neighbors=7, weights=distance;, score=0.933 total time=   0.0s\n",
            "[CV 8/10] END metric=euclidean, n_neighbors=7, weights=distance;, score=1.000 total time=   0.0s\n",
            "[CV 9/10] END metric=euclidean, n_neighbors=7, weights=distance;, score=1.000 total time=   0.0s\n",
            "[CV 10/10] END metric=euclidean, n_neighbors=7, weights=distance;, score=1.000 total time=   0.0s\n",
            "[CV 1/10] END metric=manhattan, n_neighbors=3, weights=uniform;, score=1.000 total time=   0.0s\n",
            "[CV 2/10] END metric=manhattan, n_neighbors=3, weights=uniform;, score=0.933 total time=   0.0s\n",
            "[CV 3/10] END metric=manhattan, n_neighbors=3, weights=uniform;, score=1.000 total time=   0.0s\n",
            "[CV 4/10] END metric=manhattan, n_neighbors=3, weights=uniform;, score=0.933 total time=   0.0s\n",
            "[CV 5/10] END metric=manhattan, n_neighbors=3, weights=uniform;, score=0.867 total time=   0.0s\n",
            "[CV 6/10] END metric=manhattan, n_neighbors=3, weights=uniform;, score=1.000 total time=   0.0s\n",
            "[CV 7/10] END metric=manhattan, n_neighbors=3, weights=uniform;, score=0.933 total time=   0.0s\n",
            "[CV 8/10] END metric=manhattan, n_neighbors=3, weights=uniform;, score=1.000 total time=   0.0s\n",
            "[CV 9/10] END metric=manhattan, n_neighbors=3, weights=uniform;, score=1.000 total time=   0.0s\n",
            "[CV 10/10] END metric=manhattan, n_neighbors=3, weights=uniform;, score=1.000 total time=   0.0s\n",
            "[CV 1/10] END metric=manhattan, n_neighbors=3, weights=distance;, score=1.000 total time=   0.0s\n",
            "[CV 2/10] END metric=manhattan, n_neighbors=3, weights=distance;, score=0.933 total time=   0.0s\n",
            "[CV 3/10] END metric=manhattan, n_neighbors=3, weights=distance;, score=1.000 total time=   0.0s\n",
            "[CV 4/10] END metric=manhattan, n_neighbors=3, weights=distance;, score=0.933 total time=   0.0s\n",
            "[CV 5/10] END metric=manhattan, n_neighbors=3, weights=distance;, score=0.867 total time=   0.0s\n",
            "[CV 6/10] END metric=manhattan, n_neighbors=3, weights=distance;, score=1.000 total time=   0.0s\n",
            "[CV 7/10] END metric=manhattan, n_neighbors=3, weights=distance;, score=0.933 total time=   0.0s\n",
            "[CV 8/10] END metric=manhattan, n_neighbors=3, weights=distance;, score=1.000 total time=   0.0s\n",
            "[CV 9/10] END metric=manhattan, n_neighbors=3, weights=distance;, score=1.000 total time=   0.0s\n",
            "[CV 10/10] END metric=manhattan, n_neighbors=3, weights=distance;, score=1.000 total time=   0.0s\n",
            "[CV 1/10] END metric=manhattan, n_neighbors=5, weights=uniform;, score=1.000 total time=   0.0s\n",
            "[CV 2/10] END metric=manhattan, n_neighbors=5, weights=uniform;, score=0.933 total time=   0.0s\n",
            "[CV 3/10] END metric=manhattan, n_neighbors=5, weights=uniform;, score=1.000 total time=   0.0s\n",
            "[CV 4/10] END metric=manhattan, n_neighbors=5, weights=uniform;, score=1.000 total time=   0.0s\n",
            "[CV 5/10] END metric=manhattan, n_neighbors=5, weights=uniform;, score=0.867 total time=   0.0s\n",
            "[CV 6/10] END metric=manhattan, n_neighbors=5, weights=uniform;, score=0.933 total time=   0.0s\n",
            "[CV 7/10] END metric=manhattan, n_neighbors=5, weights=uniform;, score=0.933 total time=   0.0s\n",
            "[CV 8/10] END metric=manhattan, n_neighbors=5, weights=uniform;, score=1.000 total time=   0.0s\n",
            "[CV 9/10] END metric=manhattan, n_neighbors=5, weights=uniform;, score=1.000 total time=   0.0s\n",
            "[CV 10/10] END metric=manhattan, n_neighbors=5, weights=uniform;, score=1.000 total time=   0.0s\n",
            "[CV 1/10] END metric=manhattan, n_neighbors=5, weights=distance;, score=1.000 total time=   0.0s\n",
            "[CV 2/10] END metric=manhattan, n_neighbors=5, weights=distance;, score=0.933 total time=   0.0s\n",
            "[CV 3/10] END metric=manhattan, n_neighbors=5, weights=distance;, score=1.000 total time=   0.0s\n",
            "[CV 4/10] END metric=manhattan, n_neighbors=5, weights=distance;, score=1.000 total time=   0.0s\n",
            "[CV 5/10] END metric=manhattan, n_neighbors=5, weights=distance;, score=0.867 total time=   0.0s\n",
            "[CV 6/10] END metric=manhattan, n_neighbors=5, weights=distance;, score=0.933 total time=   0.0s\n",
            "[CV 7/10] END metric=manhattan, n_neighbors=5, weights=distance;, score=0.933 total time=   0.0s\n",
            "[CV 8/10] END metric=manhattan, n_neighbors=5, weights=distance;, score=1.000 total time=   0.0s\n",
            "[CV 9/10] END metric=manhattan, n_neighbors=5, weights=distance;, score=1.000 total time=   0.0s\n",
            "[CV 10/10] END metric=manhattan, n_neighbors=5, weights=distance;, score=1.000 total time=   0.0s\n",
            "[CV 1/10] END metric=manhattan, n_neighbors=7, weights=uniform;, score=1.000 total time=   0.0s\n",
            "[CV 2/10] END metric=manhattan, n_neighbors=7, weights=uniform;, score=0.933 total time=   0.0s\n",
            "[CV 3/10] END metric=manhattan, n_neighbors=7, weights=uniform;, score=1.000 total time=   0.0s\n",
            "[CV 4/10] END metric=manhattan, n_neighbors=7, weights=uniform;, score=1.000 total time=   0.0s\n",
            "[CV 5/10] END metric=manhattan, n_neighbors=7, weights=uniform;, score=0.867 total time=   0.0s\n",
            "[CV 6/10] END metric=manhattan, n_neighbors=7, weights=uniform;, score=0.867 total time=   0.0s\n",
            "[CV 7/10] END metric=manhattan, n_neighbors=7, weights=uniform;, score=0.933 total time=   0.0s\n",
            "[CV 8/10] END metric=manhattan, n_neighbors=7, weights=uniform;, score=0.933 total time=   0.0s\n",
            "[CV 9/10] END metric=manhattan, n_neighbors=7, weights=uniform;, score=1.000 total time=   0.0s\n",
            "[CV 10/10] END metric=manhattan, n_neighbors=7, weights=uniform;, score=1.000 total time=   0.0s\n",
            "[CV 1/10] END metric=manhattan, n_neighbors=7, weights=distance;, score=1.000 total time=   0.0s\n",
            "[CV 2/10] END metric=manhattan, n_neighbors=7, weights=distance;, score=0.933 total time=   0.0s\n",
            "[CV 3/10] END metric=manhattan, n_neighbors=7, weights=distance;, score=1.000 total time=   0.0s\n",
            "[CV 4/10] END metric=manhattan, n_neighbors=7, weights=distance;, score=1.000 total time=   0.0s\n",
            "[CV 5/10] END metric=manhattan, n_neighbors=7, weights=distance;, score=0.867 total time=   0.0s\n",
            "[CV 6/10] END metric=manhattan, n_neighbors=7, weights=distance;, score=0.933 total time=   0.0s\n",
            "[CV 7/10] END metric=manhattan, n_neighbors=7, weights=distance;, score=0.933 total time=   0.0s\n",
            "[CV 8/10] END metric=manhattan, n_neighbors=7, weights=distance;, score=1.000 total time=   0.0s\n",
            "[CV 9/10] END metric=manhattan, n_neighbors=7, weights=distance;, score=1.000 total time=   0.0s\n",
            "[CV 10/10] END metric=manhattan, n_neighbors=7, weights=distance;, score=1.000 total time=   0.0s\n",
            "--- 0.4910712242126465 segundos para treinar o modelo ---\n"
          ]
        }
      ]
    },
    {
      "cell_type": "code",
      "source": [
        "print(\"Melhores Parâmetros\")\n",
        "print(grid_search_knn.best_params_)\n",
        "print(\"**************\")\n",
        "print(\"Melhores Estimadores\")\n",
        "print(grid_search_knn.best_estimator_)\n",
        "print(\"**************\")\n",
        "print(\"Melhores Pontuações\")\n",
        "print(grid_search_knn.best_score_)"
      ],
      "metadata": {
        "colab": {
          "base_uri": "https://localhost:8080/"
        },
        "id": "Njbjkt1L1DBX",
        "outputId": "371ee7fa-bc80-46f6-aee1-c62295b5fd7f"
      },
      "execution_count": 10,
      "outputs": [
        {
          "output_type": "stream",
          "name": "stdout",
          "text": [
            "Melhores Parâmetros\n",
            "{'metric': 'euclidean', 'n_neighbors': 5, 'weights': 'uniform'}\n",
            "**************\n",
            "Melhores Estimadores\n",
            "KNeighborsClassifier(metric='euclidean')\n",
            "**************\n",
            "Melhores Pontuações\n",
            "0.9666666666666668\n"
          ]
        }
      ]
    }
  ]
}