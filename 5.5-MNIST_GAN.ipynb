{
  "nbformat": 4,
  "nbformat_minor": 0,
  "metadata": {
    "colab": {
      "provenance": [],
      "authorship_tag": "ABX9TyPf2rJLwrTEdaNXGkUI90rN"
    },
    "kernelspec": {
      "name": "python3",
      "display_name": "Python 3"
    },
    "language_info": {
      "name": "python"
    }
  },
  "cells": [
    {
      "cell_type": "markdown",
      "source": [
        "#Usando GAN para gerar novos digitos"
      ],
      "metadata": {
        "id": "25dDKEMx0KL8"
      }
    },
    {
      "cell_type": "code",
      "execution_count": 123,
      "metadata": {
        "id": "Am5PIHUC0Cp9"
      },
      "outputs": [],
      "source": [
        "import os\n",
        "import numpy as np\n",
        "import matplotlib.pyplot as plt\n",
        "\n",
        "import matplotlib\n",
        "import tensorflow as tf\n",
        "from tensorflow import keras\n",
        "\n",
        "from keras.layers import Input\n",
        "from keras.models import Model, Sequential\n",
        "from keras.layers.core import Dense, Dropout\n",
        "from keras.layers import LeakyReLU\n",
        "from keras.datasets import mnist\n",
        "from keras.optimizers import Adam\n",
        "from keras import initializers\n",
        "\n",
        "import warnings; warnings.simplefilter('ignore')\n",
        "\n",
        "from io import BytesIO\n",
        "import requests\n",
        "import joblib"
      ]
    },
    {
      "cell_type": "code",
      "source": [
        "os.environ[\"KERAS_BACKEND\"] = \"tensorflow\"\n",
        "\n",
        "np.random.seed(42)\n",
        "random_dim = 100"
      ],
      "metadata": {
        "id": "LpciGJ_D0dnq"
      },
      "execution_count": 73,
      "outputs": []
    },
    {
      "cell_type": "code",
      "source": [
        "(X_train, y_train), (X_test, y_test) = mnist.load_data()\n",
        "X_train = (X_train.astype(np.float32) - 127.5)/127.5  \n",
        "X_train = X_train.reshape(60000, 784)"
      ],
      "metadata": {
        "id": "0nbV7JSc0kgT",
        "colab": {
          "base_uri": "https://localhost:8080/"
        },
        "outputId": "9132804f-4abe-420a-cd30-cc9610366896"
      },
      "execution_count": 114,
      "outputs": [
        {
          "output_type": "stream",
          "name": "stdout",
          "text": [
            "Downloading data from https://storage.googleapis.com/tensorflow/tf-keras-datasets/mnist.npz\n",
            "11490434/11490434 [==============================] - 0s 0us/step\n"
          ]
        }
      ]
    },
    {
      "cell_type": "code",
      "source": [
        "otimizador = Adam(lr=0.0002, beta_1=0.5)"
      ],
      "metadata": {
        "id": "cBKc4ern1Gac"
      },
      "execution_count": null,
      "outputs": []
    },
    {
      "cell_type": "code",
      "source": [
        "gerador = Sequential()\n",
        "gerador.add(Dense(256, input_dim=random_dim, kernel_initializer=initializers.RandomNormal(stddev=0.02)))\n",
        "gerador.add(LeakyReLU(0.2))\n",
        "\n",
        "gerador.add(Dense(512))\n",
        "gerador.add(LeakyReLU(0.2))\n",
        "\n",
        "gerador.add(Dense(1024))\n",
        "gerador.add(LeakyReLU(0.2))\n",
        "\n",
        "gerador.add(Dense(784, activation='tanh'))\n",
        "gerador.compile(loss='binary_crossentropy', optimizer=otimizador)"
      ],
      "metadata": {
        "id": "YASk6fSS1W_g"
      },
      "execution_count": null,
      "outputs": []
    },
    {
      "cell_type": "code",
      "source": [
        "discriminador = Sequential()\n",
        "discriminador.add(Dense(1024, input_dim=784, kernel_initializer=initializers.RandomNormal(stddev=0.02)))\n",
        "discriminador.add(LeakyReLU(0.2))\n",
        "discriminador.add(Dropout(0.3))\n",
        "\n",
        "discriminador.add(Dense(512))\n",
        "discriminador.add(LeakyReLU(0.2))\n",
        "discriminador.add(Dropout(0.3))\n",
        "\n",
        "discriminador.add(Dense(256))\n",
        "discriminador.add(LeakyReLU(0.2))\n",
        "discriminador.add(Dropout(0.3))\n",
        "\n",
        "discriminador.add(Dense(1, activation='sigmoid'))\n",
        "discriminador.compile(loss='binary_crossentropy', optimizer=otimizador)"
      ],
      "metadata": {
        "id": "Cf8prOt51XF-"
      },
      "execution_count": null,
      "outputs": []
    },
    {
      "cell_type": "code",
      "source": [
        "def gerar_gan(discriminador, randomDim, gerador, otimizador):\n",
        "  discriminador.trainable = False\n",
        "  gan_input = Input(shape=(random_dim,))\n",
        "  x = gerador(gan_input)\n",
        "\n",
        "  gan_output = discriminador(x)\n",
        "  gan = Model(inputs=gan_input, outputs=gan_output)\n",
        "  gan.compile(loss='binary_crossentropy', optimizer=otimizador)\n",
        "\n",
        "  return gan"
      ],
      "metadata": {
        "id": "3lw0fqSv1rRp"
      },
      "execution_count": null,
      "outputs": []
    },
    {
      "cell_type": "code",
      "source": [
        "def salvar_digito_gerado(epoca, exemplos=25, dim=(5, 5), figsize=(10, 10)):\n",
        "    noise = np.random.normal(0, 1, size=[exemplos, random_dim])\n",
        "    imagem_gerada = gerador.predict(noise)\n",
        "    imagem_gerada = imagem_gerada.reshape(exemplos, 28, 28)\n",
        "\n",
        "    plt.figure(figsize=figsize)\n",
        "    for i in range(imagem_gerada.shape[0]):\n",
        "        plt.subplot(dim[0], dim[1], i+1)\n",
        "        plt.imshow(imagem_gerada[i], interpolation='nearest', cmap='gray_r')\n",
        "        plt.axis('off')\n",
        "    plt.tight_layout()\n",
        "    plt.savefig('gan_digito_gerado_epoca_%d.png' % epoca)"
      ],
      "metadata": {
        "id": "LX9DS__G1rUZ"
      },
      "execution_count": null,
      "outputs": []
    },
    {
      "cell_type": "code",
      "source": [
        "epochs = 800\n",
        "batchSize = 128\n",
        "\n",
        "gLosses = []\n",
        "dLosses = []\n",
        "\n",
        "batch_count = X_train.shape[0] / batchSize\n",
        "\n",
        "generator = gerador\n",
        "gan = gerar_gan(discriminador, random_dim, gerador, otimizador)\n",
        "\n",
        "batchCount = X_train.shape[0] / batchSize\n",
        "print('Épocas:', epochs)\n",
        "print('Batch size:', batchSize)\n",
        "print('Batches por época:', batchCount)\n",
        "\n",
        "for e in range(1, epochs+1):\n",
        "    print('-'*15, 'Época %d' % e, '-'*15)\n",
        "\n",
        "    noise = np.random.normal(0, 1, size=[batchSize, random_dim])\n",
        "    imageBatch = X_train[np.random.randint(0, X_train.shape[0], size=batchSize)]\n",
        "\n",
        "    imagemGerada = gerador.predict(noise)\n",
        "    X = np.concatenate([imageBatch, imagemGerada])\n",
        "\n",
        "    yDis = np.zeros(2*batchSize)\n",
        "    yDis[:batchSize] = 0.9\n",
        "\n",
        "    discriminador.trainable = True\n",
        "    dloss = discriminador.train_on_batch(X, yDis)\n",
        "\n",
        "    yGen = np.ones(batchSize)\n",
        "    discriminador.trainable = False\n",
        "    gloss = gan.train_on_batch(noise, yGen)\n",
        "\n",
        "    gLosses.append(gloss)\n",
        "    dLosses.append(dloss)\n",
        "\n",
        "    salvar_digito_gerado(e)"
      ],
      "metadata": {
        "id": "q3OHMhVV1rXB"
      },
      "execution_count": null,
      "outputs": []
    },
    {
      "cell_type": "code",
      "source": [
        "gerador.save('GAN_gerador_MNIST.h5')\n",
        "discriminador.save('GAN_discriminador_MNIST.h5')"
      ],
      "metadata": {
        "id": "CZj4HlaWAU-s"
      },
      "execution_count": null,
      "outputs": []
    },
    {
      "cell_type": "markdown",
      "source": [
        "## Carregar o Gerador e criar um novo dígito"
      ],
      "metadata": {
        "id": "AOCOxMwnX7G-"
      }
    },
    {
      "cell_type": "code",
      "source": [
        "z_dim = 100\n",
        "\n",
        "g = keras.models.load_model('/content/gerador.h5')\n",
        "g.summary()"
      ],
      "metadata": {
        "colab": {
          "base_uri": "https://localhost:8080/"
        },
        "id": "kd8GRbpvYAix",
        "outputId": "63413f0c-4b84-4f0d-9495-29b66aa0fcea"
      },
      "execution_count": 124,
      "outputs": [
        {
          "output_type": "stream",
          "name": "stderr",
          "text": [
            "WARNING:tensorflow:Error in loading the saved optimizer state. As a result, your model is starting with a freshly initialized optimizer.\n"
          ]
        },
        {
          "output_type": "stream",
          "name": "stdout",
          "text": [
            "Model: \"sequential\"\n",
            "_________________________________________________________________\n",
            " Layer (type)                Output Shape              Param #   \n",
            "=================================================================\n",
            " dense (Dense)               (None, 256)               25856     \n",
            "                                                                 \n",
            " dense_1 (Dense)             (None, 512)               131584    \n",
            "                                                                 \n",
            " dense_2 (Dense)             (None, 1024)              525312    \n",
            "                                                                 \n",
            " dense_3 (Dense)             (None, 784)               803600    \n",
            "                                                                 \n",
            "=================================================================\n",
            "Total params: 1,486,352\n",
            "Trainable params: 1,486,352\n",
            "Non-trainable params: 0\n",
            "_________________________________________________________________\n"
          ]
        }
      ]
    },
    {
      "cell_type": "code",
      "source": [
        "def gerar_digito(n_ex=10, dim=(1, 10), figsize=(2, 2)):\n",
        "    noise = np.random.normal(0, 1, size=(n_ex, z_dim))\n",
        "    generated_images = g.predict(noise)\n",
        "    generated_images = generated_images.reshape(28, 28)\n",
        "    \n",
        "    plt.figure(figsize=figsize)\n",
        "    plt.imshow(generated_images, interpolation='nearest', cmap=matplotlib.cm.binary)\n",
        "    plt.subplot()    \n",
        "    plt.tight_layout()\n",
        "    plt.axis('off')\n",
        "    plt.savefig(\"digito_gerado.png\")\n",
        "\n",
        "    plt.show()      \n"
      ],
      "metadata": {
        "id": "c2BQJqN1YAfx"
      },
      "execution_count": 125,
      "outputs": []
    },
    {
      "cell_type": "code",
      "source": [
        "gerar_digito(n_ex=1)"
      ],
      "metadata": {
        "colab": {
          "base_uri": "https://localhost:8080/",
          "height": 151
        },
        "id": "BWiL7tTyYKFd",
        "outputId": "2e1a97a9-3f9e-48c0-f4ac-54b10ad573c8"
      },
      "execution_count": 276,
      "outputs": [
        {
          "output_type": "stream",
          "name": "stdout",
          "text": [
            "1/1 [==============================] - 0s 20ms/step\n"
          ]
        },
        {
          "output_type": "display_data",
          "data": {
            "text/plain": [
              "<Figure size 144x144 with 1 Axes>"
            ],
            "image/png": "[encoded data removed]"
          },
          "metadata": {
            "needs_background": "light"
          }
        }
      ]
    },
    {
      "cell_type": "markdown",
      "source": [
        "## Transformar a imagem em um array de pixels"
      ],
      "metadata": {
        "id": "BmOhlIHXW5nP"
      }
    },
    {
      "cell_type": "code",
      "source": [
        "image_list = '/content/digito_gerado.png'\n",
        "array_list = tf.keras.preprocessing.image.img_to_array(tf.keras.preprocessing.image.load_img(image_list, color_mode='grayscale', target_size=(28,28))).reshape(1,784).astype(np.int32)\n",
        "\n",
        "plt.imshow(array_list.reshape(28,28), cmap='gray')\n",
        "plt.show()"
      ],
      "metadata": {
        "colab": {
          "base_uri": "https://localhost:8080/",
          "height": 265
        },
        "id": "uyFCrx7ZW4fJ",
        "outputId": "ab632dad-397d-4295-f2ce-9480b89524fc"
      },
      "execution_count": 280,
      "outputs": [
        {
          "output_type": "display_data",
          "data": {
            "text/plain": [
              "<Figure size 432x288 with 1 Axes>"
            ],
            "image/png": "[encoded data removed]"
          },
          "metadata": {
            "needs_background": "light"
          }
        }
      ]
    },
    {
      "cell_type": "code",
      "source": [
        "mLink = 'https://github.com/diegonogare/MachineLearning/blob/main/modelo_dt_mnist.pkl?raw=true'\n",
        "mfile = BytesIO(requests.get(mLink).content)\n",
        "modelo_dt = joblib.load(mfile)\n",
        "\n",
        "mLink = 'https://github.com/diegonogare/MachineLearning/blob/main/modelo_knn_mnist.pkl?raw=true'\n",
        "mfile = BytesIO(requests.get(mLink).content)\n",
        "modelo_knn = joblib.load(mfile)\n",
        "\n",
        "mLink = 'https://github.com/diegonogare/MachineLearning/blob/main/modelo_mlp_mnist.pkl?raw=true'\n",
        "mfile = BytesIO(requests.get(mLink).content)\n",
        "modelo_mlp = joblib.load(mfile)"
      ],
      "metadata": {
        "id": "z3AOn8fSq0Qc"
      },
      "execution_count": 133,
      "outputs": []
    },
    {
      "cell_type": "code",
      "source": [
        "indice = 8888\n",
        "\n",
        "digito = X_test[indice]\n",
        "print(\"Distribuição dos pixels originalmente: \" + str(digito.shape))\n",
        "\n",
        "digito = digito.reshape(28,28)\n",
        "print(\"Distribuição dos pixels redistribuído para 28X28: \" + str(digito.shape))\n",
        "\n",
        "print(\"No dataset, representa o numero: %d\" % y_test[indice])\n",
        "\n",
        "plt.imshow(digito, cmap=matplotlib.cm.binary)\n",
        "plt.savefig(\"digito_gerado.png\")\n",
        "plt.show()\n",
        "\n",
        "digito = digito.reshape(1,784)"
      ],
      "metadata": {
        "id": "WdpqbxpZD_3e",
        "outputId": "39348868-0d6a-4db7-a6fd-72c4e3e57dfa",
        "colab": {
          "base_uri": "https://localhost:8080/",
          "height": 317
        }
      },
      "execution_count": 282,
      "outputs": [
        {
          "output_type": "stream",
          "name": "stdout",
          "text": [
            "Distribuição dos pixels originalmente: (28, 28)\n",
            "Distribuição dos pixels redistribuído para 28X28: (28, 28)\n",
            "No dataset, representa o numero: 6\n"
          ]
        },
        {
          "output_type": "display_data",
          "data": {
            "text/plain": [
              "<Figure size 432x288 with 1 Axes>"
            ],
            "image/png": "[encoded data removed]"
          },
          "metadata": {
            "needs_background": "light"
          }
        }
      ]
    },
    {
      "cell_type": "code",
      "source": [
        "#digito = (array_list)\n",
        "#digito = abs(digito-255)\n",
        "digito = digito.astype(np.int32)\n",
        "print(digito)\n",
        "\n",
        "plt.imshow(digito.reshape(28,28), cmap='gray')\n",
        "plt.show()\n",
        "\n",
        "predicao_dt = modelo_dt.predict(digito)\n",
        "predicao_dt = predicao_dt.astype(np.int64)\n",
        "\n",
        "predicao_knn = modelo_knn.predict(digito)\n",
        "predicao_knn = predicao_knn.astype(np.int64)\n",
        "\n",
        "predicao_mlp = modelo_mlp.predict(digito)\n",
        "predicao_mlp = predicao_mlp.astype(np.int64)\n",
        "\n",
        "print(\"Com Decisin Tree o modelo identificou: \", predicao_dt);\n",
        "print(\"Com KNN o modelo identificou: \", predicao_knn);\n",
        "print(\"Com MultiLayer Perceptron o modelo identificou: \", predicao_mlp);"
      ],
      "metadata": {
        "id": "j9KXYBORpWpv",
        "outputId": "44e05165-8bed-4b81-b0b3-fbf06e7541d3",
        "colab": {
          "base_uri": "https://localhost:8080/",
          "height": 1000
        }
      },
      "execution_count": 283,
      "outputs": [
        {
          "output_type": "stream",
          "name": "stdout",
          "text": [
            "[[  0   0   0   0   0   0   0   0   0   0   0   0   0   0   0   0   0   0\n",
            "    0   0   0   0   0   0   0   0   0   0   0   0   0   0   0   0   0   0\n",
            "    0   0   0   0   0   0   0   0   0   0   0   0   0   0   0   0   0   0\n",
            "    0   0   0   0   0   0   0   0   0   0   0   0   0   0   0   0   0  59\n",
            "  239 223  35   0   0   0   0   0   0   0   0   0   0   0   0   0   0   0\n",
            "    0   0   0   0   0   0   0   0   0 156 253 253 109   0   0   0   0   0\n",
            "    0   0   0   0   0   0   0   0   0   0   0   0   0   0   0   0   0   0\n",
            "   31 224 253 228  13   0   0   0   0   0   0   0   0   0   0   0   0   0\n",
            "    0   0   0   0   0   0   0   0   0   7 197 254 253 123   0   0   0   0\n",
            "    0   0   0   0   0   0   0   0   0   0   0   0   0   0   0   0   0   0\n",
            "    0 152 253 254 200  18   0   0   0   0   0   0   0   0   0   0   0   0\n",
            "    0   0   0   0   0   0   0   0   0   0  19 239 254 255  76   0   0   0\n",
            "    0   0   0   0   0   0   0   0   0   0   0   0   0   0   0   0   0   0\n",
            "    0  10 196 253 253 158   6   0   0   0   0   0   0   0   0   0   0   0\n",
            "    0   0   0   0   0   0   0   0   0   0   0  50 253 253 222  30   0   0\n",
            "    0   0   0   0   0   0   0   0   0   0   0   0   0   0   0   0   0   0\n",
            "    0   0  55 243 253 253 103   0   0   0   0   0   0   0   0   0   0   0\n",
            "    0   0   0   0   0   0   0   0   0   0   0   0 171 253 253 185  14   0\n",
            "    0   0   0   0   0   0   0   0   0   0   0   0   0   0   0   0   0   0\n",
            "    0   0   0 121 255 254 205   8   0   0   5  89 156 156 134  55   0   0\n",
            "    0   0   0   0   0   0   0   0   0   0   0   0  41 244 254 236  57   0\n",
            "    0   5 150 253 253 253 254 250  74   0   0   0   0   0   0   0   0   0\n",
            "    0   0   0   0 166 253 254 106   0   0   0  89 253 253 253 253 254 253\n",
            "  174   0   0   0   0   0   0   0   0   0   0   0   0 126 251 253 199   3\n",
            "   28 144 234 246 250 183  64 125 254 253  85   0   0   0   0   0   0   0\n",
            "    0   0   0   0   0 175 253 253 120  16 235 253 253 254 121   0  68 239\n",
            "  254 245  48   0   0   0   0   0   0   0   0   0   0   0   0 176 254 254\n",
            "  156 201 254 254 254  76  28 156 254 254 255  76   0   0   0   0   0   0\n",
            "    0   0   0   0   0   0   0 175 253 253 254 253 253 253 177 178 232 253\n",
            "  250 233  76   6   0   0   0   0   0   0   0   0   0   0   0   0   0 145\n",
            "  253 253 254 253 253 253 253 254 253 253 116   0   0   0   0   0   0   0\n",
            "    0   0   0   0   0   0   0   0   0   6 167 253 254 253 253 253 253 229\n",
            "  168  49   2   0   0   0   0   0   0   0   0   0   0   0   0   0   0   0\n",
            "    0   0   9 208 254 253 185 140  58  23   0   0   0   0   0   0   0   0\n",
            "    0   0   0   0   0   0   0   0   0   0   0   0   0   0   0   0   0   0\n",
            "    0   0   0   0   0   0   0   0   0   0   0   0   0   0   0   0   0   0\n",
            "    0   0   0   0   0   0   0   0   0   0   0   0   0   0   0   0   0   0\n",
            "    0   0   0   0   0   0   0   0   0   0   0   0   0   0   0   0   0   0\n",
            "    0   0   0   0   0   0   0   0   0   0   0   0   0   0   0   0   0   0\n",
            "    0   0   0   0   0   0   0   0   0   0   0   0   0   0   0   0   0   0\n",
            "    0   0   0   0   0   0   0   0   0   0   0   0   0   0   0   0   0   0\n",
            "    0   0   0   0   0   0   0   0   0   0   0   0   0   0   0   0   0   0\n",
            "    0   0   0   0   0   0   0   0   0   0   0   0   0   0   0   0   0   0\n",
            "    0   0   0   0   0   0   0   0   0   0]]\n"
          ]
        },
        {
          "output_type": "display_data",
          "data": {
            "text/plain": [
              "<Figure size 432x288 with 1 Axes>"
            ],
            "image/png": "[encoded data removed]"
          },
          "metadata": {
            "needs_background": "light"
          }
        },
        {
          "output_type": "stream",
          "name": "stdout",
          "text": [
            "Com Decisin Tree o modelo identificou:  [6]\n",
            "Com KNN o modelo identificou:  [6]\n",
            "Com MultiLayer Perceptron o modelo identificou:  [6]\n"
          ]
        }
      ]
    }
  ]
}