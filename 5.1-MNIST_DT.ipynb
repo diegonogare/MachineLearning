{
  "nbformat": 4,
  "nbformat_minor": 0,
  "metadata": {
    "colab": {
      "provenance": [],
      "authorship_tag": "ABX9TyMBi+8WZ7j93aqu8dctSRzo"
    },
    "kernelspec": {
      "name": "python3",
      "display_name": "Python 3"
    },
    "language_info": {
      "name": "python"
    }
  },
  "cells": [
    {
      "cell_type": "markdown",
      "source": [
        "#MNist com Decision Tree\n",
        "Neste experimento foram exploradas configurações de hiper-parâmetros do algoritmo Decision Tree, variando **criterion** que é a métrica de qualidade entre *gini* e *entropy*, e o **max_depth** que é a profundidade máxima da árvode em 10, 50 e 80.\n",
        "\n",
        "Para garantir uma reproducibilidade entre este experimento e os demais, o conjunto de dados foi separado em 10 pastas com a técnica de Cross Validation utilizando o estado randômico 42.\n",
        "\n",
        "A combinação dos hiper-parâmetros foi feita utilizando Grid Search, que cruza todas as opções dos dicionários e responde qual é a melhor configuração encontrada. Estas parametrizações são utilizadas para criar um modelo final, que é serializado em um objeto Pickle."
      ],
      "metadata": {
        "id": "i2cympiLKGR3"
      }
    },
    {
      "cell_type": "code",
      "execution_count": 1,
      "metadata": {
        "id": "gz5P84NcKC4B"
      },
      "outputs": [],
      "source": [
        "from sklearn.datasets import fetch_openml\n",
        "\n",
        "import joblib\n",
        "from sklearn.metrics import confusion_matrix,ConfusionMatrixDisplay\n",
        "from sklearn.model_selection import GridSearchCV\n",
        "from sklearn.model_selection import StratifiedKFold\n",
        "\n",
        "from sklearn import tree\n",
        "\n",
        "import time"
      ]
    },
    {
      "cell_type": "code",
      "source": [
        "mnist = fetch_openml('mnist_784')"
      ],
      "metadata": {
        "id": "GWBxGZQAKVjK"
      },
      "execution_count": 2,
      "outputs": []
    },
    {
      "cell_type": "code",
      "source": [
        "X = mnist[\"data\"]\n",
        "y = mnist[\"target\"]\n",
        "\n",
        "print(X.shape)\n",
        "print(y.shape)"
      ],
      "metadata": {
        "colab": {
          "base_uri": "https://localhost:8080/"
        },
        "id": "_dt-XWJEKVlu",
        "outputId": "91af68fc-64da-4cd7-df74-e9f6ea663572"
      },
      "execution_count": 3,
      "outputs": [
        {
          "output_type": "stream",
          "name": "stdout",
          "text": [
            "(70000, 784)\n",
            "(70000,)\n"
          ]
        }
      ]
    },
    {
      "cell_type": "markdown",
      "source": [
        "O objeto $param\\_grid$  recebe a combinação de todos os hiper-parâmetros que pretendo comparar, como a criterion e max_depth.\n",
        "\n",
        "Também estou definindo a segmentação dos dados em 10 pastas e um random_state de 42 para permitir reproducibilidade ao executar este experimento novamente."
      ],
      "metadata": {
        "id": "hHa831eaKaUH"
      }
    },
    {
      "cell_type": "code",
      "source": [
        "param_grid = [{'criterion':['gini','entropy'],\n",
        "               'max_depth':[10,50,80]}]\n",
        "\n",
        "kfolds = StratifiedKFold(n_splits=10, random_state=42, shuffle=True)"
      ],
      "metadata": {
        "id": "LfrQYH7aKVoc"
      },
      "execution_count": 4,
      "outputs": []
    },
    {
      "cell_type": "code",
      "source": [
        "dt = tree.DecisionTreeClassifier()\n",
        "\n",
        "inicio = time.time()\n",
        "grid_search_dt = GridSearchCV(dt, param_grid, cv=kfolds, verbose=3)\n",
        "resultado_modelo = grid_search_dt.fit(X,y)\n",
        "termino = time.time()\n",
        "print(\"--- %s segundos para treinar o modelo ---\" % (termino - inicio))"
      ],
      "metadata": {
        "colab": {
          "base_uri": "https://localhost:8080/"
        },
        "id": "WWxNCOALLnv0",
        "outputId": "b4ef4630-d749-4137-c569-ab5d09bf212d"
      },
      "execution_count": 6,
      "outputs": [
        {
          "output_type": "stream",
          "name": "stdout",
          "text": [
            "Fitting 10 folds for each of 6 candidates, totalling 60 fits\n",
            "[CV 1/10] END .....criterion=gini, max_depth=10;, score=0.858 total time=  11.8s\n",
            "[CV 2/10] END .....criterion=gini, max_depth=10;, score=0.868 total time=  11.6s\n",
            "[CV 3/10] END .....criterion=gini, max_depth=10;, score=0.861 total time=  11.5s\n",
            "[CV 4/10] END .....criterion=gini, max_depth=10;, score=0.855 total time=  11.0s\n",
            "[CV 5/10] END .....criterion=gini, max_depth=10;, score=0.853 total time=  11.0s\n",
            "[CV 6/10] END .....criterion=gini, max_depth=10;, score=0.857 total time=  11.8s\n",
            "[CV 7/10] END .....criterion=gini, max_depth=10;, score=0.865 total time=  11.5s\n",
            "[CV 8/10] END .....criterion=gini, max_depth=10;, score=0.858 total time=  11.5s\n",
            "[CV 9/10] END .....criterion=gini, max_depth=10;, score=0.859 total time=  11.2s\n",
            "[CV 10/10] END ....criterion=gini, max_depth=10;, score=0.856 total time=  11.9s\n",
            "[CV 1/10] END .....criterion=gini, max_depth=50;, score=0.873 total time=  25.7s\n",
            "[CV 2/10] END .....criterion=gini, max_depth=50;, score=0.882 total time=  25.8s\n",
            "[CV 3/10] END .....criterion=gini, max_depth=50;, score=0.877 total time=  26.8s\n",
            "[CV 4/10] END .....criterion=gini, max_depth=50;, score=0.867 total time=  25.4s\n",
            "[CV 5/10] END .....criterion=gini, max_depth=50;, score=0.870 total time=  25.8s\n",
            "[CV 6/10] END .....criterion=gini, max_depth=50;, score=0.872 total time=  25.8s\n",
            "[CV 7/10] END .....criterion=gini, max_depth=50;, score=0.876 total time=  24.7s\n",
            "[CV 8/10] END .....criterion=gini, max_depth=50;, score=0.876 total time=  25.2s\n",
            "[CV 9/10] END .....criterion=gini, max_depth=50;, score=0.879 total time=  31.5s\n",
            "[CV 10/10] END ....criterion=gini, max_depth=50;, score=0.874 total time=  25.0s\n",
            "[CV 1/10] END .....criterion=gini, max_depth=80;, score=0.874 total time=  26.0s\n",
            "[CV 2/10] END .....criterion=gini, max_depth=80;, score=0.883 total time=  26.1s\n",
            "[CV 3/10] END .....criterion=gini, max_depth=80;, score=0.878 total time=  25.3s\n",
            "[CV 4/10] END .....criterion=gini, max_depth=80;, score=0.871 total time=  25.7s\n",
            "[CV 5/10] END .....criterion=gini, max_depth=80;, score=0.872 total time=  26.2s\n",
            "[CV 6/10] END .....criterion=gini, max_depth=80;, score=0.873 total time=  25.7s\n",
            "[CV 7/10] END .....criterion=gini, max_depth=80;, score=0.877 total time=  24.9s\n",
            "[CV 8/10] END .....criterion=gini, max_depth=80;, score=0.871 total time=  25.8s\n",
            "[CV 9/10] END .....criterion=gini, max_depth=80;, score=0.878 total time=  27.8s\n",
            "[CV 10/10] END ....criterion=gini, max_depth=80;, score=0.876 total time=  26.0s\n",
            "[CV 1/10] END ..criterion=entropy, max_depth=10;, score=0.870 total time=  18.6s\n",
            "[CV 2/10] END ..criterion=entropy, max_depth=10;, score=0.879 total time=  18.1s\n",
            "[CV 3/10] END ..criterion=entropy, max_depth=10;, score=0.868 total time=  18.5s\n",
            "[CV 4/10] END ..criterion=entropy, max_depth=10;, score=0.865 total time=  18.2s\n",
            "[CV 5/10] END ..criterion=entropy, max_depth=10;, score=0.866 total time=  18.2s\n",
            "[CV 6/10] END ..criterion=entropy, max_depth=10;, score=0.867 total time=  18.0s\n",
            "[CV 7/10] END ..criterion=entropy, max_depth=10;, score=0.873 total time=  18.1s\n",
            "[CV 8/10] END ..criterion=entropy, max_depth=10;, score=0.870 total time=  18.1s\n",
            "[CV 9/10] END ..criterion=entropy, max_depth=10;, score=0.876 total time=  18.5s\n",
            "[CV 10/10] END .criterion=entropy, max_depth=10;, score=0.867 total time=  18.1s\n",
            "[CV 1/10] END ..criterion=entropy, max_depth=50;, score=0.880 total time=  23.8s\n",
            "[CV 2/10] END ..criterion=entropy, max_depth=50;, score=0.894 total time=  24.6s\n",
            "[CV 3/10] END ..criterion=entropy, max_depth=50;, score=0.882 total time=  24.2s\n",
            "[CV 4/10] END ..criterion=entropy, max_depth=50;, score=0.880 total time=  23.6s\n",
            "[CV 5/10] END ..criterion=entropy, max_depth=50;, score=0.880 total time=  24.5s\n",
            "[CV 6/10] END ..criterion=entropy, max_depth=50;, score=0.882 total time=  23.9s\n",
            "[CV 7/10] END ..criterion=entropy, max_depth=50;, score=0.887 total time=  23.6s\n",
            "[CV 8/10] END ..criterion=entropy, max_depth=50;, score=0.886 total time=  23.6s\n",
            "[CV 9/10] END ..criterion=entropy, max_depth=50;, score=0.888 total time=  23.9s\n",
            "[CV 10/10] END .criterion=entropy, max_depth=50;, score=0.887 total time=  23.7s\n",
            "[CV 1/10] END ..criterion=entropy, max_depth=80;, score=0.878 total time=  23.9s\n",
            "[CV 2/10] END ..criterion=entropy, max_depth=80;, score=0.893 total time=  24.6s\n",
            "[CV 3/10] END ..criterion=entropy, max_depth=80;, score=0.883 total time=  24.0s\n",
            "[CV 4/10] END ..criterion=entropy, max_depth=80;, score=0.879 total time=  23.3s\n",
            "[CV 5/10] END ..criterion=entropy, max_depth=80;, score=0.879 total time=  23.9s\n",
            "[CV 6/10] END ..criterion=entropy, max_depth=80;, score=0.884 total time=  23.9s\n",
            "[CV 7/10] END ..criterion=entropy, max_depth=80;, score=0.888 total time=  24.2s\n",
            "[CV 8/10] END ..criterion=entropy, max_depth=80;, score=0.885 total time=  24.2s\n",
            "[CV 9/10] END ..criterion=entropy, max_depth=80;, score=0.886 total time=  23.4s\n",
            "[CV 10/10] END .criterion=entropy, max_depth=80;, score=0.885 total time=  24.1s\n",
            "--- 1324.7510201931 segundos para treinar o modelo ---\n"
          ]
        }
      ]
    },
    {
      "cell_type": "code",
      "source": [
        "print(\"Melhores Parâmetros\")\n",
        "print(grid_search_dt.best_params_)\n",
        "print(\"**************\")\n",
        "print(\"Melhores Estimadores\")\n",
        "print(grid_search_dt.best_estimator_)\n",
        "print(\"**************\")\n",
        "print(\"Melhores Pontuações\")\n",
        "print(grid_search_dt.best_score_)\n",
        "print(\"**************\")\n",
        "print(grid_search_dt.best_index_)\n",
        "print(\"**************\")"
      ],
      "metadata": {
        "colab": {
          "base_uri": "https://localhost:8080/"
        },
        "id": "rXE6wO3ULnyj",
        "outputId": "ef471bb7-fdb8-4d5b-e011-7771751050f6"
      },
      "execution_count": 8,
      "outputs": [
        {
          "output_type": "stream",
          "name": "stdout",
          "text": [
            "Melhores Parâmetros\n",
            "{'criterion': 'entropy', 'max_depth': 50}\n",
            "**************\n",
            "Melhores Estimadores\n",
            "DecisionTreeClassifier(criterion='entropy', max_depth=50)\n",
            "**************\n",
            "Melhores Pontuações\n",
            "0.8845571428571428\n",
            "**************\n",
            "4\n",
            "**************\n"
          ]
        }
      ]
    },
    {
      "cell_type": "code",
      "source": [
        "joblib.dump(grid_search_dt, \"modelo_dt_mnist.pkl\")"
      ],
      "metadata": {
        "colab": {
          "base_uri": "https://localhost:8080/"
        },
        "id": "e7rtDQx5Ln1A",
        "outputId": "9ecbb138-8ab9-4895-9675-53e6a324366a"
      },
      "execution_count": 9,
      "outputs": [
        {
          "output_type": "execute_result",
          "data": {
            "text/plain": [
              "['modelo_dt_mnist.pkl']"
            ]
          },
          "metadata": {},
          "execution_count": 9
        }
      ]
    }
  ]
}