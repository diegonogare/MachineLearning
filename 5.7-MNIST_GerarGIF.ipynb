{
  "nbformat": 4,
  "nbformat_minor": 0,
  "metadata": {
    "colab": {
      "provenance": [],
      "mount_file_id": "1M09odhBeB260tWgoKjfCByjtjfC9ej5r",
      "authorship_tag": "ABX9TyPpL7e/rTRv3eLQuNDxCo6q"
    },
    "kernelspec": {
      "name": "python3",
      "display_name": "Python 3"
    },
    "language_info": {
      "name": "python"
    }
  },
  "cells": [
    {
      "cell_type": "code",
      "execution_count": null,
      "metadata": {
        "id": "IzrS_rvxfG0U"
      },
      "outputs": [],
      "source": [
        "import glob\n",
        "from PIL import Image, ImageDraw, ImageFont"
      ]
    },
    {
      "cell_type": "code",
      "source": [
        "!wget \"https://github.com/diegonogare/MachineLearning/blob/main/arial.ttf?raw=true\""
      ],
      "metadata": {
        "id": "zpUyl3Nt8c4A"
      },
      "execution_count": null,
      "outputs": []
    },
    {
      "cell_type": "code",
      "source": [
        "!mv \"/content/arial.ttf?raw=true\" \"/content/arial.ttf\""
      ],
      "metadata": {
        "id": "w8lzHmwH9ZZT"
      },
      "execution_count": null,
      "outputs": []
    },
    {
      "cell_type": "code",
      "source": [
        "epoca = 0\n",
        "imagens_titulo = []\n",
        "\n",
        "frames = [Image.open(image) for image in glob.glob(\"/content/drive/MyDrive/Digitos_GAN/*.png\")]\n",
        "fonte_titulo = ImageFont.truetype(\"/content/arial.ttf\", 50)\n",
        "fonte_autor = ImageFont.truetype(\"/content/arial.ttf\", 30)\n",
        "\n",
        "total_epocas = len(frames)\n",
        "\n",
        "for imagem in frames:\n",
        "  epoca += 1\n",
        "  my_image = imagem\n",
        "  title_text = str(\"Época \" + str(epoca) + \"/\" + str(total_epocas))\n",
        "  image_editable = ImageDraw.Draw(my_image)\n",
        "  image_editable.text((15,15), title_text, (255, 0, 0), font=fonte_titulo)\n",
        "  image_editable.text((500,680), \"@DiegoNogare\", (255, 0, 0), font=fonte_autor)\n",
        "  imagens_titulo.append(my_image)\n",
        "\n",
        "frame_one = imagens_titulo[0]\n",
        "frame_one.save(\"digitos.gif\", format=\"GIF\", append_images=frames,\n",
        "            save_all=True, duration=500, loop=0)\n",
        "\n"
      ],
      "metadata": {
        "id": "cncc6UNxhRmt"
      },
      "execution_count": null,
      "outputs": []
    }
  ]
}